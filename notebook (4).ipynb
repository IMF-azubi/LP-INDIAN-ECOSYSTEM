{
 "cells": [
  {
   "cell_type": "markdown",
   "metadata": {},
   "source": [
    "# An Analysis into the Indian Start-up Ecosystem\n"
   ]
  },
  {
   "cell_type": "markdown",
   "metadata": {},
   "source": [
    "## BUSINESS UNDERSTANDING\n",
    "\n",
    "ODYSSEY Inc. is planning to enter the Indian startup ecosystem. As the data expert on the team, I am tasked with conducting an in-depth analysis of the ecosystem to determine the factors that influence the funding received by startups in India. The goal is to identify whether the location of these startups plays a significant role in the amount of funding they receive.\n",
    "\n",
    "The analysis will focus on startup funding data spanning from 2018 to 2021. Separate datasets will be provided for each year, encompassing information about the startups, the funding amounts they received, and details about the investors involved. The primary objective is to investigate and understand whether the location of startups in India has a meaningful impact on the funding they secure.\n",
    "\n",
    "This analysis will inform ODYSSEY Inc.'s strategic decisions and help us devise the most effective course of action within the Indian startup ecosystem."
   ]
  },
  {
   "cell_type": "markdown",
   "metadata": {},
   "source": [
    "#                                               HYPOTHESIS\n",
    "\n",
    "H0: Receiving more funds by startups in India is independent of their location.\n",
    "\n",
    "Ha: Receiving more funds by startups in India depends on their location."
   ]
  },
  {
   "cell_type": "markdown",
   "metadata": {},
   "source": [
    "# Business Question\n",
    "\n",
    "1.\tWhat is the trend in the amount of funding received by Indian startups over the years?\n",
    "2.\tWhich sectors received the highest amount of funding in India from 2018 to 2021?\n",
    "3.\tDo Startups in certain sectors tend to receive more funding than others based on their location\n",
    "4.\tWhat is the total funding amounts received by startups in different locations within India?\n",
    "5.\tWhat are the top 10 companies with the highest funding?\n",
    "6.\tWhat is the top 10 stages average amount of funds received by Indian startups?\n",
    "7.\tWhat are the startups that received the highest funding each year?\n",
    "8.\tAre there any patterns in the location of a company's headquarters and the amount of funding it receives?"
   ]
  },
  {
   "cell_type": "markdown",
   "metadata": {},
   "source": [
    "# Importing Relevant Libraries"
   ]
  },
  {
   "cell_type": "code",
   "execution_count": 153,
   "metadata": {},
   "outputs": [
    {
     "name": "stdout",
     "output_type": "stream",
     "text": [
      "Requirement already satisfied: pyodbc in c:\\users\\hp\\appdata\\local\\packages\\pythonsoftwarefoundation.python.3.10_qbz5n2kfra8p0\\localcache\\local-packages\\python310\\site-packages (5.0.1)\n"
     ]
    },
    {
     "name": "stderr",
     "output_type": "stream",
     "text": [
      "\n",
      "[notice] A new release of pip is available: 23.0.1 -> 23.3.1\n",
      "[notice] To update, run: C:\\Users\\hp\\AppData\\Local\\Microsoft\\WindowsApps\\PythonSoftwareFoundation.Python.3.10_qbz5n2kfra8p0\\python.exe -m pip install --upgrade pip\n"
     ]
    },
    {
     "name": "stdout",
     "output_type": "stream",
     "text": [
      "Requirement already satisfied: plotly in c:\\users\\hp\\appdata\\local\\packages\\pythonsoftwarefoundation.python.3.10_qbz5n2kfra8p0\\localcache\\local-packages\\python310\\site-packages (5.18.0)\n",
      "Requirement already satisfied: tenacity>=6.2.0 in c:\\users\\hp\\appdata\\local\\packages\\pythonsoftwarefoundation.python.3.10_qbz5n2kfra8p0\\localcache\\local-packages\\python310\\site-packages (from plotly) (8.2.3)\n",
      "Requirement already satisfied: packaging in c:\\users\\hp\\appdata\\local\\packages\\pythonsoftwarefoundation.python.3.10_qbz5n2kfra8p0\\localcache\\local-packages\\python310\\site-packages (from plotly) (23.1)\n"
     ]
    },
    {
     "name": "stderr",
     "output_type": "stream",
     "text": [
      "\n",
      "[notice] A new release of pip is available: 23.0.1 -> 23.3.1\n",
      "[notice] To update, run: C:\\Users\\hp\\AppData\\Local\\Microsoft\\WindowsApps\\PythonSoftwareFoundation.Python.3.10_qbz5n2kfra8p0\\python.exe -m pip install --upgrade pip\n"
     ]
    },
    {
     "name": "stdout",
     "output_type": "stream",
     "text": [
      "Requirement already satisfied: scipy in c:\\users\\hp\\appdata\\local\\packages\\pythonsoftwarefoundation.python.3.10_qbz5n2kfra8p0\\localcache\\local-packages\\python310\\site-packages (1.11.3)\n",
      "Requirement already satisfied: numpy<1.28.0,>=1.21.6 in c:\\users\\hp\\appdata\\local\\packages\\pythonsoftwarefoundation.python.3.10_qbz5n2kfra8p0\\localcache\\local-packages\\python310\\site-packages (from scipy) (1.26.1)\n"
     ]
    },
    {
     "name": "stderr",
     "output_type": "stream",
     "text": [
      "\n",
      "[notice] A new release of pip is available: 23.0.1 -> 23.3.1\n",
      "[notice] To update, run: C:\\Users\\hp\\AppData\\Local\\Microsoft\\WindowsApps\\PythonSoftwareFoundation.Python.3.10_qbz5n2kfra8p0\\python.exe -m pip install --upgrade pip\n"
     ]
    },
    {
     "name": "stdout",
     "output_type": "stream",
     "text": [
      "Requirement already satisfied: python-dotenv in c:\\users\\hp\\appdata\\local\\packages\\pythonsoftwarefoundation.python.3.10_qbz5n2kfra8p0\\localcache\\local-packages\\python310\\site-packages (1.0.0)\n"
     ]
    },
    {
     "name": "stderr",
     "output_type": "stream",
     "text": [
      "\n",
      "[notice] A new release of pip is available: 23.0.1 -> 23.3.1\n",
      "[notice] To update, run: C:\\Users\\hp\\AppData\\Local\\Microsoft\\WindowsApps\\PythonSoftwareFoundation.Python.3.10_qbz5n2kfra8p0\\python.exe -m pip install --upgrade pip\n"
     ]
    },
    {
     "name": "stdout",
     "output_type": "stream",
     "text": [
      "Collecting openpyxl\n",
      "  Downloading openpyxl-3.1.2-py2.py3-none-any.whl (249 kB)\n",
      "     ---------------------------------------- 0.0/250.0 kB ? eta -:--:--\n",
      "     - -------------------------------------- 10.2/250.0 kB ? eta -:--:--\n",
      "     - -------------------------------------- 10.2/250.0 kB ? eta -:--:--\n",
      "     - -------------------------------------- 10.2/250.0 kB ? eta -:--:--\n",
      "     - -------------------------------------- 10.2/250.0 kB ? eta -:--:--\n",
      "     ---- -------------------------------- 30.7/250.0 kB 108.9 kB/s eta 0:00:03\n",
      "     ---- -------------------------------- 30.7/250.0 kB 108.9 kB/s eta 0:00:03\n",
      "     ---- -------------------------------- 30.7/250.0 kB 108.9 kB/s eta 0:00:03\n",
      "     ---- -------------------------------- 30.7/250.0 kB 108.9 kB/s eta 0:00:03\n",
      "     ---- -------------------------------- 30.7/250.0 kB 108.9 kB/s eta 0:00:03\n",
      "     ---- -------------------------------- 30.7/250.0 kB 108.9 kB/s eta 0:00:03\n",
      "     ---- -------------------------------- 30.7/250.0 kB 108.9 kB/s eta 0:00:03\n",
      "     ---- -------------------------------- 30.7/250.0 kB 108.9 kB/s eta 0:00:03\n",
      "     ---- -------------------------------- 30.7/250.0 kB 108.9 kB/s eta 0:00:03\n",
      "     ---- -------------------------------- 30.7/250.0 kB 108.9 kB/s eta 0:00:03\n",
      "     ---- -------------------------------- 30.7/250.0 kB 108.9 kB/s eta 0:00:03\n",
      "     ------ ------------------------------- 41.0/250.0 kB 43.7 kB/s eta 0:00:05\n",
      "     ------ ------------------------------- 41.0/250.0 kB 43.7 kB/s eta 0:00:05\n",
      "     --------- ---------------------------- 61.4/250.0 kB 63.0 kB/s eta 0:00:03\n",
      "     --------- ---------------------------- 61.4/250.0 kB 63.0 kB/s eta 0:00:03\n",
      "     ---------- --------------------------- 71.7/250.0 kB 67.7 kB/s eta 0:00:03\n",
      "     ---------- --------------------------- 71.7/250.0 kB 67.7 kB/s eta 0:00:03\n",
      "     ---------- --------------------------- 71.7/250.0 kB 67.7 kB/s eta 0:00:03\n",
      "     ---------- --------------------------- 71.7/250.0 kB 67.7 kB/s eta 0:00:03\n",
      "     ---------- --------------------------- 71.7/250.0 kB 67.7 kB/s eta 0:00:03\n",
      "     ---------- --------------------------- 71.7/250.0 kB 67.7 kB/s eta 0:00:03\n",
      "     ---------- --------------------------- 71.7/250.0 kB 67.7 kB/s eta 0:00:03\n",
      "     ---------- --------------------------- 71.7/250.0 kB 67.7 kB/s eta 0:00:03\n",
      "     ---------- --------------------------- 71.7/250.0 kB 67.7 kB/s eta 0:00:03\n",
      "     ---------- --------------------------- 71.7/250.0 kB 67.7 kB/s eta 0:00:03\n",
      "     ---------- --------------------------- 71.7/250.0 kB 67.7 kB/s eta 0:00:03\n",
      "     ---------- --------------------------- 71.7/250.0 kB 67.7 kB/s eta 0:00:03\n",
      "     ---------- --------------------------- 71.7/250.0 kB 67.7 kB/s eta 0:00:03\n",
      "     ---------- --------------------------- 71.7/250.0 kB 67.7 kB/s eta 0:00:03\n",
      "     ---------- --------------------------- 71.7/250.0 kB 67.7 kB/s eta 0:00:03\n",
      "     ---------- --------------------------- 71.7/250.0 kB 67.7 kB/s eta 0:00:03\n",
      "     ---------- --------------------------- 71.7/250.0 kB 67.7 kB/s eta 0:00:03\n",
      "     ----------------------------- ------ 204.8/250.0 kB 114.2 kB/s eta 0:00:01\n",
      "     ----------------------------- ------ 204.8/250.0 kB 114.2 kB/s eta 0:00:01\n",
      "     ----------------------------- ------ 204.8/250.0 kB 114.2 kB/s eta 0:00:01\n",
      "     ----------------------------- ------ 204.8/250.0 kB 114.2 kB/s eta 0:00:01\n",
      "     ----------------------------- ------ 204.8/250.0 kB 114.2 kB/s eta 0:00:01\n",
      "     ----------------------------- ------ 204.8/250.0 kB 114.2 kB/s eta 0:00:01\n",
      "     ----------------------------- ------ 204.8/250.0 kB 114.2 kB/s eta 0:00:01\n",
      "     ----------------------------- ------ 204.8/250.0 kB 114.2 kB/s eta 0:00:01\n",
      "     ----------------------------- ------ 204.8/250.0 kB 114.2 kB/s eta 0:00:01\n",
      "     ----------------------------- ------ 204.8/250.0 kB 114.2 kB/s eta 0:00:01\n",
      "     ----------------------------- ------ 204.8/250.0 kB 114.2 kB/s eta 0:00:01\n",
      "     ----------------------------- ------ 204.8/250.0 kB 114.2 kB/s eta 0:00:01\n",
      "     ----------------------------- ------ 204.8/250.0 kB 114.2 kB/s eta 0:00:01\n",
      "     ----------------------------- ------ 204.8/250.0 kB 114.2 kB/s eta 0:00:01\n",
      "     ----------------------------- ------ 204.8/250.0 kB 114.2 kB/s eta 0:00:01\n",
      "     ----------------------------- ------ 204.8/250.0 kB 114.2 kB/s eta 0:00:01\n",
      "     ----------------------------- ------ 204.8/250.0 kB 114.2 kB/s eta 0:00:01\n",
      "     ----------------------------- ------ 204.8/250.0 kB 114.2 kB/s eta 0:00:01\n",
      "     ----------------------------- ------ 204.8/250.0 kB 114.2 kB/s eta 0:00:01\n",
      "     ----------------------------- ------ 204.8/250.0 kB 114.2 kB/s eta 0:00:01\n",
      "     ----------------------------- ------ 204.8/250.0 kB 114.2 kB/s eta 0:00:01\n",
      "     ----------------------------- ------ 204.8/250.0 kB 114.2 kB/s eta 0:00:01\n",
      "     ----------------------------- ------ 204.8/250.0 kB 114.2 kB/s eta 0:00:01\n",
      "     ----------------------------- ------ 204.8/250.0 kB 114.2 kB/s eta 0:00:01\n",
      "     ----------------------------- ------ 204.8/250.0 kB 114.2 kB/s eta 0:00:01\n",
      "     ----------------------------- ------ 204.8/250.0 kB 114.2 kB/s eta 0:00:01\n",
      "     ----------------------------- ------ 204.8/250.0 kB 114.2 kB/s eta 0:00:01\n",
      "     ----------------------------- ------ 204.8/250.0 kB 114.2 kB/s eta 0:00:01\n",
      "     ----------------------------- ------ 204.8/250.0 kB 114.2 kB/s eta 0:00:01\n",
      "     ----------------------------- ------ 204.8/250.0 kB 114.2 kB/s eta 0:00:01\n",
      "     ----------------------------- ------ 204.8/250.0 kB 114.2 kB/s eta 0:00:01\n",
      "     ----------------------------- ------ 204.8/250.0 kB 114.2 kB/s eta 0:00:01\n",
      "     ----------------------------- ------ 204.8/250.0 kB 114.2 kB/s eta 0:00:01\n",
      "     ----------------------------- ------ 204.8/250.0 kB 114.2 kB/s eta 0:00:01\n",
      "     ----------------------------- ------ 204.8/250.0 kB 114.2 kB/s eta 0:00:01\n",
      "     ----------------------------- ------ 204.8/250.0 kB 114.2 kB/s eta 0:00:01\n",
      "     ----------------------------- ------ 204.8/250.0 kB 114.2 kB/s eta 0:00:01\n",
      "     ------------------------------------  245.8/250.0 kB 68.2 kB/s eta 0:00:01\n",
      "     ------------------------------------- 250.0/250.0 kB 69.1 kB/s eta 0:00:00\n",
      "Collecting et-xmlfile\n",
      "  Downloading et_xmlfile-1.1.0-py3-none-any.whl (4.7 kB)\n",
      "Installing collected packages: et-xmlfile, openpyxl\n",
      "Successfully installed et-xmlfile-1.1.0 openpyxl-3.1.2\n"
     ]
    },
    {
     "name": "stderr",
     "output_type": "stream",
     "text": [
      "\n",
      "[notice] A new release of pip is available: 23.0.1 -> 23.3.1\n",
      "[notice] To update, run: C:\\Users\\hp\\AppData\\Local\\Microsoft\\WindowsApps\\PythonSoftwareFoundation.Python.3.10_qbz5n2kfra8p0\\python.exe -m pip install --upgrade pip\n"
     ]
    }
   ],
   "source": [
    "! pip install pyodbc\n",
    "! pip install plotly \n",
    "! pip install  scipy\n",
    "! pip install python-dotenv\n",
    "! pip install openpyxl\n"
   ]
  },
  {
   "cell_type": "code",
   "execution_count": 3,
   "metadata": {},
   "outputs": [],
   "source": [
    "import pyodbc \n",
    "import pandas as pd\n",
    "import numpy as np\n",
    "import re\n",
    "import copy\n",
    "from dotenv import dotenv_values \n",
    "from sklearn.impute import SimpleImputer\n",
    "from scipy import stats\n",
    "from scipy.stats import f_oneway\n",
    "from statsmodels.stats.multicomp import pairwise_tukeyhsd\n",
    "\n",
    "import warnings \n",
    "warnings.filterwarnings('ignore')\n",
    "\n",
    "import matplotlib.pyplot as plt\n",
    "import seaborn as sns\n",
    "import plotly.express as px"
   ]
  },
  {
   "cell_type": "markdown",
   "metadata": {},
   "source": [
    "# LOADING  DATA FROM SQL SOURCES"
   ]
  },
  {
   "cell_type": "code",
   "execution_count": 4,
   "metadata": {},
   "outputs": [],
   "source": [
    "#PULLING VARIABLES from an environment\n",
    "environment_variables = dotenv_values('.env')\n",
    " \n",
    "database = environment_variables.get(\"database_name\")\n",
    "server = environment_variables.get(\"server_name\")\n",
    "username = environment_variables.get(\"Login\")\n",
    "password = environment_variables.get(\"password\")\n",
    " \n",
    "# defining a connection string for connecting to our SQL server datatbase\n",
    "connection_string = f\"DRIVER={{SQL Server}};SERVER={server};DATABASE={database};UID={username};PWD={password}\"\n",
    "\n",
    "# establish a database connection using the 'pyodbc' library\n",
    "connection = pyodbc.connect(connection_string)\n"
   ]
  },
  {
   "cell_type": "markdown",
   "metadata": {},
   "source": [
    "* 2020 Dataset"
   ]
  },
  {
   "cell_type": "code",
   "execution_count": 5,
   "metadata": {},
   "outputs": [
    {
     "data": {
      "text/html": [
       "<div>\n",
       "<style scoped>\n",
       "    .dataframe tbody tr th:only-of-type {\n",
       "        vertical-align: middle;\n",
       "    }\n",
       "\n",
       "    .dataframe tbody tr th {\n",
       "        vertical-align: top;\n",
       "    }\n",
       "\n",
       "    .dataframe thead th {\n",
       "        text-align: right;\n",
       "    }\n",
       "</style>\n",
       "<table border=\"1\" class=\"dataframe\">\n",
       "  <thead>\n",
       "    <tr style=\"text-align: right;\">\n",
       "      <th></th>\n",
       "      <th>Company_Brand</th>\n",
       "      <th>Founded</th>\n",
       "      <th>HeadQuarter</th>\n",
       "      <th>Sector</th>\n",
       "      <th>What_it_does</th>\n",
       "      <th>Founders</th>\n",
       "      <th>Investor</th>\n",
       "      <th>Amount</th>\n",
       "      <th>Stage</th>\n",
       "      <th>column10</th>\n",
       "    </tr>\n",
       "  </thead>\n",
       "  <tbody>\n",
       "    <tr>\n",
       "      <th>0</th>\n",
       "      <td>Aqgromalin</td>\n",
       "      <td>2019.0</td>\n",
       "      <td>Chennai</td>\n",
       "      <td>AgriTech</td>\n",
       "      <td>Cultivating Ideas for Profit</td>\n",
       "      <td>Prasanna Manogaran, Bharani C L</td>\n",
       "      <td>Angel investors</td>\n",
       "      <td>200000.0</td>\n",
       "      <td>None</td>\n",
       "      <td>None</td>\n",
       "    </tr>\n",
       "    <tr>\n",
       "      <th>1</th>\n",
       "      <td>Krayonnz</td>\n",
       "      <td>2019.0</td>\n",
       "      <td>Bangalore</td>\n",
       "      <td>EdTech</td>\n",
       "      <td>An academy-guardian-scholar centric ecosystem ...</td>\n",
       "      <td>Saurabh Dixit, Gurudutt Upadhyay</td>\n",
       "      <td>GSF Accelerator</td>\n",
       "      <td>100000.0</td>\n",
       "      <td>Pre-seed</td>\n",
       "      <td>None</td>\n",
       "    </tr>\n",
       "    <tr>\n",
       "      <th>2</th>\n",
       "      <td>PadCare Labs</td>\n",
       "      <td>2018.0</td>\n",
       "      <td>Pune</td>\n",
       "      <td>Hygiene management</td>\n",
       "      <td>Converting bio-hazardous waste to harmless waste</td>\n",
       "      <td>Ajinkya Dhariya</td>\n",
       "      <td>Venture Center</td>\n",
       "      <td>NaN</td>\n",
       "      <td>Pre-seed</td>\n",
       "      <td>None</td>\n",
       "    </tr>\n",
       "    <tr>\n",
       "      <th>3</th>\n",
       "      <td>NCOME</td>\n",
       "      <td>2020.0</td>\n",
       "      <td>New Delhi</td>\n",
       "      <td>Escrow</td>\n",
       "      <td>Escrow-as-a-service platform</td>\n",
       "      <td>Ritesh Tiwari</td>\n",
       "      <td>Venture Catalysts, PointOne Capital</td>\n",
       "      <td>400000.0</td>\n",
       "      <td>None</td>\n",
       "      <td>None</td>\n",
       "    </tr>\n",
       "    <tr>\n",
       "      <th>4</th>\n",
       "      <td>Gramophone</td>\n",
       "      <td>2016.0</td>\n",
       "      <td>Indore</td>\n",
       "      <td>AgriTech</td>\n",
       "      <td>Gramophone is an AgTech platform enabling acce...</td>\n",
       "      <td>Ashish Rajan Singh, Harshit Gupta, Nishant Mah...</td>\n",
       "      <td>Siana Capital Management, Info Edge</td>\n",
       "      <td>340000.0</td>\n",
       "      <td>None</td>\n",
       "      <td>None</td>\n",
       "    </tr>\n",
       "  </tbody>\n",
       "</table>\n",
       "</div>"
      ],
      "text/plain": [
       "  Company_Brand  Founded HeadQuarter              Sector  \\\n",
       "0    Aqgromalin   2019.0     Chennai            AgriTech   \n",
       "1      Krayonnz   2019.0   Bangalore              EdTech   \n",
       "2  PadCare Labs   2018.0        Pune  Hygiene management   \n",
       "3         NCOME   2020.0   New Delhi              Escrow   \n",
       "4    Gramophone   2016.0      Indore            AgriTech   \n",
       "\n",
       "                                        What_it_does  \\\n",
       "0                       Cultivating Ideas for Profit   \n",
       "1  An academy-guardian-scholar centric ecosystem ...   \n",
       "2   Converting bio-hazardous waste to harmless waste   \n",
       "3                       Escrow-as-a-service platform   \n",
       "4  Gramophone is an AgTech platform enabling acce...   \n",
       "\n",
       "                                            Founders  \\\n",
       "0                    Prasanna Manogaran, Bharani C L   \n",
       "1                   Saurabh Dixit, Gurudutt Upadhyay   \n",
       "2                                    Ajinkya Dhariya   \n",
       "3                                      Ritesh Tiwari   \n",
       "4  Ashish Rajan Singh, Harshit Gupta, Nishant Mah...   \n",
       "\n",
       "                              Investor    Amount     Stage column10  \n",
       "0                      Angel investors  200000.0      None     None  \n",
       "1                      GSF Accelerator  100000.0  Pre-seed     None  \n",
       "2                       Venture Center       NaN  Pre-seed     None  \n",
       "3  Venture Catalysts, PointOne Capital  400000.0      None     None  \n",
       "4  Siana Capital Management, Info Edge  340000.0      None     None  "
      ]
     },
     "execution_count": 5,
     "metadata": {},
     "output_type": "execute_result"
    }
   ],
   "source": [
    "# SQL query to retrieve data from the 'LP1_startup_funding2020' table in a database\n",
    "query2020 = \"Select * from dbo.LP1_startup_funding2020\"\n",
    "\n",
    "# read the results of the SQL query into a DataFrame\n",
    "df2020 = pd.read_sql(query2020, connection)\n",
    "\n",
    "df2020=pd.DataFrame(df2020)\n",
    "\n",
    "df2020.head()"
   ]
  },
  {
   "cell_type": "markdown",
   "metadata": {},
   "source": [
    "* 2021 Dataset"
   ]
  },
  {
   "cell_type": "code",
   "execution_count": 6,
   "metadata": {},
   "outputs": [
    {
     "data": {
      "text/html": [
       "<div>\n",
       "<style scoped>\n",
       "    .dataframe tbody tr th:only-of-type {\n",
       "        vertical-align: middle;\n",
       "    }\n",
       "\n",
       "    .dataframe tbody tr th {\n",
       "        vertical-align: top;\n",
       "    }\n",
       "\n",
       "    .dataframe thead th {\n",
       "        text-align: right;\n",
       "    }\n",
       "</style>\n",
       "<table border=\"1\" class=\"dataframe\">\n",
       "  <thead>\n",
       "    <tr style=\"text-align: right;\">\n",
       "      <th></th>\n",
       "      <th>Company_Brand</th>\n",
       "      <th>Founded</th>\n",
       "      <th>HeadQuarter</th>\n",
       "      <th>Sector</th>\n",
       "      <th>What_it_does</th>\n",
       "      <th>Founders</th>\n",
       "      <th>Investor</th>\n",
       "      <th>Amount</th>\n",
       "      <th>Stage</th>\n",
       "    </tr>\n",
       "  </thead>\n",
       "  <tbody>\n",
       "    <tr>\n",
       "      <th>0</th>\n",
       "      <td>Unbox Robotics</td>\n",
       "      <td>2019.0</td>\n",
       "      <td>Bangalore</td>\n",
       "      <td>AI startup</td>\n",
       "      <td>Unbox Robotics builds on-demand AI-driven ware...</td>\n",
       "      <td>Pramod Ghadge, Shahid Memon</td>\n",
       "      <td>BEENEXT, Entrepreneur First</td>\n",
       "      <td>$1,200,000</td>\n",
       "      <td>Pre-series A</td>\n",
       "    </tr>\n",
       "    <tr>\n",
       "      <th>1</th>\n",
       "      <td>upGrad</td>\n",
       "      <td>2015.0</td>\n",
       "      <td>Mumbai</td>\n",
       "      <td>EdTech</td>\n",
       "      <td>UpGrad is an online higher education platform.</td>\n",
       "      <td>Mayank Kumar, Phalgun Kompalli, Ravijot Chugh,...</td>\n",
       "      <td>Unilazer Ventures, IIFL Asset Management</td>\n",
       "      <td>$120,000,000</td>\n",
       "      <td>None</td>\n",
       "    </tr>\n",
       "    <tr>\n",
       "      <th>2</th>\n",
       "      <td>Lead School</td>\n",
       "      <td>2012.0</td>\n",
       "      <td>Mumbai</td>\n",
       "      <td>EdTech</td>\n",
       "      <td>LEAD School offers technology based school tra...</td>\n",
       "      <td>Smita Deorah, Sumeet Mehta</td>\n",
       "      <td>GSV Ventures, Westbridge Capital</td>\n",
       "      <td>$30,000,000</td>\n",
       "      <td>Series D</td>\n",
       "    </tr>\n",
       "    <tr>\n",
       "      <th>3</th>\n",
       "      <td>Bizongo</td>\n",
       "      <td>2015.0</td>\n",
       "      <td>Mumbai</td>\n",
       "      <td>B2B E-commerce</td>\n",
       "      <td>Bizongo is a business-to-business online marke...</td>\n",
       "      <td>Aniket Deb, Ankit Tomar, Sachin Agrawal</td>\n",
       "      <td>CDC Group, IDG Capital</td>\n",
       "      <td>$51,000,000</td>\n",
       "      <td>Series C</td>\n",
       "    </tr>\n",
       "    <tr>\n",
       "      <th>4</th>\n",
       "      <td>FypMoney</td>\n",
       "      <td>2021.0</td>\n",
       "      <td>Gurugram</td>\n",
       "      <td>FinTech</td>\n",
       "      <td>FypMoney is Digital NEO Bank for Teenagers, em...</td>\n",
       "      <td>Kapil Banwari</td>\n",
       "      <td>Liberatha Kallat, Mukesh Yadav, Dinesh Nagpal</td>\n",
       "      <td>$2,000,000</td>\n",
       "      <td>Seed</td>\n",
       "    </tr>\n",
       "  </tbody>\n",
       "</table>\n",
       "</div>"
      ],
      "text/plain": [
       "    Company_Brand  Founded HeadQuarter          Sector  \\\n",
       "0  Unbox Robotics   2019.0   Bangalore      AI startup   \n",
       "1          upGrad   2015.0      Mumbai          EdTech   \n",
       "2     Lead School   2012.0      Mumbai          EdTech   \n",
       "3         Bizongo   2015.0      Mumbai  B2B E-commerce   \n",
       "4        FypMoney   2021.0    Gurugram         FinTech   \n",
       "\n",
       "                                        What_it_does  \\\n",
       "0  Unbox Robotics builds on-demand AI-driven ware...   \n",
       "1     UpGrad is an online higher education platform.   \n",
       "2  LEAD School offers technology based school tra...   \n",
       "3  Bizongo is a business-to-business online marke...   \n",
       "4  FypMoney is Digital NEO Bank for Teenagers, em...   \n",
       "\n",
       "                                            Founders  \\\n",
       "0                        Pramod Ghadge, Shahid Memon   \n",
       "1  Mayank Kumar, Phalgun Kompalli, Ravijot Chugh,...   \n",
       "2                         Smita Deorah, Sumeet Mehta   \n",
       "3            Aniket Deb, Ankit Tomar, Sachin Agrawal   \n",
       "4                                      Kapil Banwari   \n",
       "\n",
       "                                        Investor        Amount         Stage  \n",
       "0                    BEENEXT, Entrepreneur First    $1,200,000  Pre-series A  \n",
       "1       Unilazer Ventures, IIFL Asset Management  $120,000,000          None  \n",
       "2               GSV Ventures, Westbridge Capital   $30,000,000      Series D  \n",
       "3                         CDC Group, IDG Capital   $51,000,000      Series C  \n",
       "4  Liberatha Kallat, Mukesh Yadav, Dinesh Nagpal    $2,000,000          Seed  "
      ]
     },
     "execution_count": 6,
     "metadata": {},
     "output_type": "execute_result"
    }
   ],
   "source": [
    "# SQL query to retrieve data from the 'LP1_startup_funding2021' table in a database\n",
    "query2021 = \"Select * from dbo.LP1_startup_funding2021\"\n",
    "\n",
    "# read the results of the SQL query into a DataFrame\n",
    "df2021 = pd.read_sql(query2021, connection)\n",
    "\n",
    "df2021 = pd.DataFrame(df2021)\n",
    "\n",
    "df2021.head()"
   ]
  },
  {
   "cell_type": "markdown",
   "metadata": {},
   "source": [
    "# Loading CSV Data files\n",
    "\n",
    "* 2019 Dataset"
   ]
  },
  {
   "cell_type": "code",
   "execution_count": 7,
   "metadata": {},
   "outputs": [
    {
     "data": {
      "text/html": [
       "<div>\n",
       "<style scoped>\n",
       "    .dataframe tbody tr th:only-of-type {\n",
       "        vertical-align: middle;\n",
       "    }\n",
       "\n",
       "    .dataframe tbody tr th {\n",
       "        vertical-align: top;\n",
       "    }\n",
       "\n",
       "    .dataframe thead th {\n",
       "        text-align: right;\n",
       "    }\n",
       "</style>\n",
       "<table border=\"1\" class=\"dataframe\">\n",
       "  <thead>\n",
       "    <tr style=\"text-align: right;\">\n",
       "      <th></th>\n",
       "      <th>Company/Brand</th>\n",
       "      <th>Founded</th>\n",
       "      <th>HeadQuarter</th>\n",
       "      <th>Sector</th>\n",
       "      <th>What it does</th>\n",
       "      <th>Founders</th>\n",
       "      <th>Investor</th>\n",
       "      <th>Amount($)</th>\n",
       "      <th>Stage</th>\n",
       "    </tr>\n",
       "  </thead>\n",
       "  <tbody>\n",
       "    <tr>\n",
       "      <th>0</th>\n",
       "      <td>Bombay Shaving</td>\n",
       "      <td>NaN</td>\n",
       "      <td>NaN</td>\n",
       "      <td>Ecommerce</td>\n",
       "      <td>Provides a range of male grooming products</td>\n",
       "      <td>Shantanu Deshpande</td>\n",
       "      <td>Sixth Sense Ventures</td>\n",
       "      <td>$6,300,000</td>\n",
       "      <td>NaN</td>\n",
       "    </tr>\n",
       "    <tr>\n",
       "      <th>1</th>\n",
       "      <td>Ruangguru</td>\n",
       "      <td>2014.0</td>\n",
       "      <td>Mumbai</td>\n",
       "      <td>Edtech</td>\n",
       "      <td>A learning platform that provides topic-based ...</td>\n",
       "      <td>Adamas Belva Syah Devara, Iman Usman.</td>\n",
       "      <td>General Atlantic</td>\n",
       "      <td>$150,000,000</td>\n",
       "      <td>Series C</td>\n",
       "    </tr>\n",
       "    <tr>\n",
       "      <th>2</th>\n",
       "      <td>Eduisfun</td>\n",
       "      <td>NaN</td>\n",
       "      <td>Mumbai</td>\n",
       "      <td>Edtech</td>\n",
       "      <td>It aims to make learning fun via games.</td>\n",
       "      <td>Jatin Solanki</td>\n",
       "      <td>Deepak Parekh, Amitabh Bachchan, Piyush Pandey</td>\n",
       "      <td>$28,000,000</td>\n",
       "      <td>Fresh funding</td>\n",
       "    </tr>\n",
       "    <tr>\n",
       "      <th>3</th>\n",
       "      <td>HomeLane</td>\n",
       "      <td>2014.0</td>\n",
       "      <td>Chennai</td>\n",
       "      <td>Interior design</td>\n",
       "      <td>Provides interior designing solutions</td>\n",
       "      <td>Srikanth Iyer, Rama Harinath</td>\n",
       "      <td>Evolvence India Fund (EIF), Pidilite Group, FJ...</td>\n",
       "      <td>$30,000,000</td>\n",
       "      <td>Series D</td>\n",
       "    </tr>\n",
       "    <tr>\n",
       "      <th>4</th>\n",
       "      <td>Nu Genes</td>\n",
       "      <td>2004.0</td>\n",
       "      <td>Telangana</td>\n",
       "      <td>AgriTech</td>\n",
       "      <td>It is a seed company engaged in production, pr...</td>\n",
       "      <td>Narayana Reddy Punyala</td>\n",
       "      <td>Innovation in Food and Agriculture (IFA)</td>\n",
       "      <td>$6,000,000</td>\n",
       "      <td>NaN</td>\n",
       "    </tr>\n",
       "  </tbody>\n",
       "</table>\n",
       "</div>"
      ],
      "text/plain": [
       "    Company/Brand  Founded HeadQuarter           Sector  \\\n",
       "0  Bombay Shaving      NaN         NaN        Ecommerce   \n",
       "1       Ruangguru   2014.0      Mumbai           Edtech   \n",
       "2        Eduisfun      NaN      Mumbai           Edtech   \n",
       "3        HomeLane   2014.0     Chennai  Interior design   \n",
       "4        Nu Genes   2004.0   Telangana         AgriTech   \n",
       "\n",
       "                                        What it does  \\\n",
       "0         Provides a range of male grooming products   \n",
       "1  A learning platform that provides topic-based ...   \n",
       "2            It aims to make learning fun via games.   \n",
       "3              Provides interior designing solutions   \n",
       "4  It is a seed company engaged in production, pr...   \n",
       "\n",
       "                                Founders  \\\n",
       "0                     Shantanu Deshpande   \n",
       "1  Adamas Belva Syah Devara, Iman Usman.   \n",
       "2                          Jatin Solanki   \n",
       "3           Srikanth Iyer, Rama Harinath   \n",
       "4                 Narayana Reddy Punyala   \n",
       "\n",
       "                                            Investor     Amount($)  \\\n",
       "0                               Sixth Sense Ventures    $6,300,000   \n",
       "1                                   General Atlantic  $150,000,000   \n",
       "2     Deepak Parekh, Amitabh Bachchan, Piyush Pandey   $28,000,000   \n",
       "3  Evolvence India Fund (EIF), Pidilite Group, FJ...   $30,000,000   \n",
       "4           Innovation in Food and Agriculture (IFA)    $6,000,000   \n",
       "\n",
       "           Stage  \n",
       "0            NaN  \n",
       "1       Series C  \n",
       "2  Fresh funding  \n",
       "3       Series D  \n",
       "4            NaN  "
      ]
     },
     "execution_count": 7,
     "metadata": {},
     "output_type": "execute_result"
    }
   ],
   "source": [
    "df2019 = pd.read_csv(\"startup_funding2019.CSV\")\n",
    "\n",
    "df2019=pd.DataFrame(df2019)\n",
    "\n",
    "df2019.head()"
   ]
  },
  {
   "cell_type": "markdown",
   "metadata": {},
   "source": [
    "* 2018 Dataset"
   ]
  },
  {
   "cell_type": "code",
   "execution_count": 8,
   "metadata": {},
   "outputs": [
    {
     "data": {
      "text/html": [
       "<div>\n",
       "<style scoped>\n",
       "    .dataframe tbody tr th:only-of-type {\n",
       "        vertical-align: middle;\n",
       "    }\n",
       "\n",
       "    .dataframe tbody tr th {\n",
       "        vertical-align: top;\n",
       "    }\n",
       "\n",
       "    .dataframe thead th {\n",
       "        text-align: right;\n",
       "    }\n",
       "</style>\n",
       "<table border=\"1\" class=\"dataframe\">\n",
       "  <thead>\n",
       "    <tr style=\"text-align: right;\">\n",
       "      <th></th>\n",
       "      <th>Company Name</th>\n",
       "      <th>Industry</th>\n",
       "      <th>Round/Series</th>\n",
       "      <th>Amount</th>\n",
       "      <th>Location</th>\n",
       "      <th>About Company</th>\n",
       "    </tr>\n",
       "  </thead>\n",
       "  <tbody>\n",
       "    <tr>\n",
       "      <th>0</th>\n",
       "      <td>TheCollegeFever</td>\n",
       "      <td>Brand Marketing, Event Promotion, Marketing, S...</td>\n",
       "      <td>Seed</td>\n",
       "      <td>250000</td>\n",
       "      <td>Bangalore, Karnataka, India</td>\n",
       "      <td>TheCollegeFever is a hub for fun, fiesta and f...</td>\n",
       "    </tr>\n",
       "    <tr>\n",
       "      <th>1</th>\n",
       "      <td>Happy Cow Dairy</td>\n",
       "      <td>Agriculture, Farming</td>\n",
       "      <td>Seed</td>\n",
       "      <td>₹40,000,000</td>\n",
       "      <td>Mumbai, Maharashtra, India</td>\n",
       "      <td>A startup which aggregates milk from dairy far...</td>\n",
       "    </tr>\n",
       "    <tr>\n",
       "      <th>2</th>\n",
       "      <td>MyLoanCare</td>\n",
       "      <td>Credit, Financial Services, Lending, Marketplace</td>\n",
       "      <td>Series A</td>\n",
       "      <td>₹65,000,000</td>\n",
       "      <td>Gurgaon, Haryana, India</td>\n",
       "      <td>Leading Online Loans Marketplace in India</td>\n",
       "    </tr>\n",
       "    <tr>\n",
       "      <th>3</th>\n",
       "      <td>PayMe India</td>\n",
       "      <td>Financial Services, FinTech</td>\n",
       "      <td>Angel</td>\n",
       "      <td>2000000</td>\n",
       "      <td>Noida, Uttar Pradesh, India</td>\n",
       "      <td>PayMe India is an innovative FinTech organizat...</td>\n",
       "    </tr>\n",
       "    <tr>\n",
       "      <th>4</th>\n",
       "      <td>Eunimart</td>\n",
       "      <td>E-Commerce Platforms, Retail, SaaS</td>\n",
       "      <td>Seed</td>\n",
       "      <td>—</td>\n",
       "      <td>Hyderabad, Andhra Pradesh, India</td>\n",
       "      <td>Eunimart is a one stop solution for merchants ...</td>\n",
       "    </tr>\n",
       "  </tbody>\n",
       "</table>\n",
       "</div>"
      ],
      "text/plain": [
       "      Company Name                                           Industry  \\\n",
       "0  TheCollegeFever  Brand Marketing, Event Promotion, Marketing, S...   \n",
       "1  Happy Cow Dairy                               Agriculture, Farming   \n",
       "2       MyLoanCare   Credit, Financial Services, Lending, Marketplace   \n",
       "3      PayMe India                        Financial Services, FinTech   \n",
       "4         Eunimart                 E-Commerce Platforms, Retail, SaaS   \n",
       "\n",
       "  Round/Series       Amount                          Location  \\\n",
       "0         Seed       250000       Bangalore, Karnataka, India   \n",
       "1         Seed  ₹40,000,000        Mumbai, Maharashtra, India   \n",
       "2     Series A  ₹65,000,000           Gurgaon, Haryana, India   \n",
       "3        Angel      2000000       Noida, Uttar Pradesh, India   \n",
       "4         Seed            —  Hyderabad, Andhra Pradesh, India   \n",
       "\n",
       "                                       About Company  \n",
       "0  TheCollegeFever is a hub for fun, fiesta and f...  \n",
       "1  A startup which aggregates milk from dairy far...  \n",
       "2          Leading Online Loans Marketplace in India  \n",
       "3  PayMe India is an innovative FinTech organizat...  \n",
       "4  Eunimart is a one stop solution for merchants ...  "
      ]
     },
     "execution_count": 8,
     "metadata": {},
     "output_type": "execute_result"
    }
   ],
   "source": [
    "df2018 = pd.read_csv(\"startup_funding2018.CSV\")\n",
    "\n",
    "df2018=pd.DataFrame(df2018)\n",
    "\n",
    "df2018.head()"
   ]
  },
  {
   "cell_type": "markdown",
   "metadata": {},
   "source": [
    "# DATA CLEANING & EDA"
   ]
  },
  {
   "cell_type": "markdown",
   "metadata": {},
   "source": [
    "* 2020 Dataset"
   ]
  },
  {
   "cell_type": "code",
   "execution_count": 13,
   "metadata": {},
   "outputs": [
    {
     "data": {
      "text/html": [
       "<div>\n",
       "<style scoped>\n",
       "    .dataframe tbody tr th:only-of-type {\n",
       "        vertical-align: middle;\n",
       "    }\n",
       "\n",
       "    .dataframe tbody tr th {\n",
       "        vertical-align: top;\n",
       "    }\n",
       "\n",
       "    .dataframe thead th {\n",
       "        text-align: right;\n",
       "    }\n",
       "</style>\n",
       "<table border=\"1\" class=\"dataframe\">\n",
       "  <thead>\n",
       "    <tr style=\"text-align: right;\">\n",
       "      <th></th>\n",
       "      <th>Company_Brand</th>\n",
       "      <th>Founded</th>\n",
       "      <th>HeadQuarter</th>\n",
       "      <th>Sector</th>\n",
       "      <th>What_it_does</th>\n",
       "      <th>Founders</th>\n",
       "      <th>Investor</th>\n",
       "      <th>Amount</th>\n",
       "      <th>Stage</th>\n",
       "      <th>column10</th>\n",
       "    </tr>\n",
       "  </thead>\n",
       "  <tbody>\n",
       "    <tr>\n",
       "      <th>0</th>\n",
       "      <td>Aqgromalin</td>\n",
       "      <td>2019.0</td>\n",
       "      <td>Chennai</td>\n",
       "      <td>AgriTech</td>\n",
       "      <td>Cultivating Ideas for Profit</td>\n",
       "      <td>Prasanna Manogaran, Bharani C L</td>\n",
       "      <td>Angel investors</td>\n",
       "      <td>200000.0</td>\n",
       "      <td>None</td>\n",
       "      <td>None</td>\n",
       "    </tr>\n",
       "    <tr>\n",
       "      <th>1</th>\n",
       "      <td>Krayonnz</td>\n",
       "      <td>2019.0</td>\n",
       "      <td>Bangalore</td>\n",
       "      <td>EdTech</td>\n",
       "      <td>An academy-guardian-scholar centric ecosystem ...</td>\n",
       "      <td>Saurabh Dixit, Gurudutt Upadhyay</td>\n",
       "      <td>GSF Accelerator</td>\n",
       "      <td>100000.0</td>\n",
       "      <td>Pre-seed</td>\n",
       "      <td>None</td>\n",
       "    </tr>\n",
       "    <tr>\n",
       "      <th>2</th>\n",
       "      <td>PadCare Labs</td>\n",
       "      <td>2018.0</td>\n",
       "      <td>Pune</td>\n",
       "      <td>Hygiene management</td>\n",
       "      <td>Converting bio-hazardous waste to harmless waste</td>\n",
       "      <td>Ajinkya Dhariya</td>\n",
       "      <td>Venture Center</td>\n",
       "      <td>NaN</td>\n",
       "      <td>Pre-seed</td>\n",
       "      <td>None</td>\n",
       "    </tr>\n",
       "    <tr>\n",
       "      <th>3</th>\n",
       "      <td>NCOME</td>\n",
       "      <td>2020.0</td>\n",
       "      <td>New Delhi</td>\n",
       "      <td>Escrow</td>\n",
       "      <td>Escrow-as-a-service platform</td>\n",
       "      <td>Ritesh Tiwari</td>\n",
       "      <td>Venture Catalysts, PointOne Capital</td>\n",
       "      <td>400000.0</td>\n",
       "      <td>None</td>\n",
       "      <td>None</td>\n",
       "    </tr>\n",
       "    <tr>\n",
       "      <th>4</th>\n",
       "      <td>Gramophone</td>\n",
       "      <td>2016.0</td>\n",
       "      <td>Indore</td>\n",
       "      <td>AgriTech</td>\n",
       "      <td>Gramophone is an AgTech platform enabling acce...</td>\n",
       "      <td>Ashish Rajan Singh, Harshit Gupta, Nishant Mah...</td>\n",
       "      <td>Siana Capital Management, Info Edge</td>\n",
       "      <td>340000.0</td>\n",
       "      <td>None</td>\n",
       "      <td>None</td>\n",
       "    </tr>\n",
       "  </tbody>\n",
       "</table>\n",
       "</div>"
      ],
      "text/plain": [
       "  Company_Brand  Founded HeadQuarter              Sector  \\\n",
       "0    Aqgromalin   2019.0     Chennai            AgriTech   \n",
       "1      Krayonnz   2019.0   Bangalore              EdTech   \n",
       "2  PadCare Labs   2018.0        Pune  Hygiene management   \n",
       "3         NCOME   2020.0   New Delhi              Escrow   \n",
       "4    Gramophone   2016.0      Indore            AgriTech   \n",
       "\n",
       "                                        What_it_does  \\\n",
       "0                       Cultivating Ideas for Profit   \n",
       "1  An academy-guardian-scholar centric ecosystem ...   \n",
       "2   Converting bio-hazardous waste to harmless waste   \n",
       "3                       Escrow-as-a-service platform   \n",
       "4  Gramophone is an AgTech platform enabling acce...   \n",
       "\n",
       "                                            Founders  \\\n",
       "0                    Prasanna Manogaran, Bharani C L   \n",
       "1                   Saurabh Dixit, Gurudutt Upadhyay   \n",
       "2                                    Ajinkya Dhariya   \n",
       "3                                      Ritesh Tiwari   \n",
       "4  Ashish Rajan Singh, Harshit Gupta, Nishant Mah...   \n",
       "\n",
       "                              Investor    Amount     Stage column10  \n",
       "0                      Angel investors  200000.0      None     None  \n",
       "1                      GSF Accelerator  100000.0  Pre-seed     None  \n",
       "2                       Venture Center       NaN  Pre-seed     None  \n",
       "3  Venture Catalysts, PointOne Capital  400000.0      None     None  \n",
       "4  Siana Capital Management, Info Edge  340000.0      None     None  "
      ]
     },
     "execution_count": 13,
     "metadata": {},
     "output_type": "execute_result"
    }
   ],
   "source": [
    "# Creating a copy of the dataset\n",
    "df2020copy = copy.deepcopy(df2020)\n",
    "df2020copy.head()"
   ]
  },
  {
   "cell_type": "code",
   "execution_count": 14,
   "metadata": {},
   "outputs": [
    {
     "data": {
      "text/html": [
       "<div>\n",
       "<style scoped>\n",
       "    .dataframe tbody tr th:only-of-type {\n",
       "        vertical-align: middle;\n",
       "    }\n",
       "\n",
       "    .dataframe tbody tr th {\n",
       "        vertical-align: top;\n",
       "    }\n",
       "\n",
       "    .dataframe thead th {\n",
       "        text-align: right;\n",
       "    }\n",
       "</style>\n",
       "<table border=\"1\" class=\"dataframe\">\n",
       "  <thead>\n",
       "    <tr style=\"text-align: right;\">\n",
       "      <th></th>\n",
       "      <th>Company/Brand</th>\n",
       "      <th>HeadQuarter</th>\n",
       "      <th>Sector</th>\n",
       "      <th>What it does</th>\n",
       "      <th>Amount</th>\n",
       "      <th>Stage</th>\n",
       "      <th>Year</th>\n",
       "    </tr>\n",
       "  </thead>\n",
       "  <tbody>\n",
       "    <tr>\n",
       "      <th>0</th>\n",
       "      <td>Aqgromalin</td>\n",
       "      <td>Chennai</td>\n",
       "      <td>AgriTech</td>\n",
       "      <td>Cultivating Ideas for Profit</td>\n",
       "      <td>200000.0</td>\n",
       "      <td>None</td>\n",
       "      <td>2020</td>\n",
       "    </tr>\n",
       "    <tr>\n",
       "      <th>1</th>\n",
       "      <td>Krayonnz</td>\n",
       "      <td>Bangalore</td>\n",
       "      <td>EdTech</td>\n",
       "      <td>An academy-guardian-scholar centric ecosystem ...</td>\n",
       "      <td>100000.0</td>\n",
       "      <td>Pre-seed</td>\n",
       "      <td>2020</td>\n",
       "    </tr>\n",
       "    <tr>\n",
       "      <th>2</th>\n",
       "      <td>PadCare Labs</td>\n",
       "      <td>Pune</td>\n",
       "      <td>Hygiene management</td>\n",
       "      <td>Converting bio-hazardous waste to harmless waste</td>\n",
       "      <td>NaN</td>\n",
       "      <td>Pre-seed</td>\n",
       "      <td>2020</td>\n",
       "    </tr>\n",
       "    <tr>\n",
       "      <th>3</th>\n",
       "      <td>NCOME</td>\n",
       "      <td>New Delhi</td>\n",
       "      <td>Escrow</td>\n",
       "      <td>Escrow-as-a-service platform</td>\n",
       "      <td>400000.0</td>\n",
       "      <td>None</td>\n",
       "      <td>2020</td>\n",
       "    </tr>\n",
       "    <tr>\n",
       "      <th>4</th>\n",
       "      <td>Gramophone</td>\n",
       "      <td>Indore</td>\n",
       "      <td>AgriTech</td>\n",
       "      <td>Gramophone is an AgTech platform enabling acce...</td>\n",
       "      <td>340000.0</td>\n",
       "      <td>None</td>\n",
       "      <td>2020</td>\n",
       "    </tr>\n",
       "  </tbody>\n",
       "</table>\n",
       "</div>"
      ],
      "text/plain": [
       "  Company/Brand HeadQuarter              Sector  \\\n",
       "0    Aqgromalin     Chennai            AgriTech   \n",
       "1      Krayonnz   Bangalore              EdTech   \n",
       "2  PadCare Labs        Pune  Hygiene management   \n",
       "3         NCOME   New Delhi              Escrow   \n",
       "4    Gramophone      Indore            AgriTech   \n",
       "\n",
       "                                        What it does    Amount     Stage  Year  \n",
       "0                       Cultivating Ideas for Profit  200000.0      None  2020  \n",
       "1  An academy-guardian-scholar centric ecosystem ...  100000.0  Pre-seed  2020  \n",
       "2   Converting bio-hazardous waste to harmless waste       NaN  Pre-seed  2020  \n",
       "3                       Escrow-as-a-service platform  400000.0      None  2020  \n",
       "4  Gramophone is an AgTech platform enabling acce...  340000.0      None  2020  "
      ]
     },
     "execution_count": 14,
     "metadata": {},
     "output_type": "execute_result"
    }
   ],
   "source": [
    "# droping columns\n",
    "columns_drop = ['Founders', 'Founded', 'Investor','column10']\n",
    "df2020copy = df2020copy.drop(columns=columns_drop)\n",
    "\n",
    "# add a year column in the data \n",
    "Year = [2020]*len(df2020copy)\n",
    "df2020copy[\"Year\"] = Year\n",
    "\n",
    "# we rename specific columns\n",
    "new_column_name = {'Company_Brand':'Company/Brand',\n",
    "                  'What_it_does':'What it does' }\n",
    "df2020copy = df2020copy.rename(columns=new_column_name) \n",
    "\n",
    "df2020copy.head()\n"
   ]
  },
  {
   "cell_type": "code",
   "execution_count": 15,
   "metadata": {},
   "outputs": [
    {
     "name": "stdout",
     "output_type": "stream",
     "text": [
      "<class 'pandas.core.frame.DataFrame'>\n",
      "RangeIndex: 1055 entries, 0 to 1054\n",
      "Data columns (total 7 columns):\n",
      " #   Column         Non-Null Count  Dtype  \n",
      "---  ------         --------------  -----  \n",
      " 0   Company/Brand  1055 non-null   object \n",
      " 1   HeadQuarter    961 non-null    object \n",
      " 2   Sector         1042 non-null   object \n",
      " 3   What it does   1055 non-null   object \n",
      " 4   Amount         801 non-null    float64\n",
      " 5   Stage          591 non-null    object \n",
      " 6   Year           1055 non-null   int64  \n",
      "dtypes: float64(1), int64(1), object(5)\n",
      "memory usage: 57.8+ KB\n"
     ]
    }
   ],
   "source": [
    "# display information about the DataFrame\n",
    "df2020copy.info()"
   ]
  },
  {
   "cell_type": "code",
   "execution_count": 16,
   "metadata": {},
   "outputs": [
    {
     "name": "stdout",
     "output_type": "stream",
     "text": [
      "Company/Brand            object\n",
      "HeadQuarter              object\n",
      "Sector                   object\n",
      "What it does             object\n",
      "Amount                  float64\n",
      "Stage                    object\n",
      "Year             datetime64[ns]\n",
      "dtype: object\n"
     ]
    }
   ],
   "source": [
    "# Changing 'Year' column to datetime\n",
    "df2020copy['Year'] = pd.to_datetime(df2020copy['Year'], format='%Y')\n",
    "\n",
    "# Verifying the changes\n",
    "print(df2020copy.dtypes)"
   ]
  },
  {
   "cell_type": "code",
   "execution_count": 18,
   "metadata": {},
   "outputs": [
    {
     "data": {
      "text/plain": [
       "Company/Brand      0\n",
       "HeadQuarter       94\n",
       "Sector            13\n",
       "What it does       0\n",
       "Amount           254\n",
       "Stage            464\n",
       "Year               0\n",
       "dtype: int64"
      ]
     },
     "execution_count": 18,
     "metadata": {},
     "output_type": "execute_result"
    }
   ],
   "source": [
    "#Checking for NAN values\n",
    "df2020copy.isnull().sum()"
   ]
  },
  {
   "cell_type": "code",
   "execution_count": 19,
   "metadata": {},
   "outputs": [
    {
     "data": {
      "text/html": [
       "<div>\n",
       "<style scoped>\n",
       "    .dataframe tbody tr th:only-of-type {\n",
       "        vertical-align: middle;\n",
       "    }\n",
       "\n",
       "    .dataframe tbody tr th {\n",
       "        vertical-align: top;\n",
       "    }\n",
       "\n",
       "    .dataframe thead th {\n",
       "        text-align: right;\n",
       "    }\n",
       "</style>\n",
       "<table border=\"1\" class=\"dataframe\">\n",
       "  <thead>\n",
       "    <tr style=\"text-align: right;\">\n",
       "      <th></th>\n",
       "      <th>Amount</th>\n",
       "      <th>Year</th>\n",
       "    </tr>\n",
       "  </thead>\n",
       "  <tbody>\n",
       "    <tr>\n",
       "      <th>count</th>\n",
       "      <td>8.010000e+02</td>\n",
       "      <td>1055</td>\n",
       "    </tr>\n",
       "    <tr>\n",
       "      <th>mean</th>\n",
       "      <td>1.130430e+08</td>\n",
       "      <td>2020-01-01 00:00:00</td>\n",
       "    </tr>\n",
       "    <tr>\n",
       "      <th>min</th>\n",
       "      <td>1.270000e+04</td>\n",
       "      <td>2020-01-01 00:00:00</td>\n",
       "    </tr>\n",
       "    <tr>\n",
       "      <th>25%</th>\n",
       "      <td>1.000000e+06</td>\n",
       "      <td>2020-01-01 00:00:00</td>\n",
       "    </tr>\n",
       "    <tr>\n",
       "      <th>50%</th>\n",
       "      <td>3.000000e+06</td>\n",
       "      <td>2020-01-01 00:00:00</td>\n",
       "    </tr>\n",
       "    <tr>\n",
       "      <th>75%</th>\n",
       "      <td>1.100000e+07</td>\n",
       "      <td>2020-01-01 00:00:00</td>\n",
       "    </tr>\n",
       "    <tr>\n",
       "      <th>max</th>\n",
       "      <td>7.000000e+10</td>\n",
       "      <td>2020-01-01 00:00:00</td>\n",
       "    </tr>\n",
       "    <tr>\n",
       "      <th>std</th>\n",
       "      <td>2.476635e+09</td>\n",
       "      <td>NaN</td>\n",
       "    </tr>\n",
       "  </tbody>\n",
       "</table>\n",
       "</div>"
      ],
      "text/plain": [
       "             Amount                 Year\n",
       "count  8.010000e+02                 1055\n",
       "mean   1.130430e+08  2020-01-01 00:00:00\n",
       "min    1.270000e+04  2020-01-01 00:00:00\n",
       "25%    1.000000e+06  2020-01-01 00:00:00\n",
       "50%    3.000000e+06  2020-01-01 00:00:00\n",
       "75%    1.100000e+07  2020-01-01 00:00:00\n",
       "max    7.000000e+10  2020-01-01 00:00:00\n",
       "std    2.476635e+09                  NaN"
      ]
     },
     "execution_count": 19,
     "metadata": {},
     "output_type": "execute_result"
    }
   ],
   "source": [
    "df2020copy.describe()\n"
   ]
  },
  {
   "cell_type": "code",
   "execution_count": 20,
   "metadata": {},
   "outputs": [
    {
     "data": {
      "text/plain": [
       "0         200000.0\n",
       "1         100000.0\n",
       "2              NaN\n",
       "3         400000.0\n",
       "4         340000.0\n",
       "           ...    \n",
       "1050     1500000.0\n",
       "1051    13200000.0\n",
       "1052     8000000.0\n",
       "1053     8043000.0\n",
       "1054     9000000.0\n",
       "Name: Amount, Length: 1055, dtype: float64"
      ]
     },
     "execution_count": 20,
     "metadata": {},
     "output_type": "execute_result"
    }
   ],
   "source": [
    "# display the Amount column only\n",
    "df2020copy['Amount']"
   ]
  },
  {
   "cell_type": "code",
   "execution_count": 21,
   "metadata": {},
   "outputs": [
    {
     "data": {
      "text/plain": [
       "Company/Brand      0\n",
       "HeadQuarter       94\n",
       "Sector            13\n",
       "What it does       0\n",
       "Amount             0\n",
       "Stage            464\n",
       "Year               0\n",
       "dtype: int64"
      ]
     },
     "execution_count": 21,
     "metadata": {},
     "output_type": "execute_result"
    }
   ],
   "source": [
    "# Select Amount column with null values\n",
    "null_columns = [\"Amount\"]\n",
    " \n",
    "# a SimpleImputer to fill null values wih median\n",
    "imputer = SimpleImputer(strategy='median', fill_value = 'NaN')\n",
    " \n",
    "# Apply the imputer to fill null values in selected columns\n",
    "df2020copy[null_columns] = imputer.fit_transform(df2020copy[null_columns])\n",
    "\n",
    "# verify changes\n",
    "df2020copy.isnull().sum()"
   ]
  },
  {
   "cell_type": "code",
   "execution_count": 22,
   "metadata": {},
   "outputs": [
    {
     "data": {
      "text/plain": [
       "0         Chennai\n",
       "1       Bangalore\n",
       "2            Pune\n",
       "3       New Delhi\n",
       "4          Indore\n",
       "          ...    \n",
       "1050        Delhi\n",
       "1051         None\n",
       "1052       Mumbai\n",
       "1053        Delhi\n",
       "1054      Chennai\n",
       "Name: HeadQuarter, Length: 1055, dtype: object"
      ]
     },
     "execution_count": 22,
     "metadata": {},
     "output_type": "execute_result"
    }
   ],
   "source": [
    "# Previewing the HeadQuarter column of 2020 dataset\n",
    "df2020copy['HeadQuarter']"
   ]
  },
  {
   "cell_type": "code",
   "execution_count": 25,
   "metadata": {},
   "outputs": [
    {
     "data": {
      "text/plain": [
       "<bound method Series.unique of 0         Chennai\n",
       "1       Bangalore\n",
       "2            Pune\n",
       "3       New Delhi\n",
       "4          Indore\n",
       "          ...    \n",
       "1050        Delhi\n",
       "1051         None\n",
       "1052       Mumbai\n",
       "1053        Delhi\n",
       "1054      Chennai\n",
       "Name: HeadQuarter, Length: 1055, dtype: object>"
      ]
     },
     "execution_count": 25,
     "metadata": {},
     "output_type": "execute_result"
    }
   ],
   "source": [
    "#  Using the lamda function to extract the city names from the 'HeadQuarter' column\n",
    "df2020copy['HeadQuarter'] = df2020copy['HeadQuarter'].apply(lambda x: x.split(',')[0].strip() if x is not None else None)\n",
    "\n",
    "df2020copy['HeadQuarter'].unique"
   ]
  },
  {
   "cell_type": "code",
   "execution_count": 27,
   "metadata": {},
   "outputs": [
    {
     "data": {
      "text/html": [
       "<div>\n",
       "<style scoped>\n",
       "    .dataframe tbody tr th:only-of-type {\n",
       "        vertical-align: middle;\n",
       "    }\n",
       "\n",
       "    .dataframe tbody tr th {\n",
       "        vertical-align: top;\n",
       "    }\n",
       "\n",
       "    .dataframe thead th {\n",
       "        text-align: right;\n",
       "    }\n",
       "</style>\n",
       "<table border=\"1\" class=\"dataframe\">\n",
       "  <thead>\n",
       "    <tr style=\"text-align: right;\">\n",
       "      <th></th>\n",
       "      <th>Company/Brand</th>\n",
       "      <th>HeadQuarter</th>\n",
       "      <th>Sector</th>\n",
       "      <th>What it does</th>\n",
       "      <th>Amount</th>\n",
       "      <th>Stage</th>\n",
       "      <th>Year</th>\n",
       "    </tr>\n",
       "  </thead>\n",
       "  <tbody>\n",
       "    <tr>\n",
       "      <th>87</th>\n",
       "      <td>Habitat</td>\n",
       "      <td>None</td>\n",
       "      <td>EdTech</td>\n",
       "      <td>Habitat, a social learning edtech platform for...</td>\n",
       "      <td>600000.0</td>\n",
       "      <td>Seed</td>\n",
       "      <td>2020-01-01</td>\n",
       "    </tr>\n",
       "    <tr>\n",
       "      <th>92</th>\n",
       "      <td>Raskik</td>\n",
       "      <td>None</td>\n",
       "      <td>Fusion beverages</td>\n",
       "      <td>All new fusion-flavour fruit juices with the g...</td>\n",
       "      <td>1000000.0</td>\n",
       "      <td>Pre-series A</td>\n",
       "      <td>2020-01-01</td>\n",
       "    </tr>\n",
       "    <tr>\n",
       "      <th>95</th>\n",
       "      <td>Pravasirojgar</td>\n",
       "      <td>None</td>\n",
       "      <td>Job portal</td>\n",
       "      <td>Initiative for blue-collar job workers</td>\n",
       "      <td>33000000.0</td>\n",
       "      <td>None</td>\n",
       "      <td>2020-01-01</td>\n",
       "    </tr>\n",
       "    <tr>\n",
       "      <th>121</th>\n",
       "      <td>Kaagaz Scanner</td>\n",
       "      <td>None</td>\n",
       "      <td>Scanning app</td>\n",
       "      <td>Kaagaz Scanner is the Indian replacement to ba...</td>\n",
       "      <td>575000.0</td>\n",
       "      <td>None</td>\n",
       "      <td>2020-01-01</td>\n",
       "    </tr>\n",
       "    <tr>\n",
       "      <th>487</th>\n",
       "      <td>Exprs</td>\n",
       "      <td>None</td>\n",
       "      <td>Nano Distribution Network</td>\n",
       "      <td>Nano Distribution Centres, enabling seamless c...</td>\n",
       "      <td>5660000.0</td>\n",
       "      <td>None</td>\n",
       "      <td>2020-01-01</td>\n",
       "    </tr>\n",
       "    <tr>\n",
       "      <th>...</th>\n",
       "      <td>...</td>\n",
       "      <td>...</td>\n",
       "      <td>...</td>\n",
       "      <td>...</td>\n",
       "      <td>...</td>\n",
       "      <td>...</td>\n",
       "      <td>...</td>\n",
       "    </tr>\n",
       "    <tr>\n",
       "      <th>1035</th>\n",
       "      <td>Byju</td>\n",
       "      <td>None</td>\n",
       "      <td>Edtech</td>\n",
       "      <td>Provides online learning classes</td>\n",
       "      <td>200000000.0</td>\n",
       "      <td>None</td>\n",
       "      <td>2020-01-01</td>\n",
       "    </tr>\n",
       "    <tr>\n",
       "      <th>1041</th>\n",
       "      <td>Shiksha</td>\n",
       "      <td>None</td>\n",
       "      <td>Edtech</td>\n",
       "      <td>It makes college selection easy for students l...</td>\n",
       "      <td>181000.0</td>\n",
       "      <td>None</td>\n",
       "      <td>2020-01-01</td>\n",
       "    </tr>\n",
       "    <tr>\n",
       "      <th>1045</th>\n",
       "      <td>XpressBees</td>\n",
       "      <td>None</td>\n",
       "      <td>Logistics</td>\n",
       "      <td>Provides end to end supply chain solutions</td>\n",
       "      <td>10000000.0</td>\n",
       "      <td>None</td>\n",
       "      <td>2020-01-01</td>\n",
       "    </tr>\n",
       "    <tr>\n",
       "      <th>1047</th>\n",
       "      <td>Wealth Bucket</td>\n",
       "      <td>None</td>\n",
       "      <td>Fintech</td>\n",
       "      <td>An online platform for mutual fund investments</td>\n",
       "      <td>3000000.0</td>\n",
       "      <td>None</td>\n",
       "      <td>2020-01-01</td>\n",
       "    </tr>\n",
       "    <tr>\n",
       "      <th>1051</th>\n",
       "      <td>EpiFi</td>\n",
       "      <td>None</td>\n",
       "      <td>Fintech</td>\n",
       "      <td>It offers customers with a single interface fo...</td>\n",
       "      <td>13200000.0</td>\n",
       "      <td>Seed Round</td>\n",
       "      <td>2020-01-01</td>\n",
       "    </tr>\n",
       "  </tbody>\n",
       "</table>\n",
       "<p>94 rows × 7 columns</p>\n",
       "</div>"
      ],
      "text/plain": [
       "       Company/Brand HeadQuarter                     Sector  \\\n",
       "87           Habitat        None                     EdTech   \n",
       "92            Raskik        None           Fusion beverages   \n",
       "95     Pravasirojgar        None                 Job portal   \n",
       "121   Kaagaz Scanner        None               Scanning app   \n",
       "487            Exprs        None  Nano Distribution Network   \n",
       "...              ...         ...                        ...   \n",
       "1035            Byju        None                     Edtech   \n",
       "1041         Shiksha        None                     Edtech   \n",
       "1045      XpressBees        None                  Logistics   \n",
       "1047   Wealth Bucket        None                    Fintech   \n",
       "1051           EpiFi        None                    Fintech   \n",
       "\n",
       "                                           What it does       Amount  \\\n",
       "87    Habitat, a social learning edtech platform for...     600000.0   \n",
       "92    All new fusion-flavour fruit juices with the g...    1000000.0   \n",
       "95               Initiative for blue-collar job workers   33000000.0   \n",
       "121   Kaagaz Scanner is the Indian replacement to ba...     575000.0   \n",
       "487   Nano Distribution Centres, enabling seamless c...    5660000.0   \n",
       "...                                                 ...          ...   \n",
       "1035                   Provides online learning classes  200000000.0   \n",
       "1041  It makes college selection easy for students l...     181000.0   \n",
       "1045         Provides end to end supply chain solutions   10000000.0   \n",
       "1047     An online platform for mutual fund investments    3000000.0   \n",
       "1051  It offers customers with a single interface fo...   13200000.0   \n",
       "\n",
       "             Stage       Year  \n",
       "87            Seed 2020-01-01  \n",
       "92    Pre-series A 2020-01-01  \n",
       "95            None 2020-01-01  \n",
       "121           None 2020-01-01  \n",
       "487           None 2020-01-01  \n",
       "...            ...        ...  \n",
       "1035          None 2020-01-01  \n",
       "1041          None 2020-01-01  \n",
       "1045          None 2020-01-01  \n",
       "1047          None 2020-01-01  \n",
       "1051    Seed Round 2020-01-01  \n",
       "\n",
       "[94 rows x 7 columns]"
      ]
     },
     "execution_count": 27,
     "metadata": {},
     "output_type": "execute_result"
    }
   ],
   "source": [
    "# Viewing the null values in the HeadQuarter column\n",
    "missing_values = df2020copy[df2020copy['HeadQuarter'].isnull()]\n",
    "missing_values"
   ]
  },
  {
   "cell_type": "code",
   "execution_count": 28,
   "metadata": {},
   "outputs": [
    {
     "data": {
      "text/plain": [
       "0"
      ]
     },
     "execution_count": 28,
     "metadata": {},
     "output_type": "execute_result"
    }
   ],
   "source": [
    "# Replacing the null value with Not Available\n",
    "df2020copy['HeadQuarter'].fillna('Not Available', inplace=True)\n",
    "\n",
    "# Verify changes\n",
    "df2020copy['HeadQuarter'].isnull().sum()"
   ]
  },
  {
   "cell_type": "code",
   "execution_count": 30,
   "metadata": {},
   "outputs": [
    {
     "data": {
      "text/plain": [
       "0                 AgriTech\n",
       "1                   EdTech\n",
       "2       Hygiene management\n",
       "3                   Escrow\n",
       "4                 AgriTech\n",
       "               ...        \n",
       "1050                Edtech\n",
       "1051               Fintech\n",
       "1052             Cosmetics\n",
       "1053             Transport\n",
       "1054              Logitech\n",
       "Name: Sector, Length: 1055, dtype: object"
      ]
     },
     "execution_count": 30,
     "metadata": {},
     "output_type": "execute_result"
    }
   ],
   "source": [
    "# Previewing the Sector column\n",
    "df2020copy['Sector']"
   ]
  },
  {
   "cell_type": "code",
   "execution_count": 31,
   "metadata": {},
   "outputs": [
    {
     "data": {
      "text/plain": [
       "Sector\n",
       "Fintech                  80\n",
       "Edtech                   67\n",
       "FinTech                  51\n",
       "EdTech                   40\n",
       "E-commerce               33\n",
       "                         ..\n",
       "Jewellery                 1\n",
       "AR startup                1\n",
       "HR Tech startup           1\n",
       "Automotive Startup        1\n",
       "Automobile Technology     1\n",
       "Name: count, Length: 302, dtype: int64"
      ]
     },
     "execution_count": 31,
     "metadata": {},
     "output_type": "execute_result"
    }
   ],
   "source": [
    "# count the occurrences of each unique value in the 'Sector' column using 'value_counts'\n",
    "df2020copy['Sector'].value_counts()"
   ]
  },
  {
   "cell_type": "code",
   "execution_count": 32,
   "metadata": {},
   "outputs": [
    {
     "data": {
      "text/plain": [
       "Sector\n",
       "fintech                  131\n",
       "edtech                   107\n",
       "healthtech                42\n",
       "agritech                  38\n",
       "e-commerce                33\n",
       "                        ... \n",
       "jewellery                  1\n",
       "ar startup                 1\n",
       "hr tech startup            1\n",
       "automotive startup         1\n",
       "automobile technology      1\n",
       "Name: count, Length: 285, dtype: int64"
      ]
     },
     "execution_count": 32,
     "metadata": {},
     "output_type": "execute_result"
    }
   ],
   "source": [
    "# Convert all sector names to lowercase to ensure consistency as there are inconsistent spelling (e.g. FinTech and Fintech, EdTech and Edtech ).\n",
    "df2020copy['Sector'] = df2020copy['Sector'].str.lower()\n",
    "\n",
    "# Remove any leading and trailing whitespaces just incase from the sector names to handle variations caused by extra spaces\n",
    "df2020copy['Sector'] = df2020copy['Sector'].str.strip()\n",
    "\n",
    "# Verify changes by counting the occurrences of each unique value in the 'Sector' column using 'value_counts'\n",
    "df2020copy['Sector'].value_counts()\n"
   ]
  },
  {
   "cell_type": "code",
   "execution_count": 34,
   "metadata": {},
   "outputs": [
    {
     "data": {
      "text/plain": [
       "Sector\n",
       "False    1042\n",
       "True       13\n",
       "Name: count, dtype: int64"
      ]
     },
     "execution_count": 34,
     "metadata": {},
     "output_type": "execute_result"
    }
   ],
   "source": [
    "# Filter rows with NaN values in the 'Sector' column\n",
    "df2020copy['Sector'].isna().value_counts()"
   ]
  },
  {
   "cell_type": "code",
   "execution_count": 35,
   "metadata": {},
   "outputs": [
    {
     "data": {
      "text/plain": [
       "Sector\n",
       "False    1055\n",
       "Name: count, dtype: int64"
      ]
     },
     "execution_count": 35,
     "metadata": {},
     "output_type": "execute_result"
    }
   ],
   "source": [
    "# Calculate the mode of the 'Sector' column\n",
    "mode_sector = df2020copy['Sector'].mode()[0]\n",
    "\n",
    "# Fill missing values in the 'Sector' column with the calculated mode because the column is categorical\n",
    "df2020copy['Sector'].fillna(mode_sector, inplace=True)\n",
    "\n",
    "# verify changes\n",
    "df2020copy['Sector'].isna().value_counts()"
   ]
  },
  {
   "cell_type": "code",
   "execution_count": 36,
   "metadata": {},
   "outputs": [
    {
     "data": {
      "text/plain": [
       "array([None, 'Pre-seed', 'Seed', 'Pre-series A', 'Pre-series', 'Series C',\n",
       "       'Series A', 'Series B', 'Debt', 'Pre-series C', 'Pre-series B',\n",
       "       'Series E', 'Bridge', 'Series D', 'Series B2', 'Series F',\n",
       "       'Pre- series A', 'Edge', 'Series H', 'Pre-Series B', 'Seed A',\n",
       "       'Series A-1', 'Seed Funding', 'Pre-Seed', 'Seed round',\n",
       "       'Pre-seed Round', 'Seed Round & Series A', 'Pre Series A',\n",
       "       'Pre seed Round', 'Angel Round', 'Pre series A1', 'Series E2',\n",
       "       'Pre series A', 'Seed Round', 'Bridge Round', 'Pre seed round',\n",
       "       'Pre series B', 'Pre series C', 'Seed Investment', 'Series D1',\n",
       "       'Mid series', 'Series C, D', 'Seed funding'], dtype=object)"
      ]
     },
     "execution_count": 36,
     "metadata": {},
     "output_type": "execute_result"
    }
   ],
   "source": [
    "df2020copy['Stage'].unique()"
   ]
  },
  {
   "cell_type": "code",
   "execution_count": 37,
   "metadata": {},
   "outputs": [
    {
     "data": {
      "text/plain": [
       "Stage\n",
       "Series A                 96\n",
       "Seed                     80\n",
       "Seed Round               69\n",
       "Series B                 57\n",
       "Pre series A             54\n",
       "Pre-series A             53\n",
       "Series C                 50\n",
       "Series D                 22\n",
       "Debt                     18\n",
       "Pre Series A             12\n",
       "Pre-seed                 11\n",
       "Seed round                9\n",
       "Series E                  6\n",
       "Bridge                    6\n",
       "Series F                  4\n",
       "Pre-series B              4\n",
       "Angel Round               4\n",
       "Pre seed round            4\n",
       "Pre-seed Round            2\n",
       "Pre series B              2\n",
       "Pre-Seed                  2\n",
       "Seed Funding              2\n",
       "Series B2                 2\n",
       "Pre-series C              2\n",
       "Seed funding              2\n",
       "Pre-Series B              2\n",
       "Seed Round & Series A     1\n",
       "Series C, D               1\n",
       "Mid series                1\n",
       "Series D1                 1\n",
       "Seed Investment           1\n",
       "Pre series C              1\n",
       "Pre-series                1\n",
       "Bridge Round              1\n",
       "Series H                  1\n",
       "Seed A                    1\n",
       "Pre- series A             1\n",
       "Series E2                 1\n",
       "Pre series A1             1\n",
       "Edge                      1\n",
       "Pre seed Round            1\n",
       "Series A-1                1\n",
       "Name: count, dtype: int64"
      ]
     },
     "execution_count": 37,
     "metadata": {},
     "output_type": "execute_result"
    }
   ],
   "source": [
    "df2020copy['Stage'].value_counts()"
   ]
  },
  {
   "cell_type": "code",
   "execution_count": 38,
   "metadata": {},
   "outputs": [],
   "source": [
    "# Mapping stage column to in order to standardize variations like 'Pre series A', 'Pre-series A', and 'Pre Series A' to 'Pre-Series A'\n",
    "stage_mapping = {\n",
    "    'Series A': 'Series A',\n",
    "    'Seed': 'Seed',\n",
    "    'Seed Round': 'Seed',\n",
    "    'Series B': 'Series B',\n",
    "    'Pre series A': 'Pre-Series A',\n",
    "    'Pre-series A': 'Pre-Series A',\n",
    "    'Series C': 'Series C',\n",
    "    'Series D': 'Series D',\n",
    "    'Debt': 'Debt',\n",
    "    'Pre Series A': 'Pre-Series A',\n",
    "    'Pre-seed': 'Pre-Seed',\n",
    "    'Seed round': 'Seed',\n",
    "    'Series E': 'Series E',\n",
    "    'Bridge': 'Bridge',\n",
    "    'Series F': 'Series F',\n",
    "    'Pre-series B': 'Pre-Series B',\n",
    "    'Angel Round': 'Angel Round',\n",
    "    'Pre seed round': 'Pre-Seed',\n",
    "    'Pre-seed Round': 'Pre-Seed',\n",
    "    'Pre series B': 'Pre-Series B',\n",
    "    'Pre-Seed': 'Pre-Seed',\n",
    "    'Seed Funding': 'Seed Funding',\n",
    "    'Series B2': 'Series B',\n",
    "    'Pre-series C': 'Pre-Series C',\n",
    "    'Seed funding': 'Seed Funding',\n",
    "    'Pre-Series B': 'Pre-Series B',\n",
    "    'Seed Round & Series A': 'Seed',\n",
    "    'Series C, D': 'Series C',\n",
    "    'Mid series': 'Mid Series',\n",
    "    'Series D1': 'Series D',\n",
    "    'Seed Investment': 'Seed Funding',\n",
    "    'Pre series C': 'Pre-Series C',\n",
    "    'Pre-series': 'Pre-Series',\n",
    "    'Bridge Round': 'Bridge',\n",
    "    'Series H': 'Series H',\n",
    "    'Seed A': 'Seed',\n",
    "    'Pre- series A': 'Pre-Series A',\n",
    "    'Series E2': 'Series E',\n",
    "    'Pre series A1': 'Pre-Series A',\n",
    "    'Edge': 'Edge',\n",
    "    'Pre seed Round': 'Pre-Seed',\n",
    "    'Series A-1': 'Series A'\n",
    "}\n",
    "\n",
    "# Apply the mapping to the 'Stage' column\n",
    "df2020copy['Stage'] = df2020copy['Stage'].map(stage_mapping)\n",
    "\n"
   ]
  },
  {
   "cell_type": "code",
   "execution_count": 39,
   "metadata": {},
   "outputs": [
    {
     "data": {
      "text/plain": [
       "Stage\n",
       "Seed            160\n",
       "Pre-Series A    121\n",
       "Series A         97\n",
       "Series B         59\n",
       "Series C         51\n",
       "Series D         23\n",
       "Pre-Seed         20\n",
       "Debt             18\n",
       "Pre-Series B      8\n",
       "Series E          7\n",
       "Bridge            7\n",
       "Seed Funding      5\n",
       "Series F          4\n",
       "Angel Round       4\n",
       "Pre-Series C      3\n",
       "Pre-Series        1\n",
       "Edge              1\n",
       "Series H          1\n",
       "Mid Series        1\n",
       "Name: count, dtype: int64"
      ]
     },
     "execution_count": 39,
     "metadata": {},
     "output_type": "execute_result"
    }
   ],
   "source": [
    "# verify changes by printing out the value_counts\n",
    "df2020copy['Stage'].value_counts()"
   ]
  },
  {
   "cell_type": "code",
   "execution_count": 40,
   "metadata": {},
   "outputs": [
    {
     "data": {
      "text/plain": [
       "<bound method Series.isnull of 0            NaN\n",
       "1       Pre-Seed\n",
       "2       Pre-Seed\n",
       "3            NaN\n",
       "4            NaN\n",
       "          ...   \n",
       "1050         NaN\n",
       "1051        Seed\n",
       "1052         NaN\n",
       "1053    Series C\n",
       "1054    Series A\n",
       "Name: Stage, Length: 1055, dtype: object>"
      ]
     },
     "execution_count": 40,
     "metadata": {},
     "output_type": "execute_result"
    }
   ],
   "source": [
    "df2020copy['Stage'].isnull"
   ]
  },
  {
   "cell_type": "code",
   "execution_count": 41,
   "metadata": {},
   "outputs": [
    {
     "name": "stdout",
     "output_type": "stream",
     "text": [
      "object\n"
     ]
    }
   ],
   "source": [
    "# previewing the datatype of the stage column\n",
    "print(df2020copy['Stage'].dtype)"
   ]
  },
  {
   "cell_type": "code",
   "execution_count": 42,
   "metadata": {},
   "outputs": [
    {
     "name": "stdout",
     "output_type": "stream",
     "text": [
      "[nan 'Pre-Seed' 'Seed' 'Pre-Series A' 'Pre-Series' 'Series C' 'Series A'\n",
      " 'Series B' 'Debt' 'Pre-Series C' 'Pre-Series B' 'Series E' 'Bridge'\n",
      " 'Series D' 'Series F' 'Edge' 'Series H' 'Seed Funding' 'Angel Round'\n",
      " 'Mid Series']\n"
     ]
    }
   ],
   "source": [
    "# Previewing the unique values\n",
    "print(df2020copy['Stage'].unique())\n"
   ]
  },
  {
   "cell_type": "code",
   "execution_count": 43,
   "metadata": {},
   "outputs": [
    {
     "data": {
      "text/plain": [
       "0"
      ]
     },
     "execution_count": 43,
     "metadata": {},
     "output_type": "execute_result"
    }
   ],
   "source": [
    "# Replace NaN with the most frequent value\n",
    "most_frequent_stage = df2020copy['Stage'].mode()[0]\n",
    "df2020copy['Stage'] = df2020copy['Stage'].replace(np.nan, most_frequent_stage)\n",
    "\n",
    "# Verify the changes\n",
    "df2020copy['Stage'].isnull().sum()\n"
   ]
  },
  {
   "cell_type": "code",
   "execution_count": 44,
   "metadata": {},
   "outputs": [
    {
     "data": {
      "text/plain": [
       "Company/Brand    0\n",
       "HeadQuarter      0\n",
       "Sector           0\n",
       "What it does     0\n",
       "Amount           0\n",
       "Stage            0\n",
       "Year             0\n",
       "dtype: int64"
      ]
     },
     "execution_count": 44,
     "metadata": {},
     "output_type": "execute_result"
    }
   ],
   "source": [
    "# Checking for null values in the 2020 dataset\n",
    "df2020copy.isnull().sum()"
   ]
  },
  {
   "cell_type": "code",
   "execution_count": null,
   "metadata": {},
   "outputs": [],
   "source": []
  },
  {
   "cell_type": "markdown",
   "metadata": {},
   "source": [
    "* 2021 Dataset"
   ]
  },
  {
   "cell_type": "code",
   "execution_count": 45,
   "metadata": {},
   "outputs": [
    {
     "data": {
      "text/html": [
       "<div>\n",
       "<style scoped>\n",
       "    .dataframe tbody tr th:only-of-type {\n",
       "        vertical-align: middle;\n",
       "    }\n",
       "\n",
       "    .dataframe tbody tr th {\n",
       "        vertical-align: top;\n",
       "    }\n",
       "\n",
       "    .dataframe thead th {\n",
       "        text-align: right;\n",
       "    }\n",
       "</style>\n",
       "<table border=\"1\" class=\"dataframe\">\n",
       "  <thead>\n",
       "    <tr style=\"text-align: right;\">\n",
       "      <th></th>\n",
       "      <th>Company_Brand</th>\n",
       "      <th>Founded</th>\n",
       "      <th>HeadQuarter</th>\n",
       "      <th>Sector</th>\n",
       "      <th>What_it_does</th>\n",
       "      <th>Founders</th>\n",
       "      <th>Investor</th>\n",
       "      <th>Amount</th>\n",
       "      <th>Stage</th>\n",
       "    </tr>\n",
       "  </thead>\n",
       "  <tbody>\n",
       "    <tr>\n",
       "      <th>0</th>\n",
       "      <td>Unbox Robotics</td>\n",
       "      <td>2019.0</td>\n",
       "      <td>Bangalore</td>\n",
       "      <td>AI startup</td>\n",
       "      <td>Unbox Robotics builds on-demand AI-driven ware...</td>\n",
       "      <td>Pramod Ghadge, Shahid Memon</td>\n",
       "      <td>BEENEXT, Entrepreneur First</td>\n",
       "      <td>$1,200,000</td>\n",
       "      <td>Pre-series A</td>\n",
       "    </tr>\n",
       "    <tr>\n",
       "      <th>1</th>\n",
       "      <td>upGrad</td>\n",
       "      <td>2015.0</td>\n",
       "      <td>Mumbai</td>\n",
       "      <td>EdTech</td>\n",
       "      <td>UpGrad is an online higher education platform.</td>\n",
       "      <td>Mayank Kumar, Phalgun Kompalli, Ravijot Chugh,...</td>\n",
       "      <td>Unilazer Ventures, IIFL Asset Management</td>\n",
       "      <td>$120,000,000</td>\n",
       "      <td>None</td>\n",
       "    </tr>\n",
       "    <tr>\n",
       "      <th>2</th>\n",
       "      <td>Lead School</td>\n",
       "      <td>2012.0</td>\n",
       "      <td>Mumbai</td>\n",
       "      <td>EdTech</td>\n",
       "      <td>LEAD School offers technology based school tra...</td>\n",
       "      <td>Smita Deorah, Sumeet Mehta</td>\n",
       "      <td>GSV Ventures, Westbridge Capital</td>\n",
       "      <td>$30,000,000</td>\n",
       "      <td>Series D</td>\n",
       "    </tr>\n",
       "    <tr>\n",
       "      <th>3</th>\n",
       "      <td>Bizongo</td>\n",
       "      <td>2015.0</td>\n",
       "      <td>Mumbai</td>\n",
       "      <td>B2B E-commerce</td>\n",
       "      <td>Bizongo is a business-to-business online marke...</td>\n",
       "      <td>Aniket Deb, Ankit Tomar, Sachin Agrawal</td>\n",
       "      <td>CDC Group, IDG Capital</td>\n",
       "      <td>$51,000,000</td>\n",
       "      <td>Series C</td>\n",
       "    </tr>\n",
       "    <tr>\n",
       "      <th>4</th>\n",
       "      <td>FypMoney</td>\n",
       "      <td>2021.0</td>\n",
       "      <td>Gurugram</td>\n",
       "      <td>FinTech</td>\n",
       "      <td>FypMoney is Digital NEO Bank for Teenagers, em...</td>\n",
       "      <td>Kapil Banwari</td>\n",
       "      <td>Liberatha Kallat, Mukesh Yadav, Dinesh Nagpal</td>\n",
       "      <td>$2,000,000</td>\n",
       "      <td>Seed</td>\n",
       "    </tr>\n",
       "  </tbody>\n",
       "</table>\n",
       "</div>"
      ],
      "text/plain": [
       "    Company_Brand  Founded HeadQuarter          Sector  \\\n",
       "0  Unbox Robotics   2019.0   Bangalore      AI startup   \n",
       "1          upGrad   2015.0      Mumbai          EdTech   \n",
       "2     Lead School   2012.0      Mumbai          EdTech   \n",
       "3         Bizongo   2015.0      Mumbai  B2B E-commerce   \n",
       "4        FypMoney   2021.0    Gurugram         FinTech   \n",
       "\n",
       "                                        What_it_does  \\\n",
       "0  Unbox Robotics builds on-demand AI-driven ware...   \n",
       "1     UpGrad is an online higher education platform.   \n",
       "2  LEAD School offers technology based school tra...   \n",
       "3  Bizongo is a business-to-business online marke...   \n",
       "4  FypMoney is Digital NEO Bank for Teenagers, em...   \n",
       "\n",
       "                                            Founders  \\\n",
       "0                        Pramod Ghadge, Shahid Memon   \n",
       "1  Mayank Kumar, Phalgun Kompalli, Ravijot Chugh,...   \n",
       "2                         Smita Deorah, Sumeet Mehta   \n",
       "3            Aniket Deb, Ankit Tomar, Sachin Agrawal   \n",
       "4                                      Kapil Banwari   \n",
       "\n",
       "                                        Investor        Amount         Stage  \n",
       "0                    BEENEXT, Entrepreneur First    $1,200,000  Pre-series A  \n",
       "1       Unilazer Ventures, IIFL Asset Management  $120,000,000          None  \n",
       "2               GSV Ventures, Westbridge Capital   $30,000,000      Series D  \n",
       "3                         CDC Group, IDG Capital   $51,000,000      Series C  \n",
       "4  Liberatha Kallat, Mukesh Yadav, Dinesh Nagpal    $2,000,000          Seed  "
      ]
     },
     "execution_count": 45,
     "metadata": {},
     "output_type": "execute_result"
    }
   ],
   "source": [
    "# Creating a copy of the dataset\n",
    "df2021copy = copy.deepcopy(df2021)\n",
    "df2021copy.head()"
   ]
  },
  {
   "cell_type": "code",
   "execution_count": 46,
   "metadata": {},
   "outputs": [
    {
     "data": {
      "text/html": [
       "<div>\n",
       "<style scoped>\n",
       "    .dataframe tbody tr th:only-of-type {\n",
       "        vertical-align: middle;\n",
       "    }\n",
       "\n",
       "    .dataframe tbody tr th {\n",
       "        vertical-align: top;\n",
       "    }\n",
       "\n",
       "    .dataframe thead th {\n",
       "        text-align: right;\n",
       "    }\n",
       "</style>\n",
       "<table border=\"1\" class=\"dataframe\">\n",
       "  <thead>\n",
       "    <tr style=\"text-align: right;\">\n",
       "      <th></th>\n",
       "      <th>Company/Brand</th>\n",
       "      <th>HeadQuarter</th>\n",
       "      <th>Sector</th>\n",
       "      <th>What it does</th>\n",
       "      <th>Amount</th>\n",
       "      <th>Stage</th>\n",
       "      <th>Year</th>\n",
       "    </tr>\n",
       "  </thead>\n",
       "  <tbody>\n",
       "    <tr>\n",
       "      <th>0</th>\n",
       "      <td>Unbox Robotics</td>\n",
       "      <td>Bangalore</td>\n",
       "      <td>AI startup</td>\n",
       "      <td>Unbox Robotics builds on-demand AI-driven ware...</td>\n",
       "      <td>$1,200,000</td>\n",
       "      <td>Pre-series A</td>\n",
       "      <td>2021</td>\n",
       "    </tr>\n",
       "    <tr>\n",
       "      <th>1</th>\n",
       "      <td>upGrad</td>\n",
       "      <td>Mumbai</td>\n",
       "      <td>EdTech</td>\n",
       "      <td>UpGrad is an online higher education platform.</td>\n",
       "      <td>$120,000,000</td>\n",
       "      <td>None</td>\n",
       "      <td>2021</td>\n",
       "    </tr>\n",
       "    <tr>\n",
       "      <th>2</th>\n",
       "      <td>Lead School</td>\n",
       "      <td>Mumbai</td>\n",
       "      <td>EdTech</td>\n",
       "      <td>LEAD School offers technology based school tra...</td>\n",
       "      <td>$30,000,000</td>\n",
       "      <td>Series D</td>\n",
       "      <td>2021</td>\n",
       "    </tr>\n",
       "    <tr>\n",
       "      <th>3</th>\n",
       "      <td>Bizongo</td>\n",
       "      <td>Mumbai</td>\n",
       "      <td>B2B E-commerce</td>\n",
       "      <td>Bizongo is a business-to-business online marke...</td>\n",
       "      <td>$51,000,000</td>\n",
       "      <td>Series C</td>\n",
       "      <td>2021</td>\n",
       "    </tr>\n",
       "    <tr>\n",
       "      <th>4</th>\n",
       "      <td>FypMoney</td>\n",
       "      <td>Gurugram</td>\n",
       "      <td>FinTech</td>\n",
       "      <td>FypMoney is Digital NEO Bank for Teenagers, em...</td>\n",
       "      <td>$2,000,000</td>\n",
       "      <td>Seed</td>\n",
       "      <td>2021</td>\n",
       "    </tr>\n",
       "  </tbody>\n",
       "</table>\n",
       "</div>"
      ],
      "text/plain": [
       "    Company/Brand HeadQuarter          Sector  \\\n",
       "0  Unbox Robotics   Bangalore      AI startup   \n",
       "1          upGrad      Mumbai          EdTech   \n",
       "2     Lead School      Mumbai          EdTech   \n",
       "3         Bizongo      Mumbai  B2B E-commerce   \n",
       "4        FypMoney    Gurugram         FinTech   \n",
       "\n",
       "                                        What it does        Amount  \\\n",
       "0  Unbox Robotics builds on-demand AI-driven ware...    $1,200,000   \n",
       "1     UpGrad is an online higher education platform.  $120,000,000   \n",
       "2  LEAD School offers technology based school tra...   $30,000,000   \n",
       "3  Bizongo is a business-to-business online marke...   $51,000,000   \n",
       "4  FypMoney is Digital NEO Bank for Teenagers, em...    $2,000,000   \n",
       "\n",
       "          Stage  Year  \n",
       "0  Pre-series A  2021  \n",
       "1          None  2021  \n",
       "2      Series D  2021  \n",
       "3      Series C  2021  \n",
       "4          Seed  2021  "
      ]
     },
     "execution_count": 46,
     "metadata": {},
     "output_type": "execute_result"
    }
   ],
   "source": [
    "# cleaning the 2021 data: we are to add year column and drop specific columns.\n",
    "\n",
    "## droping columns\n",
    "columns_drop = ['Founders', 'Founded', 'Investor']\n",
    "df2021copy = df2021copy.drop(columns=columns_drop)\n",
    "\n",
    "# add a year column in the data \n",
    "Year = [2021]*len(df2021copy)\n",
    "df2021copy[\"Year\"] = Year\n",
    "\n",
    "# we rename specific columns\n",
    "new_column_name = {'Company_Brand':'Company/Brand',\n",
    "                  'What_it_does':'What it does' }\n",
    "df2021copy = df2021copy.rename(columns=new_column_name) \n",
    "\n",
    "df2021copy.head()"
   ]
  },
  {
   "cell_type": "code",
   "execution_count": 47,
   "metadata": {},
   "outputs": [
    {
     "name": "stdout",
     "output_type": "stream",
     "text": [
      "<class 'pandas.core.frame.DataFrame'>\n",
      "RangeIndex: 1209 entries, 0 to 1208\n",
      "Data columns (total 7 columns):\n",
      " #   Column         Non-Null Count  Dtype \n",
      "---  ------         --------------  ----- \n",
      " 0   Company/Brand  1209 non-null   object\n",
      " 1   HeadQuarter    1208 non-null   object\n",
      " 2   Sector         1209 non-null   object\n",
      " 3   What it does   1209 non-null   object\n",
      " 4   Amount         1206 non-null   object\n",
      " 5   Stage          781 non-null    object\n",
      " 6   Year           1209 non-null   int64 \n",
      "dtypes: int64(1), object(6)\n",
      "memory usage: 66.2+ KB\n"
     ]
    }
   ],
   "source": [
    "df2021copy.info()"
   ]
  },
  {
   "cell_type": "code",
   "execution_count": 48,
   "metadata": {},
   "outputs": [
    {
     "name": "stdout",
     "output_type": "stream",
     "text": [
      "Company/Brand            object\n",
      "HeadQuarter              object\n",
      "Sector                   object\n",
      "What it does             object\n",
      "Amount                   object\n",
      "Stage                    object\n",
      "Year             datetime64[ns]\n",
      "dtype: object\n"
     ]
    }
   ],
   "source": [
    "# Changing 'Year' column to datetime\n",
    "df2021copy['Year'] = pd.to_datetime(df2021copy['Year'], format='%Y')\n",
    "\n",
    "# Verifying the changes\n",
    "print(df2021copy.dtypes)"
   ]
  },
  {
   "cell_type": "code",
   "execution_count": 49,
   "metadata": {},
   "outputs": [
    {
     "data": {
      "text/plain": [
       "Company/Brand      0\n",
       "HeadQuarter        1\n",
       "Sector             0\n",
       "What it does       0\n",
       "Amount             3\n",
       "Stage            428\n",
       "Year               0\n",
       "dtype: int64"
      ]
     },
     "execution_count": 49,
     "metadata": {},
     "output_type": "execute_result"
    }
   ],
   "source": [
    "#Checking for NAN values\n",
    "df2021copy.isnull().sum()"
   ]
  },
  {
   "cell_type": "code",
   "execution_count": 50,
   "metadata": {},
   "outputs": [
    {
     "data": {
      "text/plain": [
       "Company/Brand      0\n",
       "HeadQuarter        1\n",
       "Sector             0\n",
       "What it does       0\n",
       "Amount             0\n",
       "Stage            428\n",
       "Year               0\n",
       "dtype: int64"
      ]
     },
     "execution_count": 50,
     "metadata": {},
     "output_type": "execute_result"
    }
   ],
   "source": [
    "# Cleaning the 'Amount' column by removing commas and currency symbols\n",
    "df2021copy['Amount'] = pd.to_numeric(df2021copy['Amount'].replace('[\\$,]', '', regex=True), errors='coerce')\n",
    "\n",
    "# Calculate the median of the 'Amount' column\n",
    "median = df2021copy['Amount'].median()\n",
    "\n",
    "# Fill missing values in the 'Amount' column with the calculated median\n",
    "df2021copy['Amount'].fillna(median, inplace=True)\n",
    "\n",
    "# Checking the results\n",
    "df2021copy.isnull().sum()"
   ]
  },
  {
   "cell_type": "code",
   "execution_count": 51,
   "metadata": {},
   "outputs": [
    {
     "data": {
      "text/plain": [
       "array(['Bangalore', 'Mumbai', 'Gurugram', 'New Delhi', 'Hyderabad',\n",
       "       'Jaipur', 'Ahmadabad', 'Chennai', None,\n",
       "       'Small Towns, Andhra Pradesh', 'Goa', 'Rajsamand', 'Ranchi',\n",
       "       'Faridabad, Haryana', 'Gujarat', 'Pune', 'Thane', 'Computer Games',\n",
       "       'Cochin', 'Noida', 'Chandigarh', 'Gurgaon', 'Vadodara',\n",
       "       'Food & Beverages', 'Pharmaceuticals\\t#REF!', 'Gurugram\\t#REF!',\n",
       "       'Kolkata', 'Ahmedabad', 'Mohali', 'Haryana', 'Indore', 'Powai',\n",
       "       'Ghaziabad', 'Nagpur', 'West Bengal', 'Patna', 'Samsitpur',\n",
       "       'Lucknow', 'Telangana', 'Silvassa', 'Thiruvananthapuram',\n",
       "       'Faridabad', 'Roorkee', 'Ambernath', 'Panchkula', 'Surat',\n",
       "       'Coimbatore', 'Andheri', 'Mangalore', 'Telugana', 'Bhubaneswar',\n",
       "       'Kottayam', 'Beijing', 'Panaji', 'Satara', 'Orissia', 'Jodhpur',\n",
       "       'New York', 'Santra', 'Mountain View, CA', 'Trivandrum',\n",
       "       'Jharkhand', 'Kanpur', 'Bhilwara', 'Guwahati',\n",
       "       'Online Media\\t#REF!', 'Kochi', 'London',\n",
       "       'Information Technology & Services', 'The Nilgiris', 'Gandhinagar'],\n",
       "      dtype=object)"
      ]
     },
     "execution_count": 51,
     "metadata": {},
     "output_type": "execute_result"
    }
   ],
   "source": [
    "df2021copy['HeadQuarter'].unique()"
   ]
  },
  {
   "cell_type": "code",
   "execution_count": 52,
   "metadata": {},
   "outputs": [],
   "source": [
    "# Replace/correct specific entries (e.g There is no place called 'Small towns')\n",
    "df2021copy['HeadQuarter'] = df2021copy['HeadQuarter'].replace({\n",
    "    'Small Towns, Andhra Pradesh': 'Andhra Pradesh',\n",
    "    'Gurugram\\t#REF!': 'Gurugram'\n",
    "})"
   ]
  },
  {
   "cell_type": "code",
   "execution_count": 53,
   "metadata": {},
   "outputs": [],
   "source": [
    "# split HeadQuarter into list and get first item (This helps to handle Faridabad, Haryana and Mountain view, CA)\n",
    "df2021copy['HeadQuarter'] = df2021copy['HeadQuarter'].str.split(',').str[0]\n"
   ]
  },
  {
   "cell_type": "code",
   "execution_count": 54,
   "metadata": {},
   "outputs": [
    {
     "name": "stdout",
     "output_type": "stream",
     "text": [
      "['Bangalore' 'Mumbai' 'Gurugram' 'New Delhi' 'Hyderabad' 'Jaipur'\n",
      " 'Ahmadabad' 'Chennai' None 'Andhra Pradesh' 'Goa' 'Rajsamand' 'Ranchi'\n",
      " 'Faridabad' 'Gujarat' 'Pune' 'Thane' 'Cochin' 'Noida' 'Chandigarh'\n",
      " 'Gurgaon' 'Vadodara' 'Kolkata' 'Ahmedabad' 'Mohali' 'Haryana' 'Indore'\n",
      " 'Powai' 'Ghaziabad' 'Nagpur' 'West Bengal' 'Patna' 'Samsitpur' 'Lucknow'\n",
      " 'Telangana' 'Silvassa' 'Thiruvananthapuram' 'Roorkee' 'Ambernath'\n",
      " 'Panchkula' 'Surat' 'Coimbatore' 'Andheri' 'Mangalore' 'Telugana'\n",
      " 'Bhubaneswar' 'Kottayam' 'Beijing' 'Panaji' 'Satara' 'Orissia' 'Jodhpur'\n",
      " 'New York' 'Santra' 'Mountain View' 'Trivandrum' 'Jharkhand' 'Kanpur'\n",
      " 'Bhilwara' 'Guwahati' 'Kochi' 'London' 'The Nilgiris' 'Gandhinagar']\n"
     ]
    }
   ],
   "source": [
    "# remove unwanted enteries in the HeadQuarter column\n",
    "unwanted_values = ['Computer Games',\n",
    "                   'Pharmaceuticals\\t#REF!',\n",
    "                   'Food & Beverages',\n",
    "                   'Information Technology & Services',\n",
    "                   'Online Media\\t#REF!',]\n",
    "df2021copy = df2021copy[~df2021copy['HeadQuarter'].isin(unwanted_values)]\n",
    "\n",
    "# Remove unwanted characters or whitespace\n",
    "df2021copy['HeadQuarter'] = df2021copy['HeadQuarter'].str.strip()\n",
    "\n",
    "# Verify the changes\n",
    "print(df2021copy['HeadQuarter'].unique())"
   ]
  },
  {
   "cell_type": "code",
   "execution_count": 55,
   "metadata": {},
   "outputs": [
    {
     "data": {
      "text/plain": [
       "0"
      ]
     },
     "execution_count": 55,
     "metadata": {},
     "output_type": "execute_result"
    }
   ],
   "source": [
    "# Replacing the null value with Not Available\n",
    "df2021copy['HeadQuarter'].fillna('Not Available', inplace=True)\n",
    "\n",
    "# Verify changes\n",
    "df2021copy['HeadQuarter'].isnull().sum()"
   ]
  },
  {
   "cell_type": "code",
   "execution_count": 56,
   "metadata": {},
   "outputs": [
    {
     "data": {
      "text/plain": [
       "0                  AI startup\n",
       "1                      EdTech\n",
       "2                      EdTech\n",
       "3              B2B E-commerce\n",
       "4                     FinTech\n",
       "                ...          \n",
       "1204    Staffing & Recruiting\n",
       "1205         Food & Beverages\n",
       "1206       Financial Services\n",
       "1207                   EdTech\n",
       "1208       Financial Services\n",
       "Name: Sector, Length: 1201, dtype: object"
      ]
     },
     "execution_count": 56,
     "metadata": {},
     "output_type": "execute_result"
    }
   ],
   "source": [
    "# Previewing the Sector column\n",
    "df2021copy['Sector']\n"
   ]
  },
  {
   "cell_type": "code",
   "execution_count": 57,
   "metadata": {},
   "outputs": [],
   "source": [
    "# Convert all sector names to lowercase to ensure consistency as there are inconsistent spelling (e.g. FinTech and Fintech, EdTech and Edtech ).\n",
    "df2021copy['Sector'] = df2021copy['Sector'].str.lower()\n",
    "\n",
    "# Remove any leading and trailing whitespaces just incase from the sector names to handle variations caused by extra spaces\n",
    "df2021copy['Sector'] = df2021copy['Sector'].str.strip()\n"
   ]
  },
  {
   "cell_type": "code",
   "execution_count": 58,
   "metadata": {},
   "outputs": [
    {
     "data": {
      "text/plain": [
       "array(['Pre-series A', None, 'Series D', 'Series C', 'Seed', 'Series B',\n",
       "       'Series E', 'Pre-seed', 'Series A', 'Pre-series B', 'Debt',\n",
       "       'Bridge', 'Seed+', 'Series F2', 'Series A+', 'Series G',\n",
       "       'Series F', 'Series H', 'Series B3', 'PE', 'Series F1',\n",
       "       'Pre-series A1', '$300000', 'Early seed', 'Series D1', '$6000000',\n",
       "       '$1000000', 'Seies A', 'Pre-series', 'Series A2', 'Series I'],\n",
       "      dtype=object)"
      ]
     },
     "execution_count": 58,
     "metadata": {},
     "output_type": "execute_result"
    }
   ],
   "source": [
    "# checking the unique entires in the stage column\n",
    "df2021copy['Stage'].unique()"
   ]
  },
  {
   "cell_type": "code",
   "execution_count": 59,
   "metadata": {},
   "outputs": [
    {
     "data": {
      "text/plain": [
       "Stage\n",
       "Seed             244\n",
       "Pre-series A     157\n",
       "Series A         126\n",
       "Series B          49\n",
       "Pre-seed          47\n",
       "Series C          44\n",
       "Debt              27\n",
       "Series D          21\n",
       "Series E          18\n",
       "Pre-series B      10\n",
       "Series F           6\n",
       "Pre-series A1      4\n",
       "Series G           2\n",
       "Bridge             2\n",
       "Series H           2\n",
       "Pre-series         2\n",
       "$300000            2\n",
       "Series D1          1\n",
       "Series A2          1\n",
       "Seies A            1\n",
       "$1000000           1\n",
       "$6000000           1\n",
       "Seed+              1\n",
       "Early seed         1\n",
       "Series F2          1\n",
       "Series F1          1\n",
       "PE                 1\n",
       "Series B3          1\n",
       "Series A+          1\n",
       "Series I           1\n",
       "Name: count, dtype: int64"
      ]
     },
     "execution_count": 59,
     "metadata": {},
     "output_type": "execute_result"
    }
   ],
   "source": [
    "# checking the frequency of the unique entires\n",
    "df2021copy['Stage'].value_counts()"
   ]
  },
  {
   "cell_type": "code",
   "execution_count": 61,
   "metadata": {},
   "outputs": [
    {
     "data": {
      "text/plain": [
       "array(['Pre-Series A', None, 'Series D', 'Series C', 'Seed', 'Series B',\n",
       "       'Series E', 'Pre-Seed', 'Series A', 'Pre-Series B', 'Debt',\n",
       "       'Bridge', 'Series F', 'Series G', 'Series H', 'PE', 'Pre-Series',\n",
       "       'Series I'], dtype=object)"
      ]
     },
     "execution_count": 61,
     "metadata": {},
     "output_type": "execute_result"
    }
   ],
   "source": [
    "# Standardize stage column to suit prevoius stage mapping done on the 2020 data set \n",
    "df2021copy['Stage'] = df2021copy['Stage'].replace({\n",
    "    'Pre-series A1': 'Pre-Series A',\n",
    "    'Pre-series A': 'Pre-Series A',\n",
    "    'Pre-series B': 'Pre-Series B',\n",
    "    'Pre-seed': 'Pre-Seed',\n",
    "    'Seed+': 'Seed',\n",
    "    'Pre-series': 'Pre-Series',\n",
    "    'Seies A': 'Series A',\n",
    "    'Series A2': 'Series A',\n",
    "    'Early seed': 'Seed',\n",
    "    'Series F1': 'Series F',\n",
    "    'Series F2': 'Series F',\n",
    "    'Series B3': 'Series B',\n",
    "    'Series A+': 'Series A',\n",
    "    'Series D1': 'Series D',\n",
    "})\n",
    "\n",
    "# Remove unclear entries, handling None values\n",
    "df2021copy = df2021copy[~df2021copy['Stage'].astype(str).str.contains(r'^\\$', regex=True, na=False)]\n",
    "\n",
    "# Verify changes\n",
    "df2021copy['Stage'].unique()"
   ]
  },
  {
   "cell_type": "code",
   "execution_count": 62,
   "metadata": {},
   "outputs": [
    {
     "data": {
      "text/plain": [
       "Stage\n",
       "Seed            246\n",
       "Pre-Series A    161\n",
       "Series A        129\n",
       "Series B         50\n",
       "Pre-Seed         47\n",
       "Series C         44\n",
       "Debt             27\n",
       "Series D         22\n",
       "Series E         18\n",
       "Pre-Series B     10\n",
       "Series F          8\n",
       "Bridge            2\n",
       "Series G          2\n",
       "Series H          2\n",
       "Pre-Series        2\n",
       "PE                1\n",
       "Series I          1\n",
       "Name: count, dtype: int64"
      ]
     },
     "execution_count": 62,
     "metadata": {},
     "output_type": "execute_result"
    }
   ],
   "source": [
    "# Checking the frequency of the unique values\n",
    "df2021copy['Stage'].value_counts()"
   ]
  },
  {
   "cell_type": "code",
   "execution_count": 377,
   "metadata": {},
   "outputs": [
    {
     "data": {
      "text/plain": [
       "425"
      ]
     },
     "execution_count": 377,
     "metadata": {},
     "output_type": "execute_result"
    }
   ],
   "source": [
    "# viewing the total number of null values \n",
    "df2021copy['Stage'].isnull().sum()"
   ]
  },
  {
   "cell_type": "code",
   "execution_count": 63,
   "metadata": {},
   "outputs": [
    {
     "name": "stdout",
     "output_type": "stream",
     "text": [
      "object\n"
     ]
    }
   ],
   "source": [
    "# viewing the datatype of the stage column\n",
    "print(df2021copy['Stage'].dtype)\n"
   ]
  },
  {
   "cell_type": "code",
   "execution_count": 64,
   "metadata": {},
   "outputs": [
    {
     "data": {
      "text/plain": [
       "0"
      ]
     },
     "execution_count": 64,
     "metadata": {},
     "output_type": "execute_result"
    }
   ],
   "source": [
    "# Replace NaN with the most frequent value\n",
    "most_frequent_stage = df2021copy['Stage'].mode()[0]\n",
    "df2021copy['Stage'] = df2021copy['Stage'].replace(np.nan, most_frequent_stage)\n",
    "\n",
    "# Verify the changes\n",
    "df2021copy['Stage'].isnull().sum()\n"
   ]
  },
  {
   "cell_type": "code",
   "execution_count": 65,
   "metadata": {},
   "outputs": [
    {
     "data": {
      "text/plain": [
       "Company/Brand    0\n",
       "HeadQuarter      0\n",
       "Sector           0\n",
       "What it does     0\n",
       "Amount           0\n",
       "Stage            0\n",
       "Year             0\n",
       "dtype: int64"
      ]
     },
     "execution_count": 65,
     "metadata": {},
     "output_type": "execute_result"
    }
   ],
   "source": [
    "# Checking for null values in the 2020 dataset\n",
    "df2021copy.isnull().sum()\n"
   ]
  },
  {
   "cell_type": "code",
   "execution_count": 66,
   "metadata": {},
   "outputs": [
    {
     "data": {
      "text/plain": [
       "(1197, 7)"
      ]
     },
     "execution_count": 66,
     "metadata": {},
     "output_type": "execute_result"
    }
   ],
   "source": [
    "# Viewing the shape of the data frame\n",
    "df2021copy.shape"
   ]
  },
  {
   "cell_type": "markdown",
   "metadata": {},
   "source": [
    "* 2019 Dataset"
   ]
  },
  {
   "cell_type": "code",
   "execution_count": 68,
   "metadata": {},
   "outputs": [
    {
     "data": {
      "text/html": [
       "<div>\n",
       "<style scoped>\n",
       "    .dataframe tbody tr th:only-of-type {\n",
       "        vertical-align: middle;\n",
       "    }\n",
       "\n",
       "    .dataframe tbody tr th {\n",
       "        vertical-align: top;\n",
       "    }\n",
       "\n",
       "    .dataframe thead th {\n",
       "        text-align: right;\n",
       "    }\n",
       "</style>\n",
       "<table border=\"1\" class=\"dataframe\">\n",
       "  <thead>\n",
       "    <tr style=\"text-align: right;\">\n",
       "      <th></th>\n",
       "      <th>Company/Brand</th>\n",
       "      <th>Founded</th>\n",
       "      <th>HeadQuarter</th>\n",
       "      <th>Sector</th>\n",
       "      <th>What it does</th>\n",
       "      <th>Founders</th>\n",
       "      <th>Investor</th>\n",
       "      <th>Amount($)</th>\n",
       "      <th>Stage</th>\n",
       "    </tr>\n",
       "  </thead>\n",
       "  <tbody>\n",
       "    <tr>\n",
       "      <th>0</th>\n",
       "      <td>Bombay Shaving</td>\n",
       "      <td>NaN</td>\n",
       "      <td>NaN</td>\n",
       "      <td>Ecommerce</td>\n",
       "      <td>Provides a range of male grooming products</td>\n",
       "      <td>Shantanu Deshpande</td>\n",
       "      <td>Sixth Sense Ventures</td>\n",
       "      <td>$6,300,000</td>\n",
       "      <td>NaN</td>\n",
       "    </tr>\n",
       "    <tr>\n",
       "      <th>1</th>\n",
       "      <td>Ruangguru</td>\n",
       "      <td>2014.0</td>\n",
       "      <td>Mumbai</td>\n",
       "      <td>Edtech</td>\n",
       "      <td>A learning platform that provides topic-based ...</td>\n",
       "      <td>Adamas Belva Syah Devara, Iman Usman.</td>\n",
       "      <td>General Atlantic</td>\n",
       "      <td>$150,000,000</td>\n",
       "      <td>Series C</td>\n",
       "    </tr>\n",
       "    <tr>\n",
       "      <th>2</th>\n",
       "      <td>Eduisfun</td>\n",
       "      <td>NaN</td>\n",
       "      <td>Mumbai</td>\n",
       "      <td>Edtech</td>\n",
       "      <td>It aims to make learning fun via games.</td>\n",
       "      <td>Jatin Solanki</td>\n",
       "      <td>Deepak Parekh, Amitabh Bachchan, Piyush Pandey</td>\n",
       "      <td>$28,000,000</td>\n",
       "      <td>Fresh funding</td>\n",
       "    </tr>\n",
       "    <tr>\n",
       "      <th>3</th>\n",
       "      <td>HomeLane</td>\n",
       "      <td>2014.0</td>\n",
       "      <td>Chennai</td>\n",
       "      <td>Interior design</td>\n",
       "      <td>Provides interior designing solutions</td>\n",
       "      <td>Srikanth Iyer, Rama Harinath</td>\n",
       "      <td>Evolvence India Fund (EIF), Pidilite Group, FJ...</td>\n",
       "      <td>$30,000,000</td>\n",
       "      <td>Series D</td>\n",
       "    </tr>\n",
       "    <tr>\n",
       "      <th>4</th>\n",
       "      <td>Nu Genes</td>\n",
       "      <td>2004.0</td>\n",
       "      <td>Telangana</td>\n",
       "      <td>AgriTech</td>\n",
       "      <td>It is a seed company engaged in production, pr...</td>\n",
       "      <td>Narayana Reddy Punyala</td>\n",
       "      <td>Innovation in Food and Agriculture (IFA)</td>\n",
       "      <td>$6,000,000</td>\n",
       "      <td>NaN</td>\n",
       "    </tr>\n",
       "  </tbody>\n",
       "</table>\n",
       "</div>"
      ],
      "text/plain": [
       "    Company/Brand  Founded HeadQuarter           Sector  \\\n",
       "0  Bombay Shaving      NaN         NaN        Ecommerce   \n",
       "1       Ruangguru   2014.0      Mumbai           Edtech   \n",
       "2        Eduisfun      NaN      Mumbai           Edtech   \n",
       "3        HomeLane   2014.0     Chennai  Interior design   \n",
       "4        Nu Genes   2004.0   Telangana         AgriTech   \n",
       "\n",
       "                                        What it does  \\\n",
       "0         Provides a range of male grooming products   \n",
       "1  A learning platform that provides topic-based ...   \n",
       "2            It aims to make learning fun via games.   \n",
       "3              Provides interior designing solutions   \n",
       "4  It is a seed company engaged in production, pr...   \n",
       "\n",
       "                                Founders  \\\n",
       "0                     Shantanu Deshpande   \n",
       "1  Adamas Belva Syah Devara, Iman Usman.   \n",
       "2                          Jatin Solanki   \n",
       "3           Srikanth Iyer, Rama Harinath   \n",
       "4                 Narayana Reddy Punyala   \n",
       "\n",
       "                                            Investor     Amount($)  \\\n",
       "0                               Sixth Sense Ventures    $6,300,000   \n",
       "1                                   General Atlantic  $150,000,000   \n",
       "2     Deepak Parekh, Amitabh Bachchan, Piyush Pandey   $28,000,000   \n",
       "3  Evolvence India Fund (EIF), Pidilite Group, FJ...   $30,000,000   \n",
       "4           Innovation in Food and Agriculture (IFA)    $6,000,000   \n",
       "\n",
       "           Stage  \n",
       "0            NaN  \n",
       "1       Series C  \n",
       "2  Fresh funding  \n",
       "3       Series D  \n",
       "4            NaN  "
      ]
     },
     "execution_count": 68,
     "metadata": {},
     "output_type": "execute_result"
    }
   ],
   "source": [
    "# Rename the 2019 dataset\n",
    "df2019copy = df2019\n",
    "df2019copy.head()"
   ]
  },
  {
   "cell_type": "code",
   "execution_count": 69,
   "metadata": {},
   "outputs": [
    {
     "data": {
      "text/html": [
       "<div>\n",
       "<style scoped>\n",
       "    .dataframe tbody tr th:only-of-type {\n",
       "        vertical-align: middle;\n",
       "    }\n",
       "\n",
       "    .dataframe tbody tr th {\n",
       "        vertical-align: top;\n",
       "    }\n",
       "\n",
       "    .dataframe thead th {\n",
       "        text-align: right;\n",
       "    }\n",
       "</style>\n",
       "<table border=\"1\" class=\"dataframe\">\n",
       "  <thead>\n",
       "    <tr style=\"text-align: right;\">\n",
       "      <th></th>\n",
       "      <th>Company/Brand</th>\n",
       "      <th>HeadQuarter</th>\n",
       "      <th>Sector</th>\n",
       "      <th>What it does</th>\n",
       "      <th>Amount($)</th>\n",
       "      <th>Stage</th>\n",
       "      <th>Year</th>\n",
       "    </tr>\n",
       "  </thead>\n",
       "  <tbody>\n",
       "    <tr>\n",
       "      <th>0</th>\n",
       "      <td>Bombay Shaving</td>\n",
       "      <td>NaN</td>\n",
       "      <td>Ecommerce</td>\n",
       "      <td>Provides a range of male grooming products</td>\n",
       "      <td>$6,300,000</td>\n",
       "      <td>NaN</td>\n",
       "      <td>2019</td>\n",
       "    </tr>\n",
       "    <tr>\n",
       "      <th>1</th>\n",
       "      <td>Ruangguru</td>\n",
       "      <td>Mumbai</td>\n",
       "      <td>Edtech</td>\n",
       "      <td>A learning platform that provides topic-based ...</td>\n",
       "      <td>$150,000,000</td>\n",
       "      <td>Series C</td>\n",
       "      <td>2019</td>\n",
       "    </tr>\n",
       "    <tr>\n",
       "      <th>2</th>\n",
       "      <td>Eduisfun</td>\n",
       "      <td>Mumbai</td>\n",
       "      <td>Edtech</td>\n",
       "      <td>It aims to make learning fun via games.</td>\n",
       "      <td>$28,000,000</td>\n",
       "      <td>Fresh funding</td>\n",
       "      <td>2019</td>\n",
       "    </tr>\n",
       "    <tr>\n",
       "      <th>3</th>\n",
       "      <td>HomeLane</td>\n",
       "      <td>Chennai</td>\n",
       "      <td>Interior design</td>\n",
       "      <td>Provides interior designing solutions</td>\n",
       "      <td>$30,000,000</td>\n",
       "      <td>Series D</td>\n",
       "      <td>2019</td>\n",
       "    </tr>\n",
       "    <tr>\n",
       "      <th>4</th>\n",
       "      <td>Nu Genes</td>\n",
       "      <td>Telangana</td>\n",
       "      <td>AgriTech</td>\n",
       "      <td>It is a seed company engaged in production, pr...</td>\n",
       "      <td>$6,000,000</td>\n",
       "      <td>NaN</td>\n",
       "      <td>2019</td>\n",
       "    </tr>\n",
       "  </tbody>\n",
       "</table>\n",
       "</div>"
      ],
      "text/plain": [
       "    Company/Brand HeadQuarter           Sector  \\\n",
       "0  Bombay Shaving         NaN        Ecommerce   \n",
       "1       Ruangguru      Mumbai           Edtech   \n",
       "2        Eduisfun      Mumbai           Edtech   \n",
       "3        HomeLane     Chennai  Interior design   \n",
       "4        Nu Genes   Telangana         AgriTech   \n",
       "\n",
       "                                        What it does     Amount($)  \\\n",
       "0         Provides a range of male grooming products    $6,300,000   \n",
       "1  A learning platform that provides topic-based ...  $150,000,000   \n",
       "2            It aims to make learning fun via games.   $28,000,000   \n",
       "3              Provides interior designing solutions   $30,000,000   \n",
       "4  It is a seed company engaged in production, pr...    $6,000,000   \n",
       "\n",
       "           Stage  Year  \n",
       "0            NaN  2019  \n",
       "1       Series C  2019  \n",
       "2  Fresh funding  2019  \n",
       "3       Series D  2019  \n",
       "4            NaN  2019  "
      ]
     },
     "execution_count": 69,
     "metadata": {},
     "output_type": "execute_result"
    }
   ],
   "source": [
    "# cleaning the 2019 data: we are to add year column and drop specific columns.\n",
    "\n",
    "## droping columns\n",
    "columns_drop = ['Founders', 'Founded', 'Investor']\n",
    "df2019copy = df2019copy.drop(columns=columns_drop)\n",
    "\n",
    "# add the year column to the dataframe \n",
    "Year = [2019]*len(df2019copy)\n",
    "df2019copy[\"Year\"] = Year\n",
    "\n",
    "df2019copy.head()"
   ]
  },
  {
   "cell_type": "code",
   "execution_count": 70,
   "metadata": {},
   "outputs": [
    {
     "name": "stdout",
     "output_type": "stream",
     "text": [
      "<class 'pandas.core.frame.DataFrame'>\n",
      "RangeIndex: 89 entries, 0 to 88\n",
      "Data columns (total 7 columns):\n",
      " #   Column         Non-Null Count  Dtype \n",
      "---  ------         --------------  ----- \n",
      " 0   Company/Brand  89 non-null     object\n",
      " 1   HeadQuarter    70 non-null     object\n",
      " 2   Sector         84 non-null     object\n",
      " 3   What it does   89 non-null     object\n",
      " 4   Amount         89 non-null     object\n",
      " 5   Stage          43 non-null     object\n",
      " 6   Year           89 non-null     int64 \n",
      "dtypes: int64(1), object(6)\n",
      "memory usage: 5.0+ KB\n"
     ]
    }
   ],
   "source": [
    "# we rename 'Amount($)' column to 'Amount' to suit the column header of 2020 and 20211 dataset\n",
    "new_column_name = {'Amount($)':'Amount'}\n",
    "df2019copy = df2019copy.rename(columns=new_column_name)\n",
    "\n",
    "df2019copy.info()"
   ]
  },
  {
   "cell_type": "code",
   "execution_count": 71,
   "metadata": {},
   "outputs": [
    {
     "name": "stdout",
     "output_type": "stream",
     "text": [
      "Company/Brand            object\n",
      "HeadQuarter              object\n",
      "Sector                   object\n",
      "What it does             object\n",
      "Amount                   object\n",
      "Stage                    object\n",
      "Year             datetime64[ns]\n",
      "dtype: object\n"
     ]
    }
   ],
   "source": [
    "# Changing 'Year' column to datetime\n",
    "df2019copy['Year'] = pd.to_datetime(df2019copy['Year'], format='%Y')\n",
    "\n",
    "# Verifying the changes\n",
    "print(df2019copy.dtypes)"
   ]
  },
  {
   "cell_type": "code",
   "execution_count": 72,
   "metadata": {},
   "outputs": [
    {
     "name": "stdout",
     "output_type": "stream",
     "text": [
      "Company/Brand            object\n",
      "HeadQuarter              object\n",
      "Sector                   object\n",
      "What it does             object\n",
      "Amount                  float64\n",
      "Stage                    object\n",
      "Year             datetime64[ns]\n",
      "dtype: object\n"
     ]
    }
   ],
   "source": [
    "# Remove dollar signs and commas from the \"Amount\" column\n",
    "df2019copy['Amount'] = df2019copy['Amount'].str.replace('[\\$,]', '', regex=True)\n",
    "\n",
    "# Convert the \"Amount\" column numeric values\n",
    "df2019copy['Amount'] = pd.to_numeric(df2019copy['Amount'], errors='coerce', downcast='integer')\n",
    "\n",
    "# Verify the changes\n",
    "print(df2019copy.dtypes)\n",
    "\n"
   ]
  },
  {
   "cell_type": "code",
   "execution_count": 73,
   "metadata": {},
   "outputs": [
    {
     "data": {
      "text/plain": [
       "Company/Brand     0\n",
       "HeadQuarter      19\n",
       "Sector            5\n",
       "What it does      0\n",
       "Amount           12\n",
       "Stage            46\n",
       "Year              0\n",
       "dtype: int64"
      ]
     },
     "execution_count": 73,
     "metadata": {},
     "output_type": "execute_result"
    }
   ],
   "source": [
    "#Checking for NAN values\n",
    "df2019copy.isnull().sum()"
   ]
  },
  {
   "cell_type": "code",
   "execution_count": 74,
   "metadata": {},
   "outputs": [
    {
     "data": {
      "text/plain": [
       "Company/Brand     0\n",
       "HeadQuarter      19\n",
       "Sector            5\n",
       "What it does      0\n",
       "Amount            0\n",
       "Stage            46\n",
       "Year              0\n",
       "dtype: int64"
      ]
     },
     "execution_count": 74,
     "metadata": {},
     "output_type": "execute_result"
    }
   ],
   "source": [
    "# Select Amount columns with null values\n",
    "null_columns = [\"Amount\"]\n",
    " \n",
    "# a SimpleImputer to fill null values wih median\n",
    "imputer = SimpleImputer(strategy='median', fill_value = 'NaN')\n",
    " \n",
    "# Apply the imputer to fill null values in selected columns\n",
    "df2019copy[null_columns] = imputer.fit_transform(df2019copy[null_columns])\n",
    "\n",
    "df2019copy.isnull().sum()"
   ]
  },
  {
   "cell_type": "code",
   "execution_count": 75,
   "metadata": {},
   "outputs": [
    {
     "data": {
      "text/plain": [
       "0           NaN\n",
       "1        Mumbai\n",
       "2        Mumbai\n",
       "3       Chennai\n",
       "4     Telangana\n",
       "        ...    \n",
       "84       Mumbai\n",
       "85     Gurugram\n",
       "86        Delhi\n",
       "87        Delhi\n",
       "88    Rajasthan\n",
       "Name: HeadQuarter, Length: 89, dtype: object"
      ]
     },
     "execution_count": 75,
     "metadata": {},
     "output_type": "execute_result"
    }
   ],
   "source": [
    "# Previewing the HeadQuarter column of 2019 dataset\n",
    "df2019copy['HeadQuarter']"
   ]
  },
  {
   "cell_type": "code",
   "execution_count": 77,
   "metadata": {},
   "outputs": [
    {
     "data": {
      "text/plain": [
       "0"
      ]
     },
     "execution_count": 77,
     "metadata": {},
     "output_type": "execute_result"
    }
   ],
   "source": [
    "# Replacing the null value with Not Available\n",
    "df2019copy['HeadQuarter'].fillna('Not Available', inplace=True)\n",
    "\n",
    "# Verify changes\n",
    "df2019copy['HeadQuarter'].isnull().sum()\n"
   ]
  },
  {
   "cell_type": "code",
   "execution_count": 79,
   "metadata": {},
   "outputs": [
    {
     "data": {
      "text/plain": [
       "0                   Ecommerce\n",
       "1                      Edtech\n",
       "2                      Edtech\n",
       "3             Interior design\n",
       "4                    AgriTech\n",
       "               ...           \n",
       "84                  Infratech\n",
       "85                Hospitality\n",
       "86    Automobile & Technology\n",
       "87                 Automobile\n",
       "88                    Banking\n",
       "Name: Sector, Length: 89, dtype: object"
      ]
     },
     "execution_count": 79,
     "metadata": {},
     "output_type": "execute_result"
    }
   ],
   "source": [
    "# Previewing the Sector column of 2019 dataset\n",
    "df2019copy['Sector']"
   ]
  },
  {
   "cell_type": "code",
   "execution_count": 80,
   "metadata": {},
   "outputs": [
    {
     "data": {
      "text/plain": [
       "Sector\n",
       "Edtech                          7\n",
       "Fintech                         5\n",
       "AgriTech                        4\n",
       "Technology                      4\n",
       "SaaS                            4\n",
       "Automobile                      3\n",
       "E-commerce                      3\n",
       "Logistics                       3\n",
       "Food                            2\n",
       "Foodtech                        2\n",
       "Accomodation                    2\n",
       "Automotive tech                 2\n",
       "IoT                             2\n",
       "AI                              2\n",
       "E-marketplace                   2\n",
       "Ecommerce                       1\n",
       "Cybersecurity                   1\n",
       "Mutual Funds                    1\n",
       "Food & tech                     1\n",
       "Legal tech                      1\n",
       "Sports                          1\n",
       "B2B Supply Chain                1\n",
       "Healthtech                      1\n",
       "Yoga & wellness                 1\n",
       "Virtual Banking                 1\n",
       "Transportation                  1\n",
       "Transport & Rentals             1\n",
       "Marketing & Customer loyalty    1\n",
       "Infratech                       1\n",
       "Hospitality                     1\n",
       "Automobile & Technology         1\n",
       "Games                           1\n",
       "Food & Nutrition                1\n",
       "Jewellery                       1\n",
       "Safety tech                     1\n",
       "Interior design                 1\n",
       "AI & Tech                       1\n",
       "E-commerce & AR                 1\n",
       "HR tech                         1\n",
       "Food tech                       1\n",
       "Health                          1\n",
       "Healthcare                      1\n",
       "Pharmaceutical                  1\n",
       "B2B                             1\n",
       "Insurance technology            1\n",
       "Robotics & AI                   1\n",
       "Travel                          1\n",
       "Manufacturing                   1\n",
       "Social Media                    1\n",
       "E-Sports                        1\n",
       "Cosmetics                       1\n",
       "Banking                         1\n",
       "Name: count, dtype: int64"
      ]
     },
     "execution_count": 80,
     "metadata": {},
     "output_type": "execute_result"
    }
   ],
   "source": [
    "# count the occurrences of each unique value in the 'Sector' column using 'value_counts'\n",
    "df2019copy['Sector'].value_counts()\n"
   ]
  },
  {
   "cell_type": "code",
   "execution_count": 82,
   "metadata": {},
   "outputs": [
    {
     "data": {
      "text/plain": [
       "Sector\n",
       "edtech                          7\n",
       "fintech                         5\n",
       "agritech                        4\n",
       "technology                      4\n",
       "saas                            4\n",
       "automobile                      3\n",
       "e-commerce                      3\n",
       "logistics                       3\n",
       "food                            2\n",
       "foodtech                        2\n",
       "accomodation                    2\n",
       "automotive tech                 2\n",
       "iot                             2\n",
       "ai                              2\n",
       "e-marketplace                   2\n",
       "ecommerce                       1\n",
       "cybersecurity                   1\n",
       "mutual funds                    1\n",
       "food & tech                     1\n",
       "legal tech                      1\n",
       "sports                          1\n",
       "b2b supply chain                1\n",
       "healthtech                      1\n",
       "yoga & wellness                 1\n",
       "virtual banking                 1\n",
       "transportation                  1\n",
       "transport & rentals             1\n",
       "marketing & customer loyalty    1\n",
       "infratech                       1\n",
       "hospitality                     1\n",
       "automobile & technology         1\n",
       "games                           1\n",
       "food & nutrition                1\n",
       "jewellery                       1\n",
       "safety tech                     1\n",
       "interior design                 1\n",
       "ai & tech                       1\n",
       "e-commerce & ar                 1\n",
       "hr tech                         1\n",
       "food tech                       1\n",
       "health                          1\n",
       "healthcare                      1\n",
       "pharmaceutical                  1\n",
       "b2b                             1\n",
       "insurance technology            1\n",
       "robotics & ai                   1\n",
       "travel                          1\n",
       "manufacturing                   1\n",
       "social media                    1\n",
       "e-sports                        1\n",
       "cosmetics                       1\n",
       "banking                         1\n",
       "Name: count, dtype: int64"
      ]
     },
     "execution_count": 82,
     "metadata": {},
     "output_type": "execute_result"
    }
   ],
   "source": [
    "# Convert all sector names to lowercase to ensure consistency as there are inconsistent spelling (e.g. FinTech and Fintech, EdTech and Edtech ).\n",
    "df2019copy['Sector'] = df2019copy['Sector'].str.lower()\n",
    "\n",
    "# Remove any leading and trailing whitespaces just incase from the sector names to handle variations caused by extra spaces\n",
    "df2019copy['Sector'] = df2019copy['Sector'].str.strip()\n",
    "\n",
    "# Verify changes by counting the occurrences of each unique value in the 'Sector' column using 'value_counts'\n",
    "df2019copy['Sector'].value_counts()\n"
   ]
  },
  {
   "cell_type": "code",
   "execution_count": 83,
   "metadata": {},
   "outputs": [
    {
     "data": {
      "text/plain": [
       "Sector\n",
       "False    84\n",
       "True      5\n",
       "Name: count, dtype: int64"
      ]
     },
     "execution_count": 83,
     "metadata": {},
     "output_type": "execute_result"
    }
   ],
   "source": [
    "# Filter rows with NaN values in the 'Sector' column\n",
    "df2019copy['Sector'].isna().value_counts()\n"
   ]
  },
  {
   "cell_type": "code",
   "execution_count": 84,
   "metadata": {},
   "outputs": [
    {
     "data": {
      "text/plain": [
       "Sector\n",
       "False    89\n",
       "Name: count, dtype: int64"
      ]
     },
     "execution_count": 84,
     "metadata": {},
     "output_type": "execute_result"
    }
   ],
   "source": [
    "# Calculate the mode of the 'Sector' column\n",
    "mode_sector = df2019copy['Sector'].mode()[0]\n",
    "\n",
    "# Fill missing values in the 'Sector' column with the calculated mode because the column is categorical\n",
    "df2019copy['Sector'].fillna(mode_sector, inplace=True)\n",
    "\n",
    "# verify changes\n",
    "df2019copy['Sector'].isna().value_counts()\n"
   ]
  },
  {
   "cell_type": "code",
   "execution_count": 85,
   "metadata": {},
   "outputs": [
    {
     "data": {
      "text/plain": [
       "0       Pre-Series A\n",
       "1               Seed\n",
       "2           Series D\n",
       "3           Series C\n",
       "4               Seed\n",
       "            ...     \n",
       "1204    Pre-Series A\n",
       "1205        Series D\n",
       "1206        Series C\n",
       "1207        Series B\n",
       "1208        Series A\n",
       "Name: Stage, Length: 1197, dtype: object"
      ]
     },
     "execution_count": 85,
     "metadata": {},
     "output_type": "execute_result"
    }
   ],
   "source": [
    "# Viewing the stage column\n",
    "df2021copy['Stage']"
   ]
  },
  {
   "cell_type": "code",
   "execution_count": 86,
   "metadata": {},
   "outputs": [
    {
     "data": {
      "text/plain": [
       "array(['Pre-Series A', 'Seed', 'Series D', 'Series C', 'Series B',\n",
       "       'Series E', 'Pre-Seed', 'Series A', 'Pre-Series B', 'Debt',\n",
       "       'Bridge', 'Series F', 'Series G', 'Series H', 'PE', 'Pre-Series',\n",
       "       'Series I'], dtype=object)"
      ]
     },
     "execution_count": 86,
     "metadata": {},
     "output_type": "execute_result"
    }
   ],
   "source": [
    "# checking the unique entires in the stage column\n",
    "df2021copy['Stage'].unique()\n"
   ]
  },
  {
   "cell_type": "code",
   "execution_count": 87,
   "metadata": {},
   "outputs": [
    {
     "data": {
      "text/plain": [
       "Stage\n",
       "Series A         10\n",
       "Pre series A      8\n",
       "Series B          8\n",
       "Series D          4\n",
       "Series C          3\n",
       "Fresh funding     1\n",
       "Series G          1\n",
       "Post series A     1\n",
       "Seed funding      1\n",
       "Seed fund         1\n",
       "Series E          1\n",
       "Series F          1\n",
       "Series B+         1\n",
       "Seed round        1\n",
       "Pre-series A      1\n",
       "Name: count, dtype: int64"
      ]
     },
     "execution_count": 87,
     "metadata": {},
     "output_type": "execute_result"
    }
   ],
   "source": [
    "# checking the frequency of the unique entires\n",
    "df2019copy['Stage'].value_counts()\n"
   ]
  },
  {
   "cell_type": "code",
   "execution_count": 88,
   "metadata": {},
   "outputs": [
    {
     "data": {
      "text/plain": [
       "46"
      ]
     },
     "execution_count": 88,
     "metadata": {},
     "output_type": "execute_result"
    }
   ],
   "source": [
    "# viewing the total number of null values \n",
    "df2019copy['Stage'].isnull().sum()\n"
   ]
  },
  {
   "cell_type": "code",
   "execution_count": 89,
   "metadata": {},
   "outputs": [
    {
     "data": {
      "text/plain": [
       "0"
      ]
     },
     "execution_count": 89,
     "metadata": {},
     "output_type": "execute_result"
    }
   ],
   "source": [
    "# Replace NaN with the most frequent value\n",
    "most_frequent_stage = df2019copy['Stage'].mode()[0]\n",
    "df2019copy['Stage'] = df2019copy['Stage'].replace(np.nan, most_frequent_stage)\n",
    "\n",
    "# Verify the changes\n",
    "df2019copy['Stage'].isnull().sum()\n"
   ]
  },
  {
   "cell_type": "code",
   "execution_count": 90,
   "metadata": {},
   "outputs": [
    {
     "data": {
      "text/plain": [
       "Company/Brand    0\n",
       "HeadQuarter      0\n",
       "Sector           0\n",
       "What it does     0\n",
       "Amount           0\n",
       "Stage            0\n",
       "Year             0\n",
       "dtype: int64"
      ]
     },
     "execution_count": 90,
     "metadata": {},
     "output_type": "execute_result"
    }
   ],
   "source": [
    "# Checking for null values in the 2020 dataset\n",
    "df2019copy.isnull().sum()\n"
   ]
  },
  {
   "cell_type": "markdown",
   "metadata": {},
   "source": [
    "* 2018 Dataset"
   ]
  },
  {
   "cell_type": "code",
   "execution_count": 91,
   "metadata": {},
   "outputs": [
    {
     "data": {
      "text/html": [
       "<div>\n",
       "<style scoped>\n",
       "    .dataframe tbody tr th:only-of-type {\n",
       "        vertical-align: middle;\n",
       "    }\n",
       "\n",
       "    .dataframe tbody tr th {\n",
       "        vertical-align: top;\n",
       "    }\n",
       "\n",
       "    .dataframe thead th {\n",
       "        text-align: right;\n",
       "    }\n",
       "</style>\n",
       "<table border=\"1\" class=\"dataframe\">\n",
       "  <thead>\n",
       "    <tr style=\"text-align: right;\">\n",
       "      <th></th>\n",
       "      <th>Company Name</th>\n",
       "      <th>Industry</th>\n",
       "      <th>Round/Series</th>\n",
       "      <th>Amount</th>\n",
       "      <th>Location</th>\n",
       "      <th>About Company</th>\n",
       "    </tr>\n",
       "  </thead>\n",
       "  <tbody>\n",
       "    <tr>\n",
       "      <th>0</th>\n",
       "      <td>TheCollegeFever</td>\n",
       "      <td>Brand Marketing, Event Promotion, Marketing, S...</td>\n",
       "      <td>Seed</td>\n",
       "      <td>250000</td>\n",
       "      <td>Bangalore, Karnataka, India</td>\n",
       "      <td>TheCollegeFever is a hub for fun, fiesta and f...</td>\n",
       "    </tr>\n",
       "    <tr>\n",
       "      <th>1</th>\n",
       "      <td>Happy Cow Dairy</td>\n",
       "      <td>Agriculture, Farming</td>\n",
       "      <td>Seed</td>\n",
       "      <td>₹40,000,000</td>\n",
       "      <td>Mumbai, Maharashtra, India</td>\n",
       "      <td>A startup which aggregates milk from dairy far...</td>\n",
       "    </tr>\n",
       "    <tr>\n",
       "      <th>2</th>\n",
       "      <td>MyLoanCare</td>\n",
       "      <td>Credit, Financial Services, Lending, Marketplace</td>\n",
       "      <td>Series A</td>\n",
       "      <td>₹65,000,000</td>\n",
       "      <td>Gurgaon, Haryana, India</td>\n",
       "      <td>Leading Online Loans Marketplace in India</td>\n",
       "    </tr>\n",
       "    <tr>\n",
       "      <th>3</th>\n",
       "      <td>PayMe India</td>\n",
       "      <td>Financial Services, FinTech</td>\n",
       "      <td>Angel</td>\n",
       "      <td>2000000</td>\n",
       "      <td>Noida, Uttar Pradesh, India</td>\n",
       "      <td>PayMe India is an innovative FinTech organizat...</td>\n",
       "    </tr>\n",
       "    <tr>\n",
       "      <th>4</th>\n",
       "      <td>Eunimart</td>\n",
       "      <td>E-Commerce Platforms, Retail, SaaS</td>\n",
       "      <td>Seed</td>\n",
       "      <td>—</td>\n",
       "      <td>Hyderabad, Andhra Pradesh, India</td>\n",
       "      <td>Eunimart is a one stop solution for merchants ...</td>\n",
       "    </tr>\n",
       "  </tbody>\n",
       "</table>\n",
       "</div>"
      ],
      "text/plain": [
       "      Company Name                                           Industry  \\\n",
       "0  TheCollegeFever  Brand Marketing, Event Promotion, Marketing, S...   \n",
       "1  Happy Cow Dairy                               Agriculture, Farming   \n",
       "2       MyLoanCare   Credit, Financial Services, Lending, Marketplace   \n",
       "3      PayMe India                        Financial Services, FinTech   \n",
       "4         Eunimart                 E-Commerce Platforms, Retail, SaaS   \n",
       "\n",
       "  Round/Series       Amount                          Location  \\\n",
       "0         Seed       250000       Bangalore, Karnataka, India   \n",
       "1         Seed  ₹40,000,000        Mumbai, Maharashtra, India   \n",
       "2     Series A  ₹65,000,000           Gurgaon, Haryana, India   \n",
       "3        Angel      2000000       Noida, Uttar Pradesh, India   \n",
       "4         Seed            —  Hyderabad, Andhra Pradesh, India   \n",
       "\n",
       "                                       About Company  \n",
       "0  TheCollegeFever is a hub for fun, fiesta and f...  \n",
       "1  A startup which aggregates milk from dairy far...  \n",
       "2          Leading Online Loans Marketplace in India  \n",
       "3  PayMe India is an innovative FinTech organizat...  \n",
       "4  Eunimart is a one stop solution for merchants ...  "
      ]
     },
     "execution_count": 91,
     "metadata": {},
     "output_type": "execute_result"
    }
   ],
   "source": [
    "# renaming the 2018 dataset\n",
    "df2018copy = df2018\n",
    "df2018copy.head()"
   ]
  },
  {
   "cell_type": "code",
   "execution_count": 93,
   "metadata": {},
   "outputs": [
    {
     "data": {
      "text/html": [
       "<div>\n",
       "<style scoped>\n",
       "    .dataframe tbody tr th:only-of-type {\n",
       "        vertical-align: middle;\n",
       "    }\n",
       "\n",
       "    .dataframe tbody tr th {\n",
       "        vertical-align: top;\n",
       "    }\n",
       "\n",
       "    .dataframe thead th {\n",
       "        text-align: right;\n",
       "    }\n",
       "</style>\n",
       "<table border=\"1\" class=\"dataframe\">\n",
       "  <thead>\n",
       "    <tr style=\"text-align: right;\">\n",
       "      <th></th>\n",
       "      <th>Company Name</th>\n",
       "      <th>Industry</th>\n",
       "      <th>Round/Series</th>\n",
       "      <th>Amount</th>\n",
       "      <th>Location</th>\n",
       "      <th>About Company</th>\n",
       "      <th>Year</th>\n",
       "    </tr>\n",
       "  </thead>\n",
       "  <tbody>\n",
       "    <tr>\n",
       "      <th>0</th>\n",
       "      <td>TheCollegeFever</td>\n",
       "      <td>Brand Marketing, Event Promotion, Marketing, S...</td>\n",
       "      <td>Seed</td>\n",
       "      <td>250000</td>\n",
       "      <td>Bangalore, Karnataka, India</td>\n",
       "      <td>TheCollegeFever is a hub for fun, fiesta and f...</td>\n",
       "      <td>2018</td>\n",
       "    </tr>\n",
       "    <tr>\n",
       "      <th>1</th>\n",
       "      <td>Happy Cow Dairy</td>\n",
       "      <td>Agriculture, Farming</td>\n",
       "      <td>Seed</td>\n",
       "      <td>₹40,000,000</td>\n",
       "      <td>Mumbai, Maharashtra, India</td>\n",
       "      <td>A startup which aggregates milk from dairy far...</td>\n",
       "      <td>2018</td>\n",
       "    </tr>\n",
       "    <tr>\n",
       "      <th>2</th>\n",
       "      <td>MyLoanCare</td>\n",
       "      <td>Credit, Financial Services, Lending, Marketplace</td>\n",
       "      <td>Series A</td>\n",
       "      <td>₹65,000,000</td>\n",
       "      <td>Gurgaon, Haryana, India</td>\n",
       "      <td>Leading Online Loans Marketplace in India</td>\n",
       "      <td>2018</td>\n",
       "    </tr>\n",
       "    <tr>\n",
       "      <th>3</th>\n",
       "      <td>PayMe India</td>\n",
       "      <td>Financial Services, FinTech</td>\n",
       "      <td>Angel</td>\n",
       "      <td>2000000</td>\n",
       "      <td>Noida, Uttar Pradesh, India</td>\n",
       "      <td>PayMe India is an innovative FinTech organizat...</td>\n",
       "      <td>2018</td>\n",
       "    </tr>\n",
       "    <tr>\n",
       "      <th>4</th>\n",
       "      <td>Eunimart</td>\n",
       "      <td>E-Commerce Platforms, Retail, SaaS</td>\n",
       "      <td>Seed</td>\n",
       "      <td>—</td>\n",
       "      <td>Hyderabad, Andhra Pradesh, India</td>\n",
       "      <td>Eunimart is a one stop solution for merchants ...</td>\n",
       "      <td>2018</td>\n",
       "    </tr>\n",
       "  </tbody>\n",
       "</table>\n",
       "</div>"
      ],
      "text/plain": [
       "      Company Name                                           Industry  \\\n",
       "0  TheCollegeFever  Brand Marketing, Event Promotion, Marketing, S...   \n",
       "1  Happy Cow Dairy                               Agriculture, Farming   \n",
       "2       MyLoanCare   Credit, Financial Services, Lending, Marketplace   \n",
       "3      PayMe India                        Financial Services, FinTech   \n",
       "4         Eunimart                 E-Commerce Platforms, Retail, SaaS   \n",
       "\n",
       "  Round/Series       Amount                          Location  \\\n",
       "0         Seed       250000       Bangalore, Karnataka, India   \n",
       "1         Seed  ₹40,000,000        Mumbai, Maharashtra, India   \n",
       "2     Series A  ₹65,000,000           Gurgaon, Haryana, India   \n",
       "3        Angel      2000000       Noida, Uttar Pradesh, India   \n",
       "4         Seed            —  Hyderabad, Andhra Pradesh, India   \n",
       "\n",
       "                                       About Company  Year  \n",
       "0  TheCollegeFever is a hub for fun, fiesta and f...  2018  \n",
       "1  A startup which aggregates milk from dairy far...  2018  \n",
       "2          Leading Online Loans Marketplace in India  2018  \n",
       "3  PayMe India is an innovative FinTech organizat...  2018  \n",
       "4  Eunimart is a one stop solution for merchants ...  2018  "
      ]
     },
     "execution_count": 93,
     "metadata": {},
     "output_type": "execute_result"
    }
   ],
   "source": [
    "# create a column header (Year) and populate it with the year '2018'\n",
    "Year = [2018] * len(df2018copy)\n",
    "\n",
    "df2018copy['Year'] = Year\n",
    "\n",
    "df2018copy.head()"
   ]
  },
  {
   "cell_type": "code",
   "execution_count": 94,
   "metadata": {},
   "outputs": [
    {
     "name": "stdout",
     "output_type": "stream",
     "text": [
      "Company Name             object\n",
      "Industry                 object\n",
      "Round/Series             object\n",
      "Amount                   object\n",
      "Location                 object\n",
      "About Company            object\n",
      "Year             datetime64[ns]\n",
      "dtype: object\n"
     ]
    }
   ],
   "source": [
    "# Changing 'Year' column to datetime datatype\n",
    "df2018copy['Year'] = pd.to_datetime(df2018copy['Year'], format='%Y')\n",
    "\n",
    "# Verifying the changes\n",
    "print(df2018copy.dtypes)"
   ]
  },
  {
   "cell_type": "code",
   "execution_count": 95,
   "metadata": {},
   "outputs": [
    {
     "data": {
      "text/html": [
       "<div>\n",
       "<style scoped>\n",
       "    .dataframe tbody tr th:only-of-type {\n",
       "        vertical-align: middle;\n",
       "    }\n",
       "\n",
       "    .dataframe tbody tr th {\n",
       "        vertical-align: top;\n",
       "    }\n",
       "\n",
       "    .dataframe thead th {\n",
       "        text-align: right;\n",
       "    }\n",
       "</style>\n",
       "<table border=\"1\" class=\"dataframe\">\n",
       "  <thead>\n",
       "    <tr style=\"text-align: right;\">\n",
       "      <th></th>\n",
       "      <th>Company/Brand</th>\n",
       "      <th>Sector</th>\n",
       "      <th>Stage</th>\n",
       "      <th>Amount</th>\n",
       "      <th>HeadQuarter</th>\n",
       "      <th>What it does</th>\n",
       "      <th>Year</th>\n",
       "    </tr>\n",
       "  </thead>\n",
       "  <tbody>\n",
       "    <tr>\n",
       "      <th>0</th>\n",
       "      <td>TheCollegeFever</td>\n",
       "      <td>Brand Marketing, Event Promotion, Marketing, S...</td>\n",
       "      <td>Seed</td>\n",
       "      <td>250000</td>\n",
       "      <td>Bangalore, Karnataka, India</td>\n",
       "      <td>TheCollegeFever is a hub for fun, fiesta and f...</td>\n",
       "      <td>2018-01-01</td>\n",
       "    </tr>\n",
       "    <tr>\n",
       "      <th>1</th>\n",
       "      <td>Happy Cow Dairy</td>\n",
       "      <td>Agriculture, Farming</td>\n",
       "      <td>Seed</td>\n",
       "      <td>₹40,000,000</td>\n",
       "      <td>Mumbai, Maharashtra, India</td>\n",
       "      <td>A startup which aggregates milk from dairy far...</td>\n",
       "      <td>2018-01-01</td>\n",
       "    </tr>\n",
       "    <tr>\n",
       "      <th>2</th>\n",
       "      <td>MyLoanCare</td>\n",
       "      <td>Credit, Financial Services, Lending, Marketplace</td>\n",
       "      <td>Series A</td>\n",
       "      <td>₹65,000,000</td>\n",
       "      <td>Gurgaon, Haryana, India</td>\n",
       "      <td>Leading Online Loans Marketplace in India</td>\n",
       "      <td>2018-01-01</td>\n",
       "    </tr>\n",
       "    <tr>\n",
       "      <th>3</th>\n",
       "      <td>PayMe India</td>\n",
       "      <td>Financial Services, FinTech</td>\n",
       "      <td>Angel</td>\n",
       "      <td>2000000</td>\n",
       "      <td>Noida, Uttar Pradesh, India</td>\n",
       "      <td>PayMe India is an innovative FinTech organizat...</td>\n",
       "      <td>2018-01-01</td>\n",
       "    </tr>\n",
       "    <tr>\n",
       "      <th>4</th>\n",
       "      <td>Eunimart</td>\n",
       "      <td>E-Commerce Platforms, Retail, SaaS</td>\n",
       "      <td>Seed</td>\n",
       "      <td>—</td>\n",
       "      <td>Hyderabad, Andhra Pradesh, India</td>\n",
       "      <td>Eunimart is a one stop solution for merchants ...</td>\n",
       "      <td>2018-01-01</td>\n",
       "    </tr>\n",
       "  </tbody>\n",
       "</table>\n",
       "</div>"
      ],
      "text/plain": [
       "     Company/Brand                                             Sector  \\\n",
       "0  TheCollegeFever  Brand Marketing, Event Promotion, Marketing, S...   \n",
       "1  Happy Cow Dairy                               Agriculture, Farming   \n",
       "2       MyLoanCare   Credit, Financial Services, Lending, Marketplace   \n",
       "3      PayMe India                        Financial Services, FinTech   \n",
       "4         Eunimart                 E-Commerce Platforms, Retail, SaaS   \n",
       "\n",
       "      Stage       Amount                       HeadQuarter  \\\n",
       "0      Seed       250000       Bangalore, Karnataka, India   \n",
       "1      Seed  ₹40,000,000        Mumbai, Maharashtra, India   \n",
       "2  Series A  ₹65,000,000           Gurgaon, Haryana, India   \n",
       "3     Angel      2000000       Noida, Uttar Pradesh, India   \n",
       "4      Seed            —  Hyderabad, Andhra Pradesh, India   \n",
       "\n",
       "                                        What it does       Year  \n",
       "0  TheCollegeFever is a hub for fun, fiesta and f... 2018-01-01  \n",
       "1  A startup which aggregates milk from dairy far... 2018-01-01  \n",
       "2          Leading Online Loans Marketplace in India 2018-01-01  \n",
       "3  PayMe India is an innovative FinTech organizat... 2018-01-01  \n",
       "4  Eunimart is a one stop solution for merchants ... 2018-01-01  "
      ]
     },
     "execution_count": 95,
     "metadata": {},
     "output_type": "execute_result"
    }
   ],
   "source": [
    "# Renaming specific columns names based on a predefined mapping of column names of other datasets (2019, 2020 and 2021)\n",
    "new_column_names = {\n",
    "    'Company Name': 'Company/Brand',\n",
    "    'Industry': 'Sector',\n",
    "    'Round/Series': 'Stage',\n",
    "    'Location': 'HeadQuarter',\n",
    "    'About Company': 'What it does'\n",
    "}\n",
    "\n",
    "# Rename the columns\n",
    "df2018copy = df2018copy.rename(columns=new_column_names)\n",
    "\n",
    "# Verify changes whilst checking the information on the dataset\n",
    "df2018copy.head()"
   ]
  },
  {
   "cell_type": "code",
   "execution_count": 96,
   "metadata": {},
   "outputs": [
    {
     "data": {
      "text/html": [
       "<div>\n",
       "<style scoped>\n",
       "    .dataframe tbody tr th:only-of-type {\n",
       "        vertical-align: middle;\n",
       "    }\n",
       "\n",
       "    .dataframe tbody tr th {\n",
       "        vertical-align: top;\n",
       "    }\n",
       "\n",
       "    .dataframe thead th {\n",
       "        text-align: right;\n",
       "    }\n",
       "</style>\n",
       "<table border=\"1\" class=\"dataframe\">\n",
       "  <thead>\n",
       "    <tr style=\"text-align: right;\">\n",
       "      <th></th>\n",
       "      <th>Company/Brand</th>\n",
       "      <th>Sector</th>\n",
       "      <th>Stage</th>\n",
       "      <th>Amount</th>\n",
       "      <th>HeadQuarter</th>\n",
       "      <th>What it does</th>\n",
       "      <th>Year</th>\n",
       "    </tr>\n",
       "  </thead>\n",
       "  <tbody>\n",
       "    <tr>\n",
       "      <th>0</th>\n",
       "      <td>TheCollegeFever</td>\n",
       "      <td>Brand Marketing, Event Promotion, Marketing, S...</td>\n",
       "      <td>Seed</td>\n",
       "      <td>250000.0</td>\n",
       "      <td>Bangalore, Karnataka, India</td>\n",
       "      <td>TheCollegeFever is a hub for fun, fiesta and f...</td>\n",
       "      <td>2018-01-01</td>\n",
       "    </tr>\n",
       "    <tr>\n",
       "      <th>1</th>\n",
       "      <td>Happy Cow Dairy</td>\n",
       "      <td>Agriculture, Farming</td>\n",
       "      <td>Seed</td>\n",
       "      <td>584400.0</td>\n",
       "      <td>Mumbai, Maharashtra, India</td>\n",
       "      <td>A startup which aggregates milk from dairy far...</td>\n",
       "      <td>2018-01-01</td>\n",
       "    </tr>\n",
       "    <tr>\n",
       "      <th>2</th>\n",
       "      <td>MyLoanCare</td>\n",
       "      <td>Credit, Financial Services, Lending, Marketplace</td>\n",
       "      <td>Series A</td>\n",
       "      <td>949650.0</td>\n",
       "      <td>Gurgaon, Haryana, India</td>\n",
       "      <td>Leading Online Loans Marketplace in India</td>\n",
       "      <td>2018-01-01</td>\n",
       "    </tr>\n",
       "    <tr>\n",
       "      <th>3</th>\n",
       "      <td>PayMe India</td>\n",
       "      <td>Financial Services, FinTech</td>\n",
       "      <td>Angel</td>\n",
       "      <td>2000000.0</td>\n",
       "      <td>Noida, Uttar Pradesh, India</td>\n",
       "      <td>PayMe India is an innovative FinTech organizat...</td>\n",
       "      <td>2018-01-01</td>\n",
       "    </tr>\n",
       "    <tr>\n",
       "      <th>4</th>\n",
       "      <td>Eunimart</td>\n",
       "      <td>E-Commerce Platforms, Retail, SaaS</td>\n",
       "      <td>Seed</td>\n",
       "      <td>NaN</td>\n",
       "      <td>Hyderabad, Andhra Pradesh, India</td>\n",
       "      <td>Eunimart is a one stop solution for merchants ...</td>\n",
       "      <td>2018-01-01</td>\n",
       "    </tr>\n",
       "  </tbody>\n",
       "</table>\n",
       "</div>"
      ],
      "text/plain": [
       "     Company/Brand                                             Sector  \\\n",
       "0  TheCollegeFever  Brand Marketing, Event Promotion, Marketing, S...   \n",
       "1  Happy Cow Dairy                               Agriculture, Farming   \n",
       "2       MyLoanCare   Credit, Financial Services, Lending, Marketplace   \n",
       "3      PayMe India                        Financial Services, FinTech   \n",
       "4         Eunimart                 E-Commerce Platforms, Retail, SaaS   \n",
       "\n",
       "      Stage     Amount                       HeadQuarter  \\\n",
       "0      Seed   250000.0       Bangalore, Karnataka, India   \n",
       "1      Seed   584400.0        Mumbai, Maharashtra, India   \n",
       "2  Series A   949650.0           Gurgaon, Haryana, India   \n",
       "3     Angel  2000000.0       Noida, Uttar Pradesh, India   \n",
       "4      Seed        NaN  Hyderabad, Andhra Pradesh, India   \n",
       "\n",
       "                                        What it does       Year  \n",
       "0  TheCollegeFever is a hub for fun, fiesta and f... 2018-01-01  \n",
       "1  A startup which aggregates milk from dairy far... 2018-01-01  \n",
       "2          Leading Online Loans Marketplace in India 2018-01-01  \n",
       "3  PayMe India is an innovative FinTech organizat... 2018-01-01  \n",
       "4  Eunimart is a one stop solution for merchants ... 2018-01-01  "
      ]
     },
     "execution_count": 96,
     "metadata": {},
     "output_type": "execute_result"
    }
   ],
   "source": [
    "# replace/remove commas\n",
    "df2018copy['Amount'] = df2018copy['Amount'].replace(',', '', regex=True)\n",
    "\n",
    "# Using a function to extract currency symbol in the amount column\n",
    "def extract_currency(amount):\n",
    "    currencies = ['₹', '$']\n",
    "    for currency in currencies:\n",
    "        if currency in amount:\n",
    "            return currency\n",
    "    return None\n",
    "\n",
    "# Extract currency symbols\n",
    "df2018copy['Currency'] = df2018copy['Amount'].apply(extract_currency)\n",
    "\n",
    "# Define exchange rate for Rupees to Dollars (The average INR/USD exchange rate for 2018 is 0.01461 US Dollars per Indian Rupee.)\n",
    "rupees_to_dollars_rate = 0.01461 \n",
    "\n",
    "# Convert to numeric, considering currency\n",
    "df2018copy['Amount'] = pd.to_numeric(df2018copy['Amount'].replace('[\\₹,$]', '', regex=True), errors='coerce')\n",
    "df2018copy['Amount'] = df2018copy.apply(lambda row: row['Amount'] * rupees_to_dollars_rate if row['Currency'] == '₹' else row['Amount'], axis=1)\n",
    "\n",
    "# Drop the 'Currency' column\n",
    "df2018copy = df2018copy.drop(columns=['Currency'])\n",
    "\n",
    "#Verify Changes\n",
    "df2018copy.head()"
   ]
  },
  {
   "cell_type": "code",
   "execution_count": 97,
   "metadata": {},
   "outputs": [
    {
     "data": {
      "text/plain": [
       "Company/Brand      0\n",
       "Sector             0\n",
       "Stage              0\n",
       "Amount           148\n",
       "HeadQuarter        0\n",
       "What it does       0\n",
       "Year               0\n",
       "dtype: int64"
      ]
     },
     "execution_count": 97,
     "metadata": {},
     "output_type": "execute_result"
    }
   ],
   "source": [
    "# Checking for Null Values\n",
    "df2018copy.isnull().sum()"
   ]
  },
  {
   "cell_type": "code",
   "execution_count": 99,
   "metadata": {},
   "outputs": [
    {
     "data": {
      "text/html": [
       "<div>\n",
       "<style scoped>\n",
       "    .dataframe tbody tr th:only-of-type {\n",
       "        vertical-align: middle;\n",
       "    }\n",
       "\n",
       "    .dataframe tbody tr th {\n",
       "        vertical-align: top;\n",
       "    }\n",
       "\n",
       "    .dataframe thead th {\n",
       "        text-align: right;\n",
       "    }\n",
       "</style>\n",
       "<table border=\"1\" class=\"dataframe\">\n",
       "  <thead>\n",
       "    <tr style=\"text-align: right;\">\n",
       "      <th></th>\n",
       "      <th>Amount</th>\n",
       "      <th>Year</th>\n",
       "    </tr>\n",
       "  </thead>\n",
       "  <tbody>\n",
       "    <tr>\n",
       "      <th>count</th>\n",
       "      <td>3.780000e+02</td>\n",
       "      <td>526</td>\n",
       "    </tr>\n",
       "    <tr>\n",
       "      <th>mean</th>\n",
       "      <td>1.757308e+07</td>\n",
       "      <td>2018-01-01 00:00:00</td>\n",
       "    </tr>\n",
       "    <tr>\n",
       "      <th>min</th>\n",
       "      <td>8.766000e+02</td>\n",
       "      <td>2018-01-01 00:00:00</td>\n",
       "    </tr>\n",
       "    <tr>\n",
       "      <th>25%</th>\n",
       "      <td>5.000000e+05</td>\n",
       "      <td>2018-01-01 00:00:00</td>\n",
       "    </tr>\n",
       "    <tr>\n",
       "      <th>50%</th>\n",
       "      <td>1.300000e+06</td>\n",
       "      <td>2018-01-01 00:00:00</td>\n",
       "    </tr>\n",
       "    <tr>\n",
       "      <th>75%</th>\n",
       "      <td>5.000000e+06</td>\n",
       "      <td>2018-01-01 00:00:00</td>\n",
       "    </tr>\n",
       "    <tr>\n",
       "      <th>max</th>\n",
       "      <td>1.000000e+09</td>\n",
       "      <td>2018-01-01 00:00:00</td>\n",
       "    </tr>\n",
       "    <tr>\n",
       "      <th>std</th>\n",
       "      <td>7.787738e+07</td>\n",
       "      <td>NaN</td>\n",
       "    </tr>\n",
       "  </tbody>\n",
       "</table>\n",
       "</div>"
      ],
      "text/plain": [
       "             Amount                 Year\n",
       "count  3.780000e+02                  526\n",
       "mean   1.757308e+07  2018-01-01 00:00:00\n",
       "min    8.766000e+02  2018-01-01 00:00:00\n",
       "25%    5.000000e+05  2018-01-01 00:00:00\n",
       "50%    1.300000e+06  2018-01-01 00:00:00\n",
       "75%    5.000000e+06  2018-01-01 00:00:00\n",
       "max    1.000000e+09  2018-01-01 00:00:00\n",
       "std    7.787738e+07                  NaN"
      ]
     },
     "execution_count": 99,
     "metadata": {},
     "output_type": "execute_result"
    }
   ],
   "source": [
    "# carrying out a summary statistics\n",
    "df2018copy.describe()"
   ]
  },
  {
   "cell_type": "code",
   "execution_count": 100,
   "metadata": {},
   "outputs": [
    {
     "data": {
      "text/plain": [
       "Company/Brand    0\n",
       "Sector           0\n",
       "Stage            0\n",
       "Amount           0\n",
       "HeadQuarter      0\n",
       "What it does     0\n",
       "Year             0\n",
       "dtype: int64"
      ]
     },
     "execution_count": 100,
     "metadata": {},
     "output_type": "execute_result"
    }
   ],
   "source": [
    "# Select Amount columns with null values\n",
    "null_columns = [\"Amount\"]\n",
    " \n",
    "# a SimpleImputer to fill null values wih median\n",
    "imputer = SimpleImputer(strategy='median', fill_value = 'NaN')\n",
    " \n",
    "# Apply the imputer to fill null values in selected columns\n",
    "df2018copy[null_columns] = imputer.fit_transform(df2018copy[null_columns])\n",
    "\n",
    "# verifying changes\n",
    "df2018copy.isnull().sum()"
   ]
  },
  {
   "cell_type": "code",
   "execution_count": 101,
   "metadata": {},
   "outputs": [
    {
     "data": {
      "text/plain": [
       "array(['Bangalore, Karnataka, India', 'Mumbai, Maharashtra, India',\n",
       "       'Gurgaon, Haryana, India', 'Noida, Uttar Pradesh, India',\n",
       "       'Hyderabad, Andhra Pradesh, India', 'Bengaluru, Karnataka, India',\n",
       "       'Kalkaji, Delhi, India', 'Delhi, Delhi, India', 'India, Asia',\n",
       "       'Hubli, Karnataka, India', 'New Delhi, Delhi, India',\n",
       "       'Chennai, Tamil Nadu, India', 'Mohali, Punjab, India',\n",
       "       'Kolkata, West Bengal, India', 'Pune, Maharashtra, India',\n",
       "       'Jodhpur, Rajasthan, India', 'Kanpur, Uttar Pradesh, India',\n",
       "       'Ahmedabad, Gujarat, India', 'Azadpur, Delhi, India',\n",
       "       'Haryana, Haryana, India', 'Cochin, Kerala, India',\n",
       "       'Faridabad, Haryana, India', 'Jaipur, Rajasthan, India',\n",
       "       'Kota, Rajasthan, India', 'Anand, Gujarat, India',\n",
       "       'Bangalore City, Karnataka, India', 'Belgaum, Karnataka, India',\n",
       "       'Thane, Maharashtra, India', 'Margão, Goa, India',\n",
       "       'Indore, Madhya Pradesh, India', 'Alwar, Rajasthan, India',\n",
       "       'Kannur, Kerala, India', 'Trivandrum, Kerala, India',\n",
       "       'Ernakulam, Kerala, India', 'Kormangala, Karnataka, India',\n",
       "       'Uttar Pradesh, India, Asia', 'Andheri, Maharashtra, India',\n",
       "       'Mylapore, Tamil Nadu, India', 'Ghaziabad, Uttar Pradesh, India',\n",
       "       'Kochi, Kerala, India', 'Powai, Assam, India',\n",
       "       'Guntur, Andhra Pradesh, India', 'Kalpakkam, Tamil Nadu, India',\n",
       "       'Bhopal, Madhya Pradesh, India', 'Coimbatore, Tamil Nadu, India',\n",
       "       'Worli, Maharashtra, India', 'Alleppey, Kerala, India',\n",
       "       'Chandigarh, Chandigarh, India', 'Guindy, Tamil Nadu, India',\n",
       "       'Lucknow, Uttar Pradesh, India'], dtype=object)"
      ]
     },
     "execution_count": 101,
     "metadata": {},
     "output_type": "execute_result"
    }
   ],
   "source": [
    "df2018copy['HeadQuarter'].unique()"
   ]
  },
  {
   "cell_type": "code",
   "execution_count": 102,
   "metadata": {},
   "outputs": [
    {
     "data": {
      "text/plain": [
       "array(['Bangalore', 'Mumbai', 'Gurgaon', 'Noida', 'Hyderabad',\n",
       "       'Bengaluru', 'Kalkaji', 'Delhi', 'India', 'Hubli', 'New Delhi',\n",
       "       'Chennai', 'Mohali', 'Kolkata', 'Pune', 'Jodhpur', 'Kanpur',\n",
       "       'Ahmedabad', 'Azadpur', 'Haryana', 'Cochin', 'Faridabad', 'Jaipur',\n",
       "       'Kota', 'Anand', 'Bangalore City', 'Belgaum', 'Thane', 'Margão',\n",
       "       'Indore', 'Alwar', 'Kannur', 'Trivandrum', 'Ernakulam',\n",
       "       'Kormangala', 'Uttar Pradesh', 'Andheri', 'Mylapore', 'Ghaziabad',\n",
       "       'Kochi', 'Powai', 'Guntur', 'Kalpakkam', 'Bhopal', 'Coimbatore',\n",
       "       'Worli', 'Alleppey', 'Chandigarh', 'Guindy', 'Lucknow'],\n",
       "      dtype=object)"
      ]
     },
     "execution_count": 102,
     "metadata": {},
     "output_type": "execute_result"
    }
   ],
   "source": [
    "# split HeadQuarter into list and get first item (the city)\n",
    "df2018copy['HeadQuarter'] = df2018copy['HeadQuarter'].str.split(',').str[0]\n",
    "\n",
    "# verify result \n",
    "df2018copy['HeadQuarter'].unique()"
   ]
  },
  {
   "cell_type": "code",
   "execution_count": 103,
   "metadata": {},
   "outputs": [
    {
     "data": {
      "text/plain": [
       "array(['Bangalore', 'Mumbai', 'Gurgaon', 'Noida', 'Hyderabad',\n",
       "       'Bengaluru', 'Kalkaji', 'Delhi', 'India', 'Hubli', 'New Delhi',\n",
       "       'Chennai', 'Mohali', 'Kolkata', 'Pune', 'Jodhpur', 'Kanpur',\n",
       "       'Ahmedabad', 'Azadpur', 'Haryana', 'Cochin', 'Faridabad', 'Jaipur',\n",
       "       'Kota', 'Anand', 'Belgaum', 'Thane', 'Margão', 'Indore', 'Alwar',\n",
       "       'Kannur', 'Trivandrum', 'Ernakulam', 'Kormangala', 'Uttar Pradesh',\n",
       "       'Andheri', 'Mylapore', 'Ghaziabad', 'Kochi', 'Powai', 'Guntur',\n",
       "       'Kalpakkam', 'Bhopal', 'Coimbatore', 'Worli', 'Alleppey',\n",
       "       'Chandigarh', 'Guindy', 'Lucknow'], dtype=object)"
      ]
     },
     "execution_count": 103,
     "metadata": {},
     "output_type": "execute_result"
    }
   ],
   "source": [
    "# replace any occurrence of 'Bangalore City' in the 'HeadQuarter' column with 'Bangalore'\n",
    "df2018copy['HeadQuarter'] = df2018copy['HeadQuarter'].replace({\n",
    "    'Bangalore City': 'Bangalore'\n",
    "})\n",
    "# verify result \n",
    "df2018copy['HeadQuarter'].unique()"
   ]
  },
  {
   "cell_type": "code",
   "execution_count": 104,
   "metadata": {},
   "outputs": [
    {
     "data": {
      "text/plain": [
       "array(['Brand Marketing, Event Promotion, Marketing, Sponsorship, Ticketing',\n",
       "       'Agriculture, Farming',\n",
       "       'Credit, Financial Services, Lending, Marketplace',\n",
       "       'Financial Services, FinTech',\n",
       "       'E-Commerce Platforms, Retail, SaaS',\n",
       "       'Cloud Infrastructure, PaaS, SaaS',\n",
       "       'Internet, Leisure, Marketplace', 'Market Research',\n",
       "       'Information Services, Information Technology', 'Mobile Payments',\n",
       "       'B2B, Shoes', 'Internet',\n",
       "       'Apps, Collaboration, Developer Platform, Enterprise Software, Messaging, Productivity Tools, Video Chat',\n",
       "       'Food Delivery', 'Industrial Automation',\n",
       "       'Automotive, Search Engine, Service Industry',\n",
       "       'Finance, Internet, Travel',\n",
       "       'Accounting, Business Information Systems, Business Travel, Finance, SaaS',\n",
       "       'Artificial Intelligence, Product Search, SaaS, Service Industry, Software',\n",
       "       'Internet of Things, Waste Management',\n",
       "       'Air Transportation, Freight Service, Logistics, Marine Transportation',\n",
       "       'Financial Services', 'Food and Beverage', 'Autonomous Vehicles',\n",
       "       'Enterprise Software, Health Care, Hospital, Parenting, Personal Health, SaaS',\n",
       "       'Agriculture, Analytics, Big Data, Farming',\n",
       "       'Logistics, Supply Chain Management',\n",
       "       'Financial Services, Lending',\n",
       "       'Automotive, Marketplace, Online Portals',\n",
       "       'Artificial Intelligence',\n",
       "       'Internet of Things, Telecommunications', 'Insurance',\n",
       "       'Information Technology, Logistics, Supply Chain Management',\n",
       "       'Blockchain, Developer Tools, Enterprise Software',\n",
       "       'Industrial Automation, Logistics, Supply Chain Management',\n",
       "       'Food and Beverage, Food Delivery, Snack Food', 'Education',\n",
       "       'E-Commerce, Fashion, Jewelry, Retail', 'Renewable Energy',\n",
       "       'E-Learning, Education',\n",
       "       'Clean Energy, CleanTech, Laundry and Dry-cleaning',\n",
       "       'E-Commerce, Fashion, Mobile',\n",
       "       'Apps, Messaging, Navigation, Public Safety', 'Transportation',\n",
       "       'Fitness, Health Care, Wellness',\n",
       "       'Artificial Intelligence, Machine Learning, SaaS, Virtual Assistant',\n",
       "       'Hospitality', 'Food and Beverage, Tea',\n",
       "       'Media and Entertainment, News, Outdoors',\n",
       "       'Broadcasting, Media and Entertainment, Music, Music Streaming, Video, Video Streaming',\n",
       "       'B2B, Information Services, Information Technology',\n",
       "       'EdTech, Education, Enterprise Software, Peer to Peer',\n",
       "       'Health Care, Medical', 'E-Commerce',\n",
       "       'Health Care, Hospital, Wellness', '—', 'Sports',\n",
       "       'Big Data, Consumer Lending, FinTech',\n",
       "       'Cloud Computing, Computer, Semiconductor',\n",
       "       'Health Care, Medical, Pharmaceutical', 'Food Processing, Retail',\n",
       "       'Trading Platform', \"Consumer Goods, Lifestyle, Men's\", 'Wellness',\n",
       "       'Food and Beverage, Food Processing, Nutrition', 'Fashion',\n",
       "       'Automotive, Electric Vehicle, Energy Storage',\n",
       "       'Consulting, Retail, Social',\n",
       "       'Biotechnology, Life Science, Pharmaceutical, Product Research',\n",
       "       'Health Care',\n",
       "       'Credit, Financial Services, FinTech, Personal Finance',\n",
       "       'Communities, Coworking, Incubators',\n",
       "       'Consumer, Financial Services, FinTech',\n",
       "       'Consumer Applications, Information Services, Location Based Services, Virtual Assistant',\n",
       "       'Mobile, Mobile Apps, Personalization, Test and Measurement, Web Apps',\n",
       "       'Education, Financial Services, FinTech',\n",
       "       'Advertising, Consulting, Digital Marketing',\n",
       "       'Marketplace, Real Estate, Rental Property',\n",
       "       'E-Learning, Internet, Video Games',\n",
       "       'Artificial Intelligence, Cloud Computing, Video',\n",
       "       'Health Care, Information Technology', 'Aerospace',\n",
       "       'E-Commerce, Fashion, Lifestyle',\n",
       "       'Artificial Intelligence, Business Intelligence, Industrial Automation, Machine Learning',\n",
       "       'Home Decor, Home Improvement, Home Renovation, Home Services, Interior Design, Smart Home',\n",
       "       'EdTech, Education, Information Services, SaaS', 'Energy, Solar',\n",
       "       'B2B, Biometrics, Cyber Security, Fraud Detection, SaaS, Security',\n",
       "       'Artificial Intelligence, Social',\n",
       "       'Logistics, Transportation, Travel',\n",
       "       'Digital Marketing, SEM, SEO, Web Development',\n",
       "       'Health Care, Hospital, Medical', 'Finance, Financial Services',\n",
       "       'Food Delivery, Food Processing, Internet',\n",
       "       'E-Commerce, Food and Beverage, Internet',\n",
       "       'Fitness, Food and Beverage, Health Care, Nutrition',\n",
       "       'EdTech, Education, Knowledge Management',\n",
       "       'Apps, Beauty, Consumer, Retail',\n",
       "       'Creative Agency, Crowdfunding, EdTech, Health Care, Internet, Medical, Non Profit, Personal Health',\n",
       "       'Consumer Lending, Financial Services, FinTech, Insurance, Lending, Mobile Payments, Payments, Wealth Management',\n",
       "       'E-Learning, Education, Higher Education', 'Health Diagnostics',\n",
       "       'EdTech, Education', 'Financial Services, SaaS, Security',\n",
       "       'Banking, Finance, Financial Services, Non Profit',\n",
       "       'B2B, E-Commerce, Mobile',\n",
       "       'Automotive, Electric Vehicle, Renewable Energy', 'E-Learning',\n",
       "       'Embedded Systems, Health Care, Medical, Product Research',\n",
       "       'Apps, E-Commerce, Internet',\n",
       "       'Advertising, Human Resources, Marketing',\n",
       "       'Beauty, Fitness, Home Services, Internet',\n",
       "       'Health Care, Medical Device, Public Safety',\n",
       "       'Food Delivery, Online Portals, Restaurants',\n",
       "       'AgTech, B2B, Supply Chain Management',\n",
       "       'Credit Cards, Finance, Mobile Apps, Mobile Payments, Payments',\n",
       "       'Software',\n",
       "       'EdTech, Education, Higher Education, Secondary Education',\n",
       "       'Manufacturing, Retail', 'Manufacturing',\n",
       "       'Information Services, Information Technology, InsurTech',\n",
       "       'Consumer Lending, FinTech', 'Internet, Social Network, TV',\n",
       "       'Beauty, Health Care', 'Hospital', 'Events',\n",
       "       '3D Printing, Manufacturing, Product Design', 'Automotive',\n",
       "       'Automotive, Retail', 'Apps, Audio', 'Automotive, E-Commerce',\n",
       "       'Digital Entertainment, Fantasy Sports, Sports',\n",
       "       'E-Learning, EdTech, Education',\n",
       "       'Funding Platform, Incubators, Non Profit',\n",
       "       'Hospitality, Hotel, Leisure, Travel',\n",
       "       'Classifieds, Internet, Marketplace, Rental Property',\n",
       "       'Banking, E-Learning, Trading Platform',\n",
       "       'E-Commerce, Mobile, Retail',\n",
       "       'Artificial Intelligence, Information Technology',\n",
       "       'Enterprise Resource Planning (ERP), Information Services, Information Technology, Real Estate',\n",
       "       'Banking, Finance, Financial Services',\n",
       "       'Audio, Mobile, Tourism, Travel',\n",
       "       'Energy, Energy Storage, Infrastructure',\n",
       "       'Government, Information Technology, Software',\n",
       "       'Information Technology',\n",
       "       'Education, Information Technology, Internet, Mobile, Software',\n",
       "       'Consumer Lending, Financial Services, Lending, Personal Finance',\n",
       "       'Digital Media, Internet, Media and Entertainment, Online Portals, Social Media',\n",
       "       'Business Intelligence, Customer Service, Market Research, SaaS',\n",
       "       'Credit, Financial Services, FinTech, Lending',\n",
       "       'Children, Education, Parenting',\n",
       "       'Automotive, Battery, Energy, Energy Storage',\n",
       "       'E-Commerce, Mobile, Sharing Economy',\n",
       "       'Food Delivery, Organic, Organic Food', 'Mobile', 'Rental',\n",
       "       'Travel', 'Consumer', 'B2B, Farming, Marketplace',\n",
       "       'Wealth Management', 'Biotechnology',\n",
       "       'Education, Gaming, Training', 'Veterinary',\n",
       "       'Internet, Mobile, Social Entrepreneurship, Telecommunications, Wireless',\n",
       "       'Health Care, Hospital, Supply Chain Management',\n",
       "       'Tourism, Travel', 'Hospitality, Real Estate', 'Finance',\n",
       "       'Digital Media, EBooks, Publishing, Reading Apps',\n",
       "       'Consumer Electronics, Embedded Systems, Hardware, Smart Building, Software',\n",
       "       'Food and Beverage, Food Processing',\n",
       "       'Internet, Marketplace, Shopping',\n",
       "       'Analytics, Computer Vision, Enterprise Software, Machine Learning, Natural Language Processing, Speech Recognition',\n",
       "       'Facilities Support Services',\n",
       "       'Automotive, Electric Vehicle, Energy',\n",
       "       'Health Care, Health Diagnostics, Predictive Analytics',\n",
       "       'Cloud Computing, Computer, SaaS, Software',\n",
       "       'Fashion, Lifestyle, Retail', 'Medical', 'Music Streaming',\n",
       "       'Finance, Impact Investing, Internet',\n",
       "       'Internet, Social Entrepreneurship', 'Retail',\n",
       "       'Finance, Impact Investing, Mobile Apps',\n",
       "       'Cloud Computing, Computer, Software',\n",
       "       'Business Development, Market Research, Outsourcing',\n",
       "       'Health Care, Hospitality', 'Internet, Social News, Sports',\n",
       "       'Human Resources', 'Finance, Financial Services, FinTech',\n",
       "       'Customer Service, Software, Video, Video Streaming',\n",
       "       'E-Commerce, Food Processing', 'Training',\n",
       "       'Dietary Supplements, Food and Beverage, Health Care, Organic Food, Snack Food',\n",
       "       'Manufacturing, Oil and Gas, Robotics',\n",
       "       'Artificial Intelligence, Computer, Machine Learning',\n",
       "       'Collaboration, Communities, Coworking, Sharing Economy',\n",
       "       'Big Data, EdTech, Machine Learning', 'Nanotechnology',\n",
       "       'Analytics, Audio, Digital Media, Innovation Management, Internet Radio, Media and Entertainment',\n",
       "       'Financial Services, Lending, Peer to Peer',\n",
       "       'E-Commerce, Furniture, Home Decor, Interior Design, Internet',\n",
       "       'Digital Media', 'File Sharing, Personalization, Social Media',\n",
       "       'Home Decor, Interior Design',\n",
       "       'Health Care, Medical Device, Mobile Apps',\n",
       "       'E-Commerce, Facilities Support Services, Procurement, Supply Chain Management',\n",
       "       'Crowdfunding, Finance, Financial Services',\n",
       "       'Finance, Financial Services, Insurance',\n",
       "       'Children, Education, Online Portals', 'Software, Virtual Reality',\n",
       "       'B2B, Food and Beverage, Food Delivery',\n",
       "       'Catering, Food and Beverage, Food Delivery, Food Processing',\n",
       "       'Food and Beverage, Snack Food', 'Automotive, E-Commerce, Mobile',\n",
       "       'Computer, Digital Marketing, Facilities Support Services, Graphic Design, Internet, Mobile Apps, Social Media Marketing, Web Development',\n",
       "       'Android, Big Data, Blockchain, Cloud Computing, EdTech, Education, Information Technology, iOS, Training, Web Development',\n",
       "       'Analytics, CRM, Loyalty Programs, Machine Learning, Marketing Automation, Retail Technology, SaaS, Small and Medium Businesses',\n",
       "       'Delivery, Information Technology, Mobile Apps',\n",
       "       'Environmental Consulting, Renewable Energy',\n",
       "       'Big Data, Business Intelligence, Financial Services, FinTech, Personal Finance',\n",
       "       'Commercial Real Estate, Coworking, Office Administration, Real Estate',\n",
       "       'Food and Beverage, Food Processing, Organic Food, Snack Food',\n",
       "       'Apps, Health Care, Internet, Mobile Apps, Personal Health',\n",
       "       'Digital Media, Incubators, Social Entrepreneurship',\n",
       "       'Finance, Financial Services, Marketing',\n",
       "       'Biotechnology, Health Care, Life Science, Medical Device',\n",
       "       'Education, Human Resources', 'Consumer Electronics',\n",
       "       'Apps, Health Care, Hospital, Mobile Apps',\n",
       "       'Delivery Service, Logistics, Service Industry',\n",
       "       'Big Data, Data Visualization, Logistics, Software',\n",
       "       'Basketball, Cricket, Cycling, eSports, Fitness, Golf, Health Care, Hockey, Sports, Swimming, Table Tennis, Volley Ball',\n",
       "       'Media and Entertainment, News, Publishing', 'Consulting',\n",
       "       'Big Data, Financial Services, Machine Learning, Predictive Analytics',\n",
       "       'Agriculture, AgTech, Manufacturing',\n",
       "       'Digital Media, News, Publishing', 'Health Care, Hospital',\n",
       "       'B2B, E-Commerce, Enterprise',\n",
       "       'Fraud Detection, Information Services, Security',\n",
       "       'Agriculture, AgTech, Artificial Intelligence, Internet of Things, Machine Learning',\n",
       "       'Cryptocurrency, Trading Platform',\n",
       "       'Finance, FinTech, Mobile Payments', 'Wedding',\n",
       "       'E-Learning, EdTech, Education, Image Recognition, Machine Learning, STEM Education',\n",
       "       'Consumer Goods', 'Digital Entertainment',\n",
       "       'Crowdsourcing, Financial Services, Funding Platform, Venture Capital',\n",
       "       'Delivery, Drones, Geospatial, Robotics',\n",
       "       'Health Care, Information Technology, Management Information Systems',\n",
       "       'Farming',\n",
       "       'Business Travel, Hospitality, Hotel, Marketplace, Tourism, Travel Accommodations',\n",
       "       'Career Planning, Education, Higher Education, Service Industry',\n",
       "       'Medical Device', 'Alternative Medicine, Health Care',\n",
       "       'Internet, Software',\n",
       "       'Dental, Elder Care, Health Care, Home Health Care, Personal Health',\n",
       "       'Financial Services, Insurance, Private Social Networking',\n",
       "       'Consumer Electronics, E-Commerce, E-Commerce Platforms, Electronics, Shipping, Shopping',\n",
       "       'CleanTech', 'Advertising, Internet, Marketing',\n",
       "       'Human Resources, Security, Training',\n",
       "       'Consumer Lending, Finance, FinTech',\n",
       "       'Marketing, Social Media, Video', 'Banking', 'Food Processing',\n",
       "       'Apps', 'Marketing',\n",
       "       'Apps, B2B, Freight Service, Logistics, SaaS, Shipping, Supply Chain Management, Transportation',\n",
       "       'Digital Entertainment, Fantasy Sports, Gaming, Sports',\n",
       "       'Automotive, Last Mile Transportation, Peer to Peer, Ride Sharing',\n",
       "       'Commercial, E-Learning, Education',\n",
       "       'Continuing Education, EdTech, Education, Skill Assessment',\n",
       "       'Smart Cities, Telecommunications', 'Internet of Things, Robotics',\n",
       "       'Apps, Home Services, Information Services, Information Technology',\n",
       "       'Medical, Tourism', 'Career Planning, Education, Internet',\n",
       "       'Fashion, Graphic Design, Wearables',\n",
       "       'Communities, Leisure, Mobile Apps, Software',\n",
       "       'Automotive, Rental, Sharing Economy',\n",
       "       'Energy, Environmental Consulting, Renewable Energy, Solar',\n",
       "       'Information Technology, SaaS, Security',\n",
       "       'Crowdfunding, Financial Services, Internet',\n",
       "       'Customer Service, Information Technology, Internet, Sales Automation',\n",
       "       'Advertising, Artificial Intelligence, Digital Media, iOS, Location Based Services, News, Video, Video on Demand, Video Streaming',\n",
       "       'Credit Cards, Payments, Property Insurance, Property Management, Rental Property',\n",
       "       'Beauty, Cosmetics, Health Care, Service Industry',\n",
       "       'EdTech, Education, Mobile, Tutoring', 'Social Media, Sports',\n",
       "       'Biopharma', 'E-Commerce, E-Commerce Platforms, Retail',\n",
       "       'E-Commerce, Fashion, Shopping',\n",
       "       'Digital Entertainment, Mobile, PC Games',\n",
       "       'Finance, Financial Services, Small and Medium Businesses',\n",
       "       'Artificial Intelligence, Energy, Oil and Gas',\n",
       "       'Computer, FinTech, Risk Management, Software',\n",
       "       'Apps, Financial Services, FinTech',\n",
       "       \"Child Care, Health Care, Hospital, Medical, Women's\",\n",
       "       'Agriculture, Mobile',\n",
       "       'Finance, FinTech, Payments, Property Development, Rental',\n",
       "       'Information Services, Information Technology, Mobile, Software',\n",
       "       'Apps, Fitness, Health Care, mHealth',\n",
       "       'Food and Beverage, Food Delivery', 'Apps, Payments, Retail',\n",
       "       'Health Insurance, Insurance, Life Insurance',\n",
       "       'Rental, Taxi Service, Travel',\n",
       "       'E-Commerce, E-Commerce Platforms, Internet, Retail',\n",
       "       'Financial Services, Professional Services',\n",
       "       'Customer Service, Messaging, Mobile Apps, Personalization',\n",
       "       'Gaming, iOS, Sports',\n",
       "       'E-Commerce, E-Commerce Platforms, Internet, Mobile Apps, Social Media',\n",
       "       'Search Engine',\n",
       "       'Battery, Electric Vehicle, Energy, Renewable Energy, Transportation',\n",
       "       'Agriculture, Farmers Market, Farming',\n",
       "       'Artificial Intelligence, Drones, Navigation, Packaging Services, Robotics',\n",
       "       'Fitness, GreenTech, Internet of Things, Mobile Apps, Ride Sharing, Transportation',\n",
       "       'Mobile, Software, Travel', 'Cosmetics',\n",
       "       'Consulting, Cyber Security, Network Security',\n",
       "       'eSports, Gaming, Video Games', 'Fashion, Jewelry',\n",
       "       'B2B, Medical Device', 'Consumer Goods, Manufacturing',\n",
       "       'Biotechnology, Health Care, Wellness',\n",
       "       'Health Care, Hospital, Medical, Robotics',\n",
       "       'E-Commerce, Fitness, Health Care',\n",
       "       'Financial Services, Venture Capital', 'Accounting, Apps, FinTech',\n",
       "       'Apps, Mobile, Transportation', 'Reading Apps',\n",
       "       'Energy, Renewable Energy, Solar',\n",
       "       'Banking, Financial Services, FinTech', 'Apps, Education, Retail',\n",
       "       'Electric Vehicle',\n",
       "       'Automotive, Battery, Electric Vehicle, Manufacturing, Mechanical Design',\n",
       "       'Automotive, E-Commerce, Marketplace', 'Agriculture',\n",
       "       'Apps, Information Services, Information Technology',\n",
       "       'B2B, Marketplace', 'Packaging Services',\n",
       "       'Computer, Furniture, Software',\n",
       "       'Food Delivery, Hospitality, Reservations, Restaurants, Search Engine',\n",
       "       'Collaboration, Communities, Coworking, Real Estate',\n",
       "       'Accounting, Banking, Finance',\n",
       "       'Cloud Computing, Enterprise Software, Network Hardware, Network Security, SaaS',\n",
       "       'Information Services, Internet, Logistics, Supply Chain Management, Transportation',\n",
       "       'Automotive, E-Commerce, Information Services',\n",
       "       'Delivery, Logistics, Transportation',\n",
       "       'Automotive, E-Commerce Platforms, Marketplace',\n",
       "       'Last Mile Transportation, Railroad, Transportation, Travel',\n",
       "       'Cooking, E-Commerce, Food and Beverage, Food Delivery, Online Portals',\n",
       "       'FinTech, Mobile, Mobile Payments, Payments, Retail Technology',\n",
       "       'Online Games, Software',\n",
       "       'Online Portals, Property Management, Rental',\n",
       "       'E-Commerce, Food and Beverage, Tea',\n",
       "       'Music, Social Network, Video',\n",
       "       'Health Care, Pharmaceutical, Wellness',\n",
       "       'Delivery Service, Food and Beverage, Food Delivery',\n",
       "       'Hospitality, Information Technology, Travel Accommodations',\n",
       "       'Biotechnology, Diabetes, Health Care',\n",
       "       'Autonomous Vehicles, Last Mile Transportation, Recreational Vehicles, Rental',\n",
       "       'Finance, Financial Exchanges, Financial Services, Micro Lending',\n",
       "       'Analytics, Apps, Market Research',\n",
       "       'E-Commerce, E-Commerce Platforms, Furniture, Home Decor, Internet',\n",
       "       'Apps, Mobile, Mobile Apps, Software',\n",
       "       'News, Publishing, Social Media',\n",
       "       'Industrial, Industrial Automation',\n",
       "       'Internet, Mobile Apps, Social Network',\n",
       "       'Health Care, Health Diagnostics, Internet of Things, Life Science, Machine Learning, Medical, Medical Device',\n",
       "       'E-Commerce, Furniture, Interior Design', 'Apps, Events, News',\n",
       "       'Artificial Intelligence, Human Resources, Information Services, Information Technology',\n",
       "       'Logistics, Railroad, Transportation',\n",
       "       'Dating, Private Social Networking',\n",
       "       'Artificial Intelligence, Machine Learning, PaaS',\n",
       "       'Consumer, Furniture, Home Decor, Home Improvement',\n",
       "       'Apps, E-Commerce, Internet, Mobile, Ride Sharing, Transportation',\n",
       "       'Health Care, Health Insurance', 'Energy, Natural Resources',\n",
       "       'E-Commerce, Education, Health Care',\n",
       "       'Apps, Health Care, Pharmaceutical',\n",
       "       'Internet, Knowledge Management',\n",
       "       'Credit, Finance, FinTech, Lending, Sales Automation',\n",
       "       'Banking, Financial Services, Internet',\n",
       "       'E-Commerce, Health Care, Retail',\n",
       "       'Child Care, Information Technology',\n",
       "       'Financial Services, Micro Lending',\n",
       "       'E-Commerce, Retail, Shopping',\n",
       "       'Food and Beverage, Snack Food, Tea',\n",
       "       'Delivery Service, E-Commerce, Logistics',\n",
       "       'Fashion, Lifestyle, Rental', 'Fantasy Sports, Mobile, Sports',\n",
       "       'Beauty, Fashion, Wellness', 'Food and Beverage, Restaurants, Tea',\n",
       "       'Fitness, Sporting Goods, Sports',\n",
       "       'Food and Beverage, Food Processing, Manufacturing',\n",
       "       'E-Learning, Internet', 'Eyewear, Internet',\n",
       "       'Information Technology, Mobile, News, Operating Systems, Social Media, Social News',\n",
       "       'FinTech, Internet, Payments, Service Industry',\n",
       "       'B2B, Business Development, Internet, Marketplace',\n",
       "       'Food and Beverage, Food Delivery, Internet',\n",
       "       'Biotechnology, Health Care, Pharmaceutical'], dtype=object)"
      ]
     },
     "execution_count": 104,
     "metadata": {},
     "output_type": "execute_result"
    }
   ],
   "source": [
    "df2018copy['Sector'].unique()"
   ]
  },
  {
   "cell_type": "code",
   "execution_count": 105,
   "metadata": {},
   "outputs": [
    {
     "data": {
      "text/plain": [
       "array(['Brand Marketing', 'Agriculture', 'Credit', 'Financial Services',\n",
       "       'E-Commerce Platforms', 'Cloud Infrastructure', 'Internet',\n",
       "       'Market Research', 'Information Services', 'Mobile Payments',\n",
       "       'B2B', 'Apps', 'Food Delivery', 'Industrial Automation',\n",
       "       'Automotive', 'Finance', 'Accounting', 'Artificial Intelligence',\n",
       "       'Internet of Things', 'Air Transportation', 'Food and Beverage',\n",
       "       'Autonomous Vehicles', 'Enterprise Software', 'Logistics',\n",
       "       'Insurance', 'Information Technology', 'Blockchain', 'Education',\n",
       "       'E-Commerce', 'Renewable Energy', 'E-Learning', 'Clean Energy',\n",
       "       'Transportation', 'Fitness', 'Hospitality',\n",
       "       'Media and Entertainment', 'Broadcasting', 'EdTech', 'Health Care',\n",
       "       '—', 'Sports', 'Big Data', 'Cloud Computing', 'Food Processing',\n",
       "       'Trading Platform', 'Consumer Goods', 'Wellness', 'Fashion',\n",
       "       'Consulting', 'Biotechnology', 'Communities', 'Consumer',\n",
       "       'Consumer Applications', 'Mobile', 'Advertising', 'Marketplace',\n",
       "       'Aerospace', 'Home Decor', 'Energy', 'Digital Marketing',\n",
       "       'Creative Agency', 'Consumer Lending', 'Health Diagnostics',\n",
       "       'Banking', 'Embedded Systems', 'Beauty', 'AgTech', 'Credit Cards',\n",
       "       'Software', 'Manufacturing', 'Hospital', 'Events', '3D Printing',\n",
       "       'Digital Entertainment', 'Funding Platform', 'Classifieds',\n",
       "       'Enterprise Resource Planning (ERP)', 'Audio', 'Government',\n",
       "       'Digital Media', 'Business Intelligence', 'Children', 'Rental',\n",
       "       'Travel', 'Wealth Management', 'Veterinary', 'Tourism',\n",
       "       'Consumer Electronics', 'Analytics', 'Facilities Support Services',\n",
       "       'Medical', 'Music Streaming', 'Retail', 'Business Development',\n",
       "       'Human Resources', 'Customer Service', 'Training',\n",
       "       'Dietary Supplements', 'Collaboration', 'Nanotechnology',\n",
       "       'File Sharing', 'Crowdfunding', 'Catering', 'Computer', 'Android',\n",
       "       'Delivery', 'Environmental Consulting', 'Commercial Real Estate',\n",
       "       'Delivery Service', 'Basketball', 'Fraud Detection',\n",
       "       'Cryptocurrency', 'Wedding', 'Crowdsourcing', 'Farming',\n",
       "       'Business Travel', 'Career Planning', 'Medical Device',\n",
       "       'Alternative Medicine', 'Dental', 'CleanTech', 'Marketing',\n",
       "       'Commercial', 'Continuing Education', 'Smart Cities',\n",
       "       'Social Media', 'Biopharma', 'Child Care', 'Health Insurance',\n",
       "       'Gaming', 'Search Engine', 'Battery', 'Cosmetics', 'eSports',\n",
       "       'Reading Apps', 'Electric Vehicle', 'Packaging Services',\n",
       "       'Last Mile Transportation', 'Cooking', 'FinTech', 'Online Games',\n",
       "       'Online Portals', 'Music', 'News', 'Industrial', 'Dating',\n",
       "       'Fantasy Sports', 'Eyewear'], dtype=object)"
      ]
     },
     "execution_count": 105,
     "metadata": {},
     "output_type": "execute_result"
    }
   ],
   "source": [
    "# split Sector into list and get first item representing the sector name\n",
    "df2018copy['Sector'] = df2018copy['Sector'].str.split(',').str[0]\n",
    " \n",
    "# verify result \n",
    "df2018copy['Sector'].unique()"
   ]
  },
  {
   "cell_type": "code",
   "execution_count": 106,
   "metadata": {},
   "outputs": [
    {
     "data": {
      "text/plain": [
       "Sector\n",
       "—                                     30\n",
       "Financial Services                    26\n",
       "Health Care                           26\n",
       "E-Commerce                            22\n",
       "Apps                                  20\n",
       "                                      ..\n",
       "Business Intelligence                  1\n",
       "Government                             1\n",
       "Audio                                  1\n",
       "Enterprise Resource Planning (ERP)     1\n",
       "Eyewear                                1\n",
       "Name: count, Length: 148, dtype: int64"
      ]
     },
     "execution_count": 106,
     "metadata": {},
     "output_type": "execute_result"
    }
   ],
   "source": [
    "df2018copy['Sector'].value_counts()"
   ]
  },
  {
   "cell_type": "code",
   "execution_count": 107,
   "metadata": {},
   "outputs": [
    {
     "data": {
      "text/plain": [
       "Sector\n",
       "—                                     30\n",
       "financial services                    26\n",
       "health care                           26\n",
       "e-commerce                            22\n",
       "apps                                  20\n",
       "                                      ..\n",
       "business intelligence                  1\n",
       "government                             1\n",
       "audio                                  1\n",
       "enterprise resource planning (erp)     1\n",
       "eyewear                                1\n",
       "Name: count, Length: 148, dtype: int64"
      ]
     },
     "execution_count": 107,
     "metadata": {},
     "output_type": "execute_result"
    }
   ],
   "source": [
    "# Convert all sector names to lowercase to ensure consistency with other dataset\n",
    "df2018copy['Sector'] = df2018copy['Sector'].str.lower()\n",
    "\n",
    "# Remove any leading and trailing whitespaces just incase from the sector names to handle variations caused by extra spaces\n",
    "df2018copy['Sector'] = df2018copy['Sector'].str.strip()\n",
    "\n",
    "# Verify changes by counting the occurrences of each unique value in the 'Sector' column using 'value_counts'\n",
    "df2018copy['Sector'].value_counts()\n"
   ]
  },
  {
   "cell_type": "code",
   "execution_count": 108,
   "metadata": {},
   "outputs": [
    {
     "data": {
      "text/plain": [
       "Sector\n",
       "False    496\n",
       "True      30\n",
       "Name: count, dtype: int64"
      ]
     },
     "execution_count": 108,
     "metadata": {},
     "output_type": "execute_result"
    }
   ],
   "source": [
    "# Replace '-' in the sector column with NaN beacuse it is unidentified data.\n",
    "df2018copy['Sector'] = df2018copy['Sector'].replace('—', np.nan)\n",
    "\n",
    "# Verify changes\n",
    "df2018copy['Sector'].isnull().value_counts()"
   ]
  },
  {
   "cell_type": "code",
   "execution_count": 109,
   "metadata": {},
   "outputs": [
    {
     "data": {
      "text/plain": [
       "Sector\n",
       "financial services                    56\n",
       "health care                           26\n",
       "e-commerce                            22\n",
       "apps                                  20\n",
       "finance                               18\n",
       "                                      ..\n",
       "business intelligence                  1\n",
       "government                             1\n",
       "audio                                  1\n",
       "enterprise resource planning (erp)     1\n",
       "eyewear                                1\n",
       "Name: count, Length: 147, dtype: int64"
      ]
     },
     "execution_count": 109,
     "metadata": {},
     "output_type": "execute_result"
    }
   ],
   "source": [
    "# then replace the 'NaN' with the most frequent value in the column\n",
    "most_frequent_stage = df2018copy['Sector'].mode()[0]\n",
    "df2018copy['Sector'] = df2018copy['Sector'].replace(np.nan, most_frequent_stage)\n",
    "\n",
    "# Verify changes by counting the occurrences of each unique value in the 'Sector' column using 'value_counts'\n",
    "df2018copy['Sector'].value_counts()"
   ]
  },
  {
   "cell_type": "code",
   "execution_count": 110,
   "metadata": {},
   "outputs": [
    {
     "data": {
      "text/plain": [
       "Stage\n",
       "Seed                                                                                                       280\n",
       "Series A                                                                                                    73\n",
       "Angel                                                                                                       37\n",
       "Venture - Series Unknown                                                                                    37\n",
       "Series B                                                                                                    20\n",
       "Series C                                                                                                    16\n",
       "Debt Financing                                                                                              13\n",
       "Private Equity                                                                                              10\n",
       "Corporate Round                                                                                              8\n",
       "Pre-Seed                                                                                                     6\n",
       "Series E                                                                                                     5\n",
       "Grant                                                                                                        4\n",
       "Series D                                                                                                     3\n",
       "Secondary Market                                                                                             3\n",
       "Post-IPO Equity                                                                                              3\n",
       "Undisclosed                                                                                                  2\n",
       "Post-IPO Debt                                                                                                2\n",
       "Non-equity Assistance                                                                                        1\n",
       "Series H                                                                                                     1\n",
       "https://docs.google.com/spreadsheets/d/1x9ziNeaz6auNChIHnMI8U6kS7knTr3byy_YBGfQaoUA/edit#gid=1861303593      1\n",
       "Funding Round                                                                                                1\n",
       "Name: count, dtype: int64"
      ]
     },
     "execution_count": 110,
     "metadata": {},
     "output_type": "execute_result"
    }
   ],
   "source": [
    "df2018copy['Stage'].value_counts()"
   ]
  },
  {
   "cell_type": "code",
   "execution_count": 111,
   "metadata": {},
   "outputs": [
    {
     "data": {
      "text/plain": [
       "Stage\n",
       "Seed                        280\n",
       "Series A                     73\n",
       "Venture - Series Unknown     39\n",
       "Angel Round                  37\n",
       "Series B                     20\n",
       "Series C                     16\n",
       "Debt                         15\n",
       "Private Equity               13\n",
       "Corporate Round               8\n",
       "Pre-Seed                      6\n",
       "Grant                         5\n",
       "Series E                      5\n",
       "Series D                      3\n",
       "Series H                      1\n",
       "Funding Round                 1\n",
       "Name: count, dtype: int64"
      ]
     },
     "execution_count": 111,
     "metadata": {},
     "output_type": "execute_result"
    }
   ],
   "source": [
    "# Standardize stage column to suit prevoius stage mapping done on other data set above\n",
    "df2018copy['Stage'] = df2018copy['Stage'].replace({\n",
    "    'Angel': 'Angel Round',\n",
    "    'Post-IPO Debt': 'Debt',\n",
    "    'Undisclosed': 'Venture - Series Unknown',\n",
    "    'Post-IPO Equity': 'Private Equity',\n",
    "    'Debt Financing': 'Debt',\n",
    "    'Non-equity Assistance': 'Grant',\n",
    "})\n",
    "\n",
    "#now remove some unwanted values in the col as sector values\n",
    "unwanted_values = ['Secondary Market',\n",
    "                 'https://docs.google.com/spreadsheets/d/1x9ziNeaz6auNChIHnMI8U6kS7knTr3byy_YBGfQaoUA/edit#gid=1861303593']\n",
    "df2018copy = df2018copy[~df2018copy['Stage'].isin(unwanted_values)]\n",
    "\n",
    "# Verify changes\n",
    "df2018copy['Stage'].value_counts()\n"
   ]
  },
  {
   "cell_type": "code",
   "execution_count": 112,
   "metadata": {},
   "outputs": [
    {
     "data": {
      "text/plain": [
       "Company/Brand    0\n",
       "Sector           0\n",
       "Stage            0\n",
       "Amount           0\n",
       "HeadQuarter      0\n",
       "What it does     0\n",
       "Year             0\n",
       "dtype: int64"
      ]
     },
     "execution_count": 112,
     "metadata": {},
     "output_type": "execute_result"
    }
   ],
   "source": [
    "# Checking for null values in the 2020 dataset\n",
    "df2018copy.isnull().sum()\n"
   ]
  },
  {
   "cell_type": "markdown",
   "metadata": {},
   "source": [
    "# Concanating the 2018, 2019, 2020 and 2021 Dataset into one Dataframe"
   ]
  },
  {
   "cell_type": "code",
   "execution_count": 154,
   "metadata": {},
   "outputs": [
    {
     "data": {
      "text/html": [
       "<div>\n",
       "<style scoped>\n",
       "    .dataframe tbody tr th:only-of-type {\n",
       "        vertical-align: middle;\n",
       "    }\n",
       "\n",
       "    .dataframe tbody tr th {\n",
       "        vertical-align: top;\n",
       "    }\n",
       "\n",
       "    .dataframe thead th {\n",
       "        text-align: right;\n",
       "    }\n",
       "</style>\n",
       "<table border=\"1\" class=\"dataframe\">\n",
       "  <thead>\n",
       "    <tr style=\"text-align: right;\">\n",
       "      <th></th>\n",
       "      <th>Company/Brand</th>\n",
       "      <th>Sector</th>\n",
       "      <th>Stage</th>\n",
       "      <th>Amount</th>\n",
       "      <th>HeadQuarter</th>\n",
       "      <th>What it does</th>\n",
       "      <th>Year</th>\n",
       "    </tr>\n",
       "  </thead>\n",
       "  <tbody>\n",
       "    <tr>\n",
       "      <th>0</th>\n",
       "      <td>TheCollegeFever</td>\n",
       "      <td>brand marketing</td>\n",
       "      <td>Seed</td>\n",
       "      <td>250000.0</td>\n",
       "      <td>Bangalore</td>\n",
       "      <td>TheCollegeFever is a hub for fun, fiesta and f...</td>\n",
       "      <td>2018-01-01</td>\n",
       "    </tr>\n",
       "    <tr>\n",
       "      <th>1</th>\n",
       "      <td>Happy Cow Dairy</td>\n",
       "      <td>agriculture</td>\n",
       "      <td>Seed</td>\n",
       "      <td>584400.0</td>\n",
       "      <td>Mumbai</td>\n",
       "      <td>A startup which aggregates milk from dairy far...</td>\n",
       "      <td>2018-01-01</td>\n",
       "    </tr>\n",
       "    <tr>\n",
       "      <th>2</th>\n",
       "      <td>MyLoanCare</td>\n",
       "      <td>credit</td>\n",
       "      <td>Series A</td>\n",
       "      <td>949650.0</td>\n",
       "      <td>Gurgaon</td>\n",
       "      <td>Leading Online Loans Marketplace in India</td>\n",
       "      <td>2018-01-01</td>\n",
       "    </tr>\n",
       "    <tr>\n",
       "      <th>3</th>\n",
       "      <td>PayMe India</td>\n",
       "      <td>financial services</td>\n",
       "      <td>Angel Round</td>\n",
       "      <td>2000000.0</td>\n",
       "      <td>Noida</td>\n",
       "      <td>PayMe India is an innovative FinTech organizat...</td>\n",
       "      <td>2018-01-01</td>\n",
       "    </tr>\n",
       "    <tr>\n",
       "      <th>4</th>\n",
       "      <td>Eunimart</td>\n",
       "      <td>e-commerce platforms</td>\n",
       "      <td>Seed</td>\n",
       "      <td>1300000.0</td>\n",
       "      <td>Hyderabad</td>\n",
       "      <td>Eunimart is a one stop solution for merchants ...</td>\n",
       "      <td>2018-01-01</td>\n",
       "    </tr>\n",
       "  </tbody>\n",
       "</table>\n",
       "</div>"
      ],
      "text/plain": [
       "     Company/Brand                Sector        Stage     Amount HeadQuarter  \\\n",
       "0  TheCollegeFever       brand marketing         Seed   250000.0   Bangalore   \n",
       "1  Happy Cow Dairy           agriculture         Seed   584400.0      Mumbai   \n",
       "2       MyLoanCare                credit     Series A   949650.0     Gurgaon   \n",
       "3      PayMe India    financial services  Angel Round  2000000.0       Noida   \n",
       "4         Eunimart  e-commerce platforms         Seed  1300000.0   Hyderabad   \n",
       "\n",
       "                                        What it does       Year  \n",
       "0  TheCollegeFever is a hub for fun, fiesta and f... 2018-01-01  \n",
       "1  A startup which aggregates milk from dairy far... 2018-01-01  \n",
       "2          Leading Online Loans Marketplace in India 2018-01-01  \n",
       "3  PayMe India is an innovative FinTech organizat... 2018-01-01  \n",
       "4  Eunimart is a one stop solution for merchants ... 2018-01-01  "
      ]
     },
     "execution_count": 154,
     "metadata": {},
     "output_type": "execute_result"
    }
   ],
   "source": [
    "df = pd.concat([df2018copy,df2019copy,df2020copy,df2021copy])\n",
    "\n",
    "#reset index of the conc dataset\n",
    "df = df.reset_index(drop=True)\n",
    "df = pd.DataFrame(df)\n",
    "\n",
    "df.head()"
   ]
  },
  {
   "cell_type": "code",
   "execution_count": 155,
   "metadata": {},
   "outputs": [
    {
     "data": {
      "text/html": [
       "<div>\n",
       "<style scoped>\n",
       "    .dataframe tbody tr th:only-of-type {\n",
       "        vertical-align: middle;\n",
       "    }\n",
       "\n",
       "    .dataframe tbody tr th {\n",
       "        vertical-align: top;\n",
       "    }\n",
       "\n",
       "    .dataframe thead th {\n",
       "        text-align: right;\n",
       "    }\n",
       "</style>\n",
       "<table border=\"1\" class=\"dataframe\">\n",
       "  <thead>\n",
       "    <tr style=\"text-align: right;\">\n",
       "      <th></th>\n",
       "      <th>Company/Brand</th>\n",
       "      <th>Sector</th>\n",
       "      <th>Stage</th>\n",
       "      <th>Amount ($)</th>\n",
       "      <th>HeadQuarter</th>\n",
       "      <th>What it does</th>\n",
       "      <th>Year</th>\n",
       "    </tr>\n",
       "  </thead>\n",
       "  <tbody>\n",
       "    <tr>\n",
       "      <th>0</th>\n",
       "      <td>TheCollegeFever</td>\n",
       "      <td>brand marketing</td>\n",
       "      <td>Seed</td>\n",
       "      <td>250000.0</td>\n",
       "      <td>Bangalore</td>\n",
       "      <td>TheCollegeFever is a hub for fun, fiesta and f...</td>\n",
       "      <td>2018-01-01</td>\n",
       "    </tr>\n",
       "    <tr>\n",
       "      <th>1</th>\n",
       "      <td>Happy Cow Dairy</td>\n",
       "      <td>agriculture</td>\n",
       "      <td>Seed</td>\n",
       "      <td>584400.0</td>\n",
       "      <td>Mumbai</td>\n",
       "      <td>A startup which aggregates milk from dairy far...</td>\n",
       "      <td>2018-01-01</td>\n",
       "    </tr>\n",
       "    <tr>\n",
       "      <th>2</th>\n",
       "      <td>MyLoanCare</td>\n",
       "      <td>credit</td>\n",
       "      <td>Series A</td>\n",
       "      <td>949650.0</td>\n",
       "      <td>Gurgaon</td>\n",
       "      <td>Leading Online Loans Marketplace in India</td>\n",
       "      <td>2018-01-01</td>\n",
       "    </tr>\n",
       "    <tr>\n",
       "      <th>3</th>\n",
       "      <td>PayMe India</td>\n",
       "      <td>financial services</td>\n",
       "      <td>Angel Round</td>\n",
       "      <td>2000000.0</td>\n",
       "      <td>Noida</td>\n",
       "      <td>PayMe India is an innovative FinTech organizat...</td>\n",
       "      <td>2018-01-01</td>\n",
       "    </tr>\n",
       "    <tr>\n",
       "      <th>4</th>\n",
       "      <td>Eunimart</td>\n",
       "      <td>e-commerce platforms</td>\n",
       "      <td>Seed</td>\n",
       "      <td>1300000.0</td>\n",
       "      <td>Hyderabad</td>\n",
       "      <td>Eunimart is a one stop solution for merchants ...</td>\n",
       "      <td>2018-01-01</td>\n",
       "    </tr>\n",
       "  </tbody>\n",
       "</table>\n",
       "</div>"
      ],
      "text/plain": [
       "     Company/Brand                Sector        Stage  Amount ($) HeadQuarter  \\\n",
       "0  TheCollegeFever       brand marketing         Seed    250000.0   Bangalore   \n",
       "1  Happy Cow Dairy           agriculture         Seed    584400.0      Mumbai   \n",
       "2       MyLoanCare                credit     Series A    949650.0     Gurgaon   \n",
       "3      PayMe India    financial services  Angel Round   2000000.0       Noida   \n",
       "4         Eunimart  e-commerce platforms         Seed   1300000.0   Hyderabad   \n",
       "\n",
       "                                        What it does       Year  \n",
       "0  TheCollegeFever is a hub for fun, fiesta and f... 2018-01-01  \n",
       "1  A startup which aggregates milk from dairy far... 2018-01-01  \n",
       "2          Leading Online Loans Marketplace in India 2018-01-01  \n",
       "3  PayMe India is an innovative FinTech organizat... 2018-01-01  \n",
       "4  Eunimart is a one stop solution for merchants ... 2018-01-01  "
      ]
     },
     "execution_count": 155,
     "metadata": {},
     "output_type": "execute_result"
    }
   ],
   "source": [
    "# Rename the 'Amount' column to 'Amount ($)'\n",
    "df = df.rename(columns={'Amount': 'Amount ($)'})\n",
    "\n",
    "# Verify the changes\n",
    "df.head()\n"
   ]
  },
  {
   "cell_type": "code",
   "execution_count": 156,
   "metadata": {},
   "outputs": [
    {
     "data": {
      "text/html": [
       "<div>\n",
       "<style scoped>\n",
       "    .dataframe tbody tr th:only-of-type {\n",
       "        vertical-align: middle;\n",
       "    }\n",
       "\n",
       "    .dataframe tbody tr th {\n",
       "        vertical-align: top;\n",
       "    }\n",
       "\n",
       "    .dataframe thead th {\n",
       "        text-align: right;\n",
       "    }\n",
       "</style>\n",
       "<table border=\"1\" class=\"dataframe\">\n",
       "  <thead>\n",
       "    <tr style=\"text-align: right;\">\n",
       "      <th></th>\n",
       "      <th>Company/Brand</th>\n",
       "      <th>Sector</th>\n",
       "      <th>Stage</th>\n",
       "      <th>Amount ($)</th>\n",
       "      <th>HeadQuarter</th>\n",
       "      <th>What it does</th>\n",
       "      <th>Year</th>\n",
       "    </tr>\n",
       "  </thead>\n",
       "  <tbody>\n",
       "    <tr>\n",
       "      <th>0</th>\n",
       "      <td>TheCollegeFever</td>\n",
       "      <td>brand marketing</td>\n",
       "      <td>Seed</td>\n",
       "      <td>250000.0</td>\n",
       "      <td>Bangalore</td>\n",
       "      <td>TheCollegeFever is a hub for fun, fiesta and f...</td>\n",
       "      <td>2018-01-01</td>\n",
       "    </tr>\n",
       "    <tr>\n",
       "      <th>1</th>\n",
       "      <td>Happy Cow Dairy</td>\n",
       "      <td>agriculture</td>\n",
       "      <td>Seed</td>\n",
       "      <td>584400.0</td>\n",
       "      <td>Mumbai</td>\n",
       "      <td>A startup which aggregates milk from dairy far...</td>\n",
       "      <td>2018-01-01</td>\n",
       "    </tr>\n",
       "    <tr>\n",
       "      <th>2</th>\n",
       "      <td>MyLoanCare</td>\n",
       "      <td>credit</td>\n",
       "      <td>Series A</td>\n",
       "      <td>949650.0</td>\n",
       "      <td>Gurgaon</td>\n",
       "      <td>Leading Online Loans Marketplace in India</td>\n",
       "      <td>2018-01-01</td>\n",
       "    </tr>\n",
       "    <tr>\n",
       "      <th>3</th>\n",
       "      <td>PayMe India</td>\n",
       "      <td>financial services</td>\n",
       "      <td>Angel Round</td>\n",
       "      <td>2000000.0</td>\n",
       "      <td>Noida</td>\n",
       "      <td>PayMe India is an innovative FinTech organizat...</td>\n",
       "      <td>2018-01-01</td>\n",
       "    </tr>\n",
       "    <tr>\n",
       "      <th>4</th>\n",
       "      <td>Eunimart</td>\n",
       "      <td>e-commerce platforms</td>\n",
       "      <td>Seed</td>\n",
       "      <td>1300000.0</td>\n",
       "      <td>Hyderabad</td>\n",
       "      <td>Eunimart is a one stop solution for merchants ...</td>\n",
       "      <td>2018-01-01</td>\n",
       "    </tr>\n",
       "  </tbody>\n",
       "</table>\n",
       "</div>"
      ],
      "text/plain": [
       "     Company/Brand                Sector        Stage  Amount ($) HeadQuarter  \\\n",
       "0  TheCollegeFever       brand marketing         Seed    250000.0   Bangalore   \n",
       "1  Happy Cow Dairy           agriculture         Seed    584400.0      Mumbai   \n",
       "2       MyLoanCare                credit     Series A    949650.0     Gurgaon   \n",
       "3      PayMe India    financial services  Angel Round   2000000.0       Noida   \n",
       "4         Eunimart  e-commerce platforms         Seed   1300000.0   Hyderabad   \n",
       "\n",
       "                                        What it does       Year  \n",
       "0  TheCollegeFever is a hub for fun, fiesta and f... 2018-01-01  \n",
       "1  A startup which aggregates milk from dairy far... 2018-01-01  \n",
       "2          Leading Online Loans Marketplace in India 2018-01-01  \n",
       "3  PayMe India is an innovative FinTech organizat... 2018-01-01  \n",
       "4  Eunimart is a one stop solution for merchants ... 2018-01-01  "
      ]
     },
     "execution_count": 156,
     "metadata": {},
     "output_type": "execute_result"
    }
   ],
   "source": [
    "# Reset the index of the DataFrame\n",
    "df = df.reset_index(drop=True)\n",
    "\n",
    "# Verify the changes\n",
    "df.head()"
   ]
  },
  {
   "cell_type": "code",
   "execution_count": 157,
   "metadata": {},
   "outputs": [
    {
     "name": "stdout",
     "output_type": "stream",
     "text": [
      "<class 'pandas.core.frame.DataFrame'>\n",
      "RangeIndex: 2863 entries, 0 to 2862\n",
      "Data columns (total 7 columns):\n",
      " #   Column         Non-Null Count  Dtype         \n",
      "---  ------         --------------  -----         \n",
      " 0   Company/Brand  2863 non-null   object        \n",
      " 1   Sector         2863 non-null   object        \n",
      " 2   Stage          2863 non-null   object        \n",
      " 3   Amount ($)     2863 non-null   float64       \n",
      " 4   HeadQuarter    2863 non-null   object        \n",
      " 5   What it does   2863 non-null   object        \n",
      " 6   Year           2863 non-null   datetime64[ns]\n",
      "dtypes: datetime64[ns](1), float64(1), object(5)\n",
      "memory usage: 156.7+ KB\n"
     ]
    }
   ],
   "source": [
    "df.info()"
   ]
  },
  {
   "cell_type": "code",
   "execution_count": 158,
   "metadata": {},
   "outputs": [
    {
     "data": {
      "text/plain": [
       "array(['Bangalore', 'Mumbai', 'Gurgaon', 'Noida', 'Hyderabad',\n",
       "       'Bengaluru', 'Kalkaji', 'Delhi', 'India', 'Hubli', 'New Delhi',\n",
       "       'Chennai', 'Mohali', 'Kolkata', 'Pune', 'Jodhpur', 'Kanpur',\n",
       "       'Ahmedabad', 'Azadpur', 'Haryana', 'Cochin', 'Faridabad', 'Jaipur',\n",
       "       'Kota', 'Anand', 'Belgaum', 'Thane', 'Margão', 'Indore', 'Alwar',\n",
       "       'Kannur', 'Trivandrum', 'Ernakulam', 'Kormangala', 'Uttar Pradesh',\n",
       "       'Andheri', 'Mylapore', 'Ghaziabad', 'Kochi', 'Powai', 'Guntur',\n",
       "       'Kalpakkam', 'Bhopal', 'Coimbatore', 'Worli', 'Alleppey',\n",
       "       'Chandigarh', 'Guindy', 'Lucknow', 'Not Available', 'Telangana',\n",
       "       'Gurugram', 'Surat', 'Uttar pradesh', 'Rajasthan', 'Tirunelveli',\n",
       "       'Singapore', 'Gujarat', 'Kerala', 'Frisco', 'California',\n",
       "       'Dhingsara', 'New York', 'Patna', 'San Francisco', 'San Ramon',\n",
       "       'Paris', 'Plano', 'Sydney', 'San Francisco Bay Area', 'Bangaldesh',\n",
       "       'London', 'Milano', 'Palmwoods', 'France', 'Samastipur', 'Irvine',\n",
       "       'Tumkur', 'Newcastle Upon Tyne', 'Shanghai', 'Jiaxing', 'Rajastan',\n",
       "       'Ludhiana', 'Dehradun', 'San Franciscao', 'Tangerang', 'Berlin',\n",
       "       'Seattle', 'Riyadh', 'Seoul', 'Bangkok', 'Warangal', 'Hyderebad',\n",
       "       'Odisha', 'Bihar', 'Goa', 'Tamil Nadu', 'Banglore', 'Ahmadabad',\n",
       "       'Andhra Pradesh', 'Rajsamand', 'Ranchi', 'Vadodara', 'Nagpur',\n",
       "       'West Bengal', 'Samsitpur', 'Silvassa', 'Thiruvananthapuram',\n",
       "       'Roorkee', 'Ambernath', 'Panchkula', 'Mangalore', 'Telugana',\n",
       "       'Bhubaneswar', 'Kottayam', 'Beijing', 'Panaji', 'Satara',\n",
       "       'Orissia', 'Santra', 'Mountain View', 'Jharkhand', 'Bhilwara',\n",
       "       'Guwahati', 'The Nilgiris', 'Gandhinagar'], dtype=object)"
      ]
     },
     "execution_count": 158,
     "metadata": {},
     "output_type": "execute_result"
    }
   ],
   "source": [
    "df['HeadQuarter'].unique()"
   ]
  },
  {
   "cell_type": "code",
   "execution_count": 159,
   "metadata": {},
   "outputs": [
    {
     "data": {
      "text/plain": [
       "array(['Seed', 'Series A', 'Angel Round', 'Series B', 'Pre-Seed',\n",
       "       'Private Equity', 'Venture - Series Unknown', 'Grant', 'Debt',\n",
       "       'Series H', 'Series C', 'Series E', 'Corporate Round', 'Series D',\n",
       "       'Funding Round', 'Fresh funding', 'Pre series A', 'Series G',\n",
       "       'Post series A', 'Seed funding', 'Seed fund', 'Series F',\n",
       "       'Series B+', 'Seed round', 'Pre-series A', 'Pre-Series A',\n",
       "       'Pre-Series', 'Pre-Series C', 'Pre-Series B', 'Bridge', 'Edge',\n",
       "       'Seed Funding', 'Mid Series', 'PE', 'Series I'], dtype=object)"
      ]
     },
     "execution_count": 159,
     "metadata": {},
     "output_type": "execute_result"
    }
   ],
   "source": [
    "df['Stage'].unique()"
   ]
  },
  {
   "cell_type": "code",
   "execution_count": 160,
   "metadata": {},
   "outputs": [
    {
     "data": {
      "text/plain": [
       "array(['Seed', 'Series A', 'Angel Round', 'Series B', 'Pre-Seed',\n",
       "       'Private Equity', 'Venture - Series Unknown', 'Grant', 'Debt',\n",
       "       'Series H', 'Series C', 'Series E', 'Corporate Round', 'Series D',\n",
       "       'Funding Round', 'Fresh funding', 'Pre-Series A', 'Series G',\n",
       "       'Post series A', 'Series F', 'Pre-Series', 'Pre-Series C',\n",
       "       'Pre-Series B', 'Bridge', 'Edge', 'Mid Series', 'PE', 'Series I'],\n",
       "      dtype=object)"
      ]
     },
     "execution_count": 160,
     "metadata": {},
     "output_type": "execute_result"
    }
   ],
   "source": [
    "# Standardize stage column to suit prevoius stage mapping done \n",
    "df['Stage'] = df['Stage'].replace({\n",
    "    'Pre-series A': 'Pre-Series A',\n",
    "    'Series B+': 'Series B',\n",
    "    'Pre series A': 'Pre-Series A',\n",
    "    'Seed round': 'Seed',  # Seed Funding, Seed Fund, Seed round: Various terms referring to the initial funding stage (Seed)\n",
    "    'Seed fund': 'Seed',\n",
    "    'Seed funding': 'Seed',\n",
    "    'Seed Funding': 'Seed'\n",
    "})\n",
    "\n",
    "# Verify changes\n",
    "df['Stage'].unique()\n"
   ]
  },
  {
   "cell_type": "code",
   "execution_count": 161,
   "metadata": {},
   "outputs": [
    {
     "data": {
      "text/plain": [
       "Company/Brand\n",
       "BharatPe                        10\n",
       "Nykaa                            6\n",
       "MPL                              6\n",
       "Vedantu                          6\n",
       "Trell                            6\n",
       "                                ..\n",
       "Reliance Retail Ventures Ltd     1\n",
       "Chargebee                        1\n",
       "Credit Wise Capital              1\n",
       "Uni                              1\n",
       "WeRize                           1\n",
       "Name: count, Length: 2204, dtype: int64"
      ]
     },
     "execution_count": 161,
     "metadata": {},
     "output_type": "execute_result"
    }
   ],
   "source": [
    "df['Company/Brand'].value_counts()"
   ]
  },
  {
   "cell_type": "code",
   "execution_count": 162,
   "metadata": {},
   "outputs": [
    {
     "data": {
      "text/plain": [
       "Company/Brand\n",
       "bharatpe                        10\n",
       "byju's                           8\n",
       "nykaa                            6\n",
       "zomato                           6\n",
       "vedantu                          6\n",
       "                                ..\n",
       "reliance retail ventures ltd     1\n",
       "chargebee                        1\n",
       "credit wise capital              1\n",
       "uni                              1\n",
       "werize                           1\n",
       "Name: count, Length: 2142, dtype: int64"
      ]
     },
     "execution_count": 162,
     "metadata": {},
     "output_type": "execute_result"
    }
   ],
   "source": [
    "# Convert all Company/Brand names to lowercase to ensure consistency\n",
    "df['Company/Brand'] = df['Company/Brand'].str.lower()\n",
    "\n",
    "# Remove any leading and trailing whitespaces just incase from the sector names to handle variations caused by extra spaces\n",
    "df['Company/Brand'] = df['Company/Brand'].str.strip()\n",
    "\n",
    "# Verify Changes\n",
    "df['Company/Brand'].value_counts()"
   ]
  },
  {
   "cell_type": "code",
   "execution_count": 163,
   "metadata": {},
   "outputs": [
    {
     "data": {
      "text/plain": [
       "Company/Brand\n",
       "byju's                                       14\n",
       "bharatpe                                     10\n",
       "mobile premier league (mpl)                   9\n",
       "oyo                                           6\n",
       "trell                                         6\n",
       "                                             ..\n",
       "smarterbiz                                    1\n",
       "habbit health                                 1\n",
       "pinkblue                                      1\n",
       "backpacker panda holidays private limited     1\n",
       "werize                                        1\n",
       "Name: count, Length: 2137, dtype: int64"
      ]
     },
     "execution_count": 163,
     "metadata": {},
     "output_type": "execute_result"
    }
   ],
   "source": [
    "# Standardize specific enteries in the Company/Brand column to ensure consistency \n",
    "df['Company/Brand'] = df['Company/Brand'].replace({\n",
    "    \"byju’s\": \"byju's\",\n",
    "    \"byju\": \"byju's\",\n",
    "    'mobile premier league': \"mobile premier league (mpl)\",\n",
    "    'mpl': \"mobile premier league (mpl)\",\n",
    "    'truebalance': 'true balance',\n",
    "    'reliance retail': 'reliance retail ventures'\n",
    "})\n",
    "\n",
    "# Verify changes\n",
    "df['Company/Brand'].value_counts()"
   ]
  },
  {
   "cell_type": "code",
   "execution_count": 164,
   "metadata": {},
   "outputs": [
    {
     "data": {
      "text/plain": [
       "Sector\n",
       "fintech                               273\n",
       "edtech                                225\n",
       "financial services                    117\n",
       "e-commerce                             95\n",
       "healthcare                             67\n",
       "                                     ... \n",
       "online financial service                1\n",
       "warehouse                               1\n",
       "deeptech startup                        1\n",
       "multinational conglomerate company      1\n",
       "staffing & recruiting                   1\n",
       "Name: count, Length: 550, dtype: int64"
      ]
     },
     "execution_count": 164,
     "metadata": {},
     "output_type": "execute_result"
    }
   ],
   "source": [
    "df['Sector'].value_counts()"
   ]
  },
  {
   "cell_type": "code",
   "execution_count": 165,
   "metadata": {},
   "outputs": [
    {
     "data": {
      "text/plain": [
       "Sector\n",
       "fintech                     273\n",
       "edtech                      226\n",
       "e-commerce                  119\n",
       "financial services          117\n",
       "logistics & supply chain     71\n",
       "                           ... \n",
       "appliance                     1\n",
       "ar/vr                         1\n",
       "hr                            1\n",
       "packaging services            1\n",
       "staffing & recruiting         1\n",
       "Name: count, Length: 525, dtype: int64"
      ]
     },
     "execution_count": 165,
     "metadata": {},
     "output_type": "execute_result"
    }
   ],
   "source": [
    "# Standardize specific enteries in the Sector column to ensure consistency \n",
    "df['Sector'] = df['Sector'].replace({\n",
    "    \"ecommerce\": \"e-commerce\",\n",
    "    'e-commerce platforms': \"e-commerce\",\n",
    "    'agtech': 'agritech',\n",
    "    'edttech': 'edtech',\n",
    "    'hr tech startup': 'hr tech',\n",
    "    \"saas startup\": \"saas\",\n",
    "    'saas  startup': \"saas\",\n",
    "    'saas/edtech': \"saas\",\n",
    "    'ai startup': 'ai',\n",
    "    'ai health': 'ai',\n",
    "    'ai robotics': 'ai',\n",
    "    'ai chatbot': 'ai',\n",
    "    'ai platform': 'ai',\n",
    "    'tech startup': 'tech',\n",
    "    'tech company': 'tech',\n",
    "    'transportation': 'logistics & supply chain',\n",
    "    'supply chain, agritech': 'logistics & supply chain',\n",
    "    'transport': 'logistics & supply chain',\n",
    "    'logistics': 'logistics & supply chain',\n",
    "    'gaming startup': 'games',\n",
    "    'computer games': 'games',\n",
    "    'gaming': 'games',\n",
    "    'online games': 'games',\n",
    "    'crypto': 'cryptocurrency',\n",
    "    'insurtech': 'insuretech'\n",
    "})\n",
    "\n",
    "# Verify changes\n",
    "df['Sector'].value_counts()\n",
    "\n"
   ]
  },
  {
   "cell_type": "code",
   "execution_count": 166,
   "metadata": {},
   "outputs": [
    {
     "data": {
      "text/plain": [
       "Sector\n",
       "Fintech                     273\n",
       "Edtech                      226\n",
       "E-Commerce                  119\n",
       "Financial Services          117\n",
       "Logistics & Supply Chain     71\n",
       "                           ... \n",
       "Appliance                     1\n",
       "Ar/Vr                         1\n",
       "Hr                            1\n",
       "Packaging Services            1\n",
       "Staffing & Recruiting         1\n",
       "Name: count, Length: 525, dtype: int64"
      ]
     },
     "execution_count": 166,
     "metadata": {},
     "output_type": "execute_result"
    }
   ],
   "source": [
    "# Convert only the first letter of each sector name to uppercase for readability sake\n",
    "df['Sector'] = df['Sector'].str.title()\n",
    "\n",
    "# Verify changes\n",
    "df['Sector'].value_counts()"
   ]
  },
  {
   "cell_type": "code",
   "execution_count": 167,
   "metadata": {},
   "outputs": [
    {
     "data": {
      "text/plain": [
       "Sector\n",
       "Fintech                     273\n",
       "Edtech                      226\n",
       "E-Commerce                  119\n",
       "Financial Services          117\n",
       "Logistics & Supply Chain     71\n",
       "                           ... \n",
       "Ar/Vr                         1\n",
       "Hr                            1\n",
       "Packaging Services            1\n",
       "Food & Logistics              1\n",
       "Staffing & Recruiting         1\n",
       "Name: count, Length: 524, dtype: int64"
      ]
     },
     "execution_count": 167,
     "metadata": {},
     "output_type": "execute_result"
    }
   ],
   "source": [
    "# Remove unwanted Sector enteries\n",
    "unwanted_values = [\"Moeving Is India'S Only Electric Mobility Focused Technology Platform With A Vision To Accelerate Ev Adoption In India.\"]\n",
    "\n",
    "df = df[~df['Sector'].isin(unwanted_values)]\n",
    "\n",
    "# Verify changes\n",
    "df['Sector'].value_counts()"
   ]
  },
  {
   "cell_type": "code",
   "execution_count": 168,
   "metadata": {},
   "outputs": [
    {
     "data": {
      "text/plain": [
       "Company/Brand    0\n",
       "Sector           0\n",
       "Stage            0\n",
       "Amount ($)       0\n",
       "HeadQuarter      0\n",
       "What it does     0\n",
       "Year             0\n",
       "dtype: int64"
      ]
     },
     "execution_count": 168,
     "metadata": {},
     "output_type": "execute_result"
    }
   ],
   "source": [
    "# Checking for null values in the concatenated dataset\n",
    "df.isnull().sum()"
   ]
  },
  {
   "cell_type": "code",
   "execution_count": 169,
   "metadata": {},
   "outputs": [],
   "source": [
    "cleaned_df = df\n",
    "\n",
    "csv_file_path = r\"C:\\Users\\hp\\Desktop\\DATA ANALYTICS\\AZUBI\\FINAL_PROJECTS\\P1\\LP-INDIAN-ECOSYSTEM\\cleaned_df_coc.xlsx\"\n",
    "\n",
    "cleaned_df.to_excel(csv_file_path, engine='openpyxl',index=False)\n"
   ]
  },
  {
   "cell_type": "code",
   "execution_count": 170,
   "metadata": {},
   "outputs": [
    {
     "data": {
      "text/html": [
       "<div>\n",
       "<style scoped>\n",
       "    .dataframe tbody tr th:only-of-type {\n",
       "        vertical-align: middle;\n",
       "    }\n",
       "\n",
       "    .dataframe tbody tr th {\n",
       "        vertical-align: top;\n",
       "    }\n",
       "\n",
       "    .dataframe thead th {\n",
       "        text-align: right;\n",
       "    }\n",
       "</style>\n",
       "<table border=\"1\" class=\"dataframe\">\n",
       "  <thead>\n",
       "    <tr style=\"text-align: right;\">\n",
       "      <th></th>\n",
       "      <th>Company/Brand</th>\n",
       "      <th>Sector</th>\n",
       "      <th>Stage</th>\n",
       "      <th>Amount ($)</th>\n",
       "      <th>HeadQuarter</th>\n",
       "      <th>What it does</th>\n",
       "      <th>Year</th>\n",
       "    </tr>\n",
       "  </thead>\n",
       "  <tbody>\n",
       "    <tr>\n",
       "      <th>0</th>\n",
       "      <td>thecollegefever</td>\n",
       "      <td>Brand Marketing</td>\n",
       "      <td>Seed</td>\n",
       "      <td>250000.0</td>\n",
       "      <td>Bangalore</td>\n",
       "      <td>TheCollegeFever is a hub for fun, fiesta and f...</td>\n",
       "      <td>2018-01-01</td>\n",
       "    </tr>\n",
       "    <tr>\n",
       "      <th>1</th>\n",
       "      <td>happy cow dairy</td>\n",
       "      <td>Agriculture</td>\n",
       "      <td>Seed</td>\n",
       "      <td>584400.0</td>\n",
       "      <td>Mumbai</td>\n",
       "      <td>A startup which aggregates milk from dairy far...</td>\n",
       "      <td>2018-01-01</td>\n",
       "    </tr>\n",
       "    <tr>\n",
       "      <th>2</th>\n",
       "      <td>myloancare</td>\n",
       "      <td>Credit</td>\n",
       "      <td>Series A</td>\n",
       "      <td>949650.0</td>\n",
       "      <td>Gurgaon</td>\n",
       "      <td>Leading Online Loans Marketplace in India</td>\n",
       "      <td>2018-01-01</td>\n",
       "    </tr>\n",
       "    <tr>\n",
       "      <th>3</th>\n",
       "      <td>payme india</td>\n",
       "      <td>Financial Services</td>\n",
       "      <td>Angel Round</td>\n",
       "      <td>2000000.0</td>\n",
       "      <td>Noida</td>\n",
       "      <td>PayMe India is an innovative FinTech organizat...</td>\n",
       "      <td>2018-01-01</td>\n",
       "    </tr>\n",
       "    <tr>\n",
       "      <th>4</th>\n",
       "      <td>eunimart</td>\n",
       "      <td>E-Commerce</td>\n",
       "      <td>Seed</td>\n",
       "      <td>1300000.0</td>\n",
       "      <td>Hyderabad</td>\n",
       "      <td>Eunimart is a one stop solution for merchants ...</td>\n",
       "      <td>2018-01-01</td>\n",
       "    </tr>\n",
       "    <tr>\n",
       "      <th>...</th>\n",
       "      <td>...</td>\n",
       "      <td>...</td>\n",
       "      <td>...</td>\n",
       "      <td>...</td>\n",
       "      <td>...</td>\n",
       "      <td>...</td>\n",
       "      <td>...</td>\n",
       "    </tr>\n",
       "    <tr>\n",
       "      <th>2857</th>\n",
       "      <td>gigforce</td>\n",
       "      <td>Staffing &amp; Recruiting</td>\n",
       "      <td>Pre-Series A</td>\n",
       "      <td>3000000.0</td>\n",
       "      <td>Gurugram</td>\n",
       "      <td>A gig/on-demand staffing company.</td>\n",
       "      <td>2021-01-01</td>\n",
       "    </tr>\n",
       "    <tr>\n",
       "      <th>2858</th>\n",
       "      <td>vahdam</td>\n",
       "      <td>Food &amp; Beverages</td>\n",
       "      <td>Series D</td>\n",
       "      <td>20000000.0</td>\n",
       "      <td>New Delhi</td>\n",
       "      <td>VAHDAM is among the world’s first vertically i...</td>\n",
       "      <td>2021-01-01</td>\n",
       "    </tr>\n",
       "    <tr>\n",
       "      <th>2859</th>\n",
       "      <td>leap finance</td>\n",
       "      <td>Financial Services</td>\n",
       "      <td>Series C</td>\n",
       "      <td>55000000.0</td>\n",
       "      <td>Bangalore</td>\n",
       "      <td>International education loans for high potenti...</td>\n",
       "      <td>2021-01-01</td>\n",
       "    </tr>\n",
       "    <tr>\n",
       "      <th>2860</th>\n",
       "      <td>collegedekho</td>\n",
       "      <td>Edtech</td>\n",
       "      <td>Series B</td>\n",
       "      <td>26000000.0</td>\n",
       "      <td>Gurugram</td>\n",
       "      <td>Collegedekho.com is Student’s Partner, Friend ...</td>\n",
       "      <td>2021-01-01</td>\n",
       "    </tr>\n",
       "    <tr>\n",
       "      <th>2861</th>\n",
       "      <td>werize</td>\n",
       "      <td>Financial Services</td>\n",
       "      <td>Series A</td>\n",
       "      <td>8000000.0</td>\n",
       "      <td>Bangalore</td>\n",
       "      <td>India’s first socially distributed full stack ...</td>\n",
       "      <td>2021-01-01</td>\n",
       "    </tr>\n",
       "  </tbody>\n",
       "</table>\n",
       "<p>2862 rows × 7 columns</p>\n",
       "</div>"
      ],
      "text/plain": [
       "        Company/Brand                 Sector         Stage  Amount ($)  \\\n",
       "0     thecollegefever        Brand Marketing          Seed    250000.0   \n",
       "1     happy cow dairy            Agriculture          Seed    584400.0   \n",
       "2          myloancare                 Credit      Series A    949650.0   \n",
       "3         payme india     Financial Services   Angel Round   2000000.0   \n",
       "4            eunimart             E-Commerce          Seed   1300000.0   \n",
       "...               ...                    ...           ...         ...   \n",
       "2857         gigforce  Staffing & Recruiting  Pre-Series A   3000000.0   \n",
       "2858           vahdam       Food & Beverages      Series D  20000000.0   \n",
       "2859     leap finance     Financial Services      Series C  55000000.0   \n",
       "2860     collegedekho                 Edtech      Series B  26000000.0   \n",
       "2861           werize     Financial Services      Series A   8000000.0   \n",
       "\n",
       "     HeadQuarter                                       What it does       Year  \n",
       "0      Bangalore  TheCollegeFever is a hub for fun, fiesta and f... 2018-01-01  \n",
       "1         Mumbai  A startup which aggregates milk from dairy far... 2018-01-01  \n",
       "2        Gurgaon          Leading Online Loans Marketplace in India 2018-01-01  \n",
       "3          Noida  PayMe India is an innovative FinTech organizat... 2018-01-01  \n",
       "4      Hyderabad  Eunimart is a one stop solution for merchants ... 2018-01-01  \n",
       "...          ...                                                ...        ...  \n",
       "2857    Gurugram                  A gig/on-demand staffing company. 2021-01-01  \n",
       "2858   New Delhi  VAHDAM is among the world’s first vertically i... 2021-01-01  \n",
       "2859   Bangalore  International education loans for high potenti... 2021-01-01  \n",
       "2860    Gurugram  Collegedekho.com is Student’s Partner, Friend ... 2021-01-01  \n",
       "2861   Bangalore  India’s first socially distributed full stack ... 2021-01-01  \n",
       "\n",
       "[2862 rows x 7 columns]"
      ]
     },
     "execution_count": 170,
     "metadata": {},
     "output_type": "execute_result"
    }
   ],
   "source": [
    "coc_excel = pd.read_excel(r\"C:\\Users\\hp\\Desktop\\DATA ANALYTICS\\AZUBI\\FINAL_PROJECTS\\P1\\LP-INDIAN-ECOSYSTEM\\cleaned_df_coc.xlsx\") \n",
    "\n",
    "coc_excel"
   ]
  },
  {
   "cell_type": "markdown",
   "metadata": {},
   "source": [
    "# Answering Business Questions\n",
    "\n",
    "1.\tWhat is the trend in the amount of funding received by Indian startups over the years?"
   ]
  },
  {
   "cell_type": "code",
   "execution_count": 522,
   "metadata": {},
   "outputs": [
    {
     "data": {
      "image/png": "[encoded data removed]",
      "text/plain": [
       "<Figure size 1000x400 with 1 Axes>"
      ]
     },
     "metadata": {},
     "output_type": "display_data"
    }
   ],
   "source": [
    "# Group the data by year and sum the funding amounts\n",
    "grouped_data = df.groupby(df['Year'].dt.strftime('%Y'))['Amount ($)'].sum().reset_index()\n",
    "\n",
    "# Plotting the trend\n",
    "plt.figure(figsize=(10, 4))\n",
    "sns.lineplot(x='Year', y='Amount ($)', data=grouped_data, marker='o', color='green')\n",
    "plt.title('Trend in Funding Received by Indian Startups Over the Years')\n",
    "plt.xlabel('Year')\n",
    "plt.ylabel('Total Funding Amount ($)')\n",
    "plt.show()"
   ]
  },
  {
   "cell_type": "markdown",
   "metadata": {},
   "source": [
    "Insight: Based on our observations, there has been a consistent upward trend in the amount of funding received by Indian startups since 2019. The increasing trend in fundings over the years suggests a growing and promising Indian startup ecosystem. In light of this insight, ODYSSEY Inc. is positioned to venture into the Indian market, leveraging the positive trajectory of funding in the region"
   ]
  },
  {
   "cell_type": "markdown",
   "metadata": {},
   "source": [
    "2.  Which sectors or industries received the highest amount of funding in India from 2018 to 2021?"
   ]
  },
  {
   "cell_type": "code",
   "execution_count": 130,
   "metadata": {},
   "outputs": [
    {
     "data": {
      "image/png": "[encoded data removed]",
      "text/plain": [
       "<Figure size 1000x400 with 1 Axes>"
      ]
     },
     "metadata": {},
     "output_type": "display_data"
    }
   ],
   "source": [
    "# Filter data for the years 2018 to 2021 using the .isin() function\n",
    "filtered_data = df[df['Year'].dt.year.isin([2018, 2019, 2020, 2021])]\n",
    "\n",
    "# Group the data by sector and sum the funding amounts\n",
    "sector_data = filtered_data.groupby('Sector')['Amount ($)'].sum().reset_index()\n",
    "\n",
    "# Sort the data by total funding amount in descending order\n",
    "sector_data = sector_data.sort_values(by='Amount ($)', ascending=False)\n",
    "\n",
    "# Selecting the top 5 sectors\n",
    "top_5_sectors = sector_data.head(5)\n",
    "\n",
    "# Plotting the sectors with the highest funding\n",
    "plt.figure(figsize=(10, 4))\n",
    "sns.barplot(x='Amount ($)', y='Sector', data=top_5_sectors, palette='viridis')\n",
    "plt.title('Top 5 Sectors by Funding in India (2018-2021)')\n",
    "plt.xlabel('Total Funding Amount ($)')\n",
    "plt.ylabel('Sector')\n",
    "# plt.grid(axis='x')\n",
    "plt.show()\n"
   ]
  },
  {
   "cell_type": "markdown",
   "metadata": {},
   "source": [
    "INSIGHT:\n",
    "This shows that, the fintech sector stands out as the predominant recipient of startup funding. Recognizing this trend, ODYSSEY Inc. can leverage this insight by exploring opportunities within the technology industry for startup funding while venturing into the Indian ecosystem."
   ]
  },
  {
   "cell_type": "markdown",
   "metadata": {},
   "source": [
    "3.  Do Startups in certain sectors tend to receive more funding than others based on their location"
   ]
  },
  {
   "cell_type": "code",
   "execution_count": 132,
   "metadata": {},
   "outputs": [
    {
     "data": {
      "text/plain": [
       "<Figure size 1200x800 with 0 Axes>"
      ]
     },
     "metadata": {},
     "output_type": "display_data"
    },
    {
     "data": {
      "image/png": "[encoded data removed]",
      "text/plain": [
       "<Figure size 1200x800 with 1 Axes>"
      ]
     },
     "metadata": {},
     "output_type": "display_data"
    }
   ],
   "source": [
    "\n",
    "import matplotlib.ticker as mtick\n",
    "\n",
    "# Group by 'Sector, 'HeadQuarter' and calculate the total funding for each group\n",
    "# 'agg'function to apply different aggregation functions to different columns.  \n",
    "grouped_df = df.groupby(['Sector', 'HeadQuarter']).agg({'Amount ($)': 'sum', 'Year': 'first'}).reset_index()\n",
    " \n",
    "# get the top sectors with the highest total funding\n",
    "top_5 = 5\n",
    "top_sectors = grouped_df.groupby('Sector')['Amount ($)'].sum().nlargest(top_5).index\n",
    " \n",
    "# Create a column 'Sector_grouped' to categorize sectors from top sector\n",
    "grouped_df['Sector_grouped'] = grouped_df['Sector'].apply(lambda x: x if x in top_sectors else 'Other')\n",
    " \n",
    "# the top HeadQuarters with the highest total funding\n",
    "top_hq = grouped_df.groupby('HeadQuarter')['Amount ($)'].sum().nlargest(top_5).index\n",
    " \n",
    "# Create a new column 'HQ_grouped' to categorize HeadQuarters from top hq\n",
    "grouped_df['HQ_grouped'] = grouped_df['HeadQuarter'].apply(lambda x: x if x in top_hq else 'Other')\n",
    " \n",
    "# Aggregate data before pivoting\n",
    "pivot_df = grouped_df.groupby(['HQ_grouped', 'Sector_grouped'])['Amount ($)'].sum().unstack().fillna(0)\n",
    " \n",
    "# Convert 'Amount ($)' to billions with two significant figures and dividing by 1 billion\n",
    "pivot_df = pivot_df / 1e9\n",
    " \n",
    "# Plotting\n",
    "plt.figure(figsize=(12, 8))\n",
    "#sns.set(style=\"whitegrid\")\n",
    "ax = pivot_df.plot(kind='barh', stacked=True, colormap='viridis', edgecolor='k', figsize=(12, 8))\n",
    "ax.set_ylabel('HeadQuarter')\n",
    "ax.set_xlabel('Total Amount ($B)')\n",
    "ax.set_title('Total Funding by Sectors and HeadQuarters')\n",
    "plt.gca().xaxis.set_major_formatter(mtick.StrMethodFormatter('${x:,.0f}'))\n",
    "ax.grid(False)\n",
    " \n",
    "#plot legend (sector)\n",
    "ax.legend(title='Sector', bbox_to_anchor=(1.05, 1), loc='upper left')\n",
    "plt.show()\n",
    "\n",
    "\n"
   ]
  },
  {
   "cell_type": "markdown",
   "metadata": {},
   "source": [
    "4. What is the total funding amounts received by startups in different locations within India?"
   ]
  },
  {
   "cell_type": "code",
   "execution_count": 136,
   "metadata": {},
   "outputs": [
    {
     "data": {
      "image/png": "[encoded data removed]",
      "text/plain": [
       "<Figure size 1200x800 with 1 Axes>"
      ]
     },
     "metadata": {},
     "output_type": "display_data"
    }
   ],
   "source": [
    "# get top hq with the highest total funding\n",
    "top = 10\n",
    "top_hq = df.groupby('HeadQuarter')['Amount ($)'].sum().nlargest(top).index\n",
    "\n",
    "# Filter to include only the top locations\n",
    "df_top_hq = df[df['HeadQuarter'].isin(top_hq)]\n",
    "\n",
    "# Group by 'HeadQuarter' and calculate the total funding for each location\n",
    "hq_funding = df_top_hq.groupby('HeadQuarter')['Amount ($)'].sum().sort_values(ascending=False).reset_index()\n",
    "\n",
    "# Plotting \n",
    "plt.figure(figsize=(12, 8))\n",
    "sns.set(style=\"whitegrid\")\n",
    "ax = sns.barplot(x='HeadQuarter', y='Amount ($)', data=hq_funding, palette='plasma', edgecolor='k')\n",
    "ax.set_xlabel('HeadQuarter')\n",
    "ax.set_ylabel('Total Amount ($)')\n",
    "ax.set_title(f'Locations by Total Funding in India')\n",
    "#ax.set_xticklabels(ax.get_xticklabels(), rotation=25, ha='right') \n",
    "ax.grid(False)\n",
    "\n",
    "# Add annotations \n",
    "for i, value in enumerate(hq_funding['Amount ($)']):\n",
    "    formatted_value = \"${:,.0f}\".format(value)  \n",
    "    ax.text(i, value + 0.02 * max(hq_funding['Amount ($)']), formatted_value,\n",
    "            ha='center', va='bottom', color='black', fontsize=8)\n",
    "\n",
    "plt.show()\n"
   ]
  },
  {
   "cell_type": "markdown",
   "metadata": {},
   "source": [
    "INSIGHT: Observing that Mumbai stands out with the highest startup funding among various locations, it is evident that there is a notable disparity in funding across different regions. This underscores the significance of considering location as a crucial factor for startup ventures, making it essential for Odyssey Inc. as they explore opportunities within the Indian ecosystem."
   ]
  },
  {
   "cell_type": "markdown",
   "metadata": {},
   "source": [
    "5. What are the top 10 companies with the highest funding?"
   ]
  },
  {
   "cell_type": "code",
   "execution_count": 137,
   "metadata": {},
   "outputs": [
    {
     "data": {
      "image/png": "[encoded data removed]",
      "text/plain": [
       "<Figure size 1200x800 with 1 Axes>"
      ]
     },
     "metadata": {},
     "output_type": "display_data"
    }
   ],
   "source": [
    "\n",
    "# get top 10 companies with the highest funding\n",
    "top_10= 10\n",
    "top_companies = df.groupby('Company/Brand')['Amount ($)'].sum().nlargest(top_10).index\n",
    "\n",
    "# Filter to include only the top companies\n",
    "df_top_companies = df[df['Company/Brand'].isin(top_companies)]\n",
    "\n",
    "# Group by 'Company/Brand' and calculate the total funding for each company\n",
    "company_funding = df_top_companies.groupby('Company/Brand')['Amount ($)'].sum().sort_values(ascending=False)\n",
    "\n",
    "# Convert 'Amount ($)' to billions with two significant figures and dividing by 1 billion\n",
    "company_funding = company_funding / 1e9  \n",
    "\n",
    "# Plotting\n",
    "plt.figure(figsize=(12, 8))\n",
    "ax = company_funding.plot(kind='bar', color='green', edgecolor='k')\n",
    "plt.xlabel('Company/Brand')\n",
    "plt.ylabel('Total Amount ($B)')\n",
    "plt.title('Top 10 Companies with the Highest Funding')\n",
    "plt.xticks(rotation=45, ha='right') \n",
    "plt.grid(False)\n",
    "\n",
    "#Format x-axis ticks with commas and USD\n",
    "plt.gca().yaxis.set_major_formatter(mtick.StrMethodFormatter('${x:,.0f}'))\n",
    "\n",
    "plt.show()"
   ]
  },
  {
   "cell_type": "markdown",
   "metadata": {},
   "source": [
    "INSIGHT: Upon analysis, we've identified the top 10 leading companies/brands in the Indian ecosystem. This insight provides Odyssey Inc. with valuable information about key competitors within the ecosystem, allowing them to strategize and distinguish themselves effectively."
   ]
  },
  {
   "cell_type": "markdown",
   "metadata": {},
   "source": [
    "6. What is the top 10 stages average amount of funds received by Indian startups "
   ]
  },
  {
   "cell_type": "code",
   "execution_count": 139,
   "metadata": {},
   "outputs": [
    {
     "data": {
      "image/png": "[encoded data removed]",
      "text/plain": [
       "<Figure size 1200x800 with 1 Axes>"
      ]
     },
     "metadata": {},
     "output_type": "display_data"
    }
   ],
   "source": [
    "\n",
    "# get top 10 stages with the highest mean funding\n",
    "top_10= 10\n",
    "top_stage =df.groupby('Stage')['Amount ($)'].mean().nlargest(top_10).index\n",
    "\n",
    "# Filter to include only the top stages\n",
    "df_top_stage = df[df['Stage'].isin(top_stage)]\n",
    "\n",
    "# Group by 'Stage' and calculate the total funding for each company\n",
    "stage_average_funding = df_top_stage.groupby('Stage')['Amount ($)'].mean().sort_values(ascending=False)\n",
    "\n",
    "# Plotting\n",
    "plt.figure(figsize=(12, 8))\n",
    "ax = stage_average_funding.plot(kind='bar', color='orange')\n",
    "plt.xlabel('Stage')\n",
    "plt.ylabel('Average Amount ($)')\n",
    "plt.title('Average Funding of top 10 Stages')\n",
    "plt.gca().yaxis.set_major_formatter(mtick.StrMethodFormatter('${x:,.0f}'))\n",
    "plt.grid(False)\n",
    "plt.show()\n"
   ]
  },
  {
   "cell_type": "markdown",
   "metadata": {},
   "source": [
    "7. What are the startups that received the highest funding each year?"
   ]
  },
  {
   "cell_type": "code",
   "execution_count": 140,
   "metadata": {},
   "outputs": [
    {
     "data": {
      "image/png": "[encoded data removed]",
      "text/plain": [
       "<Figure size 1200x800 with 1 Axes>"
      ]
     },
     "metadata": {},
     "output_type": "display_data"
    }
   ],
   "source": [
    "# format Year using strftime\n",
    "df['Year'] = df['Year'].dt.strftime('%Y')\n",
    "\n",
    "# Group by Year and get the startup with the highest funding each year\n",
    "startup_each_year = df.loc[df.groupby('Year')['Amount ($)'].idxmax()]\n",
    " \n",
    "# Convert 'Amount ($)' to billions with two significant figures and dividing by 1 billion\n",
    "startup_each_year['Amount ($)'] = startup_each_year['Amount ($)'] / 1e9  \n",
    "\n",
    "# Plotting\n",
    "plt.figure(figsize=(12, 8))\n",
    "sns.barplot(x='Year', y='Amount ($)', hue='Company/Brand', data=startup_each_year, palette='viridis') #hue to represent the company variable using colour\n",
    "plt.xlabel('Year')\n",
    "plt.ylabel('Total Funding Amount ($B)')\n",
    "plt.title('Startups With Highest Funding Each Year')\n",
    "plt.grid(False)\n",
    "plt.gca().yaxis.set_major_formatter('${x:,.0f}')\n",
    "\n",
    "plt.show()"
   ]
  },
  {
   "cell_type": "markdown",
   "metadata": {},
   "source": [
    "8. Are there any patterns in the location of a company's headquarters and the amount of funding it receives?"
   ]
  },
  {
   "cell_type": "code",
   "execution_count": 145,
   "metadata": {},
   "outputs": [
    {
     "data": {
      "image/png": "[encoded data removed]",
      "text/plain": [
       "<Figure size 1200x800 with 1 Axes>"
      ]
     },
     "metadata": {},
     "output_type": "display_data"
    }
   ],
   "source": [
    "# Group by 'HeadQuarter' and calculate the total funding for each location\n",
    "hq_funding = df.groupby('HeadQuarter')['Amount ($)'].sum().reset_index()\n",
    "\n",
    "# get the top Company/Brand values based on total funding\n",
    "top_companies = df['Company/Brand'].value_counts().nlargest(10).index\n",
    "df_top_companies = df[df['Company/Brand'].isin(top_companies)]\n",
    "\n",
    "# Keep only the top hq based on total funding\n",
    "top_hq = hq_funding.nlargest(10, 'Amount ($)')\n",
    "\n",
    "# Merge the top hq back into the original DataFrame\n",
    "df_top_locations = pd.merge(df, top_hq, on='HeadQuarter', how='inner', suffixes=('_original', '_top'))\n",
    "\n",
    "# filter the top Company/Brand values based on total funding within the top locations\n",
    "top_companies_in_top_locations = df_top_locations['Company/Brand'].value_counts().nlargest(10).index\n",
    "df_top_locations_top_companies = df_top_locations[df_top_locations['Company/Brand'].isin(top_companies_in_top_locations)]\n",
    "\n",
    "# Convert 'Amount ($)' to billions with two significant figures and dividing by 1 billion\n",
    "df_top_locations_top_companies['Amount ($)_top'] = df_top_locations_top_companies['Amount ($)_top'] / 1e9  \n",
    "\n",
    "# Plotting\n",
    "plt.figure(figsize=(12, 8))\n",
    "sns.scatterplot(x='HeadQuarter', y='Amount ($)_top', hue='Company/Brand', data=df_top_locations_top_companies, palette='viridis', size='Company/Brand', sizes=(30, 200))\n",
    "\n",
    "plt.xlabel('Company Location')\n",
    "plt.ylabel('Funding Amount($B)')\n",
    "plt.title('Funding Amount by Company Location and Top Companies')\n",
    "plt.gca().yaxis.set_major_formatter('${x:,.0f}')\n",
    "plt.grid(False)\n",
    "plt.legend(title='Company/Brand', bbox_to_anchor=(1.05, 1), loc='upper left')\n",
    "\n",
    "plt.show()"
   ]
  },
  {
   "cell_type": "markdown",
   "metadata": {},
   "source": [
    "INSIGHT: Upon observation of the scatter plot depicting the relationship between a company's headquarters location and the funding it receives, a positive trend is discernible. This trend is characterized by an upward movement from left to right."
   ]
  },
  {
   "cell_type": "markdown",
   "metadata": {},
   "source": [
    "### Statistic test (t-test) "
   ]
  },
  {
   "cell_type": "code",
   "execution_count": 151,
   "metadata": {},
   "outputs": [],
   "source": [
    "#According to a report by LinkedIn, Mumbai is the top location receiving funding in the Indian ecosystem from 2018 to 2021,\n",
    "#with a total funding of $231.53 billion. Bangalore is the second-highest funded location, with $24.52 billion in funding.\n",
    "#Other top-funded locations include Gurugram, New Delhi, and California.\n",
    "\n",
    "# group Amount based on HeadQuarter \n",
    "Mumbai_group = df[df['HeadQuarter'] == 'Mumbai']['Amount ($)']\n",
    "Other_group = df[df['HeadQuarter'].isin(['Bangalore','Gurugram','New Delhi','California'])]['Amount ($)'] \n",
    "\n"
   ]
  },
  {
   "cell_type": "code",
   "execution_count": 152,
   "metadata": {},
   "outputs": [
    {
     "name": "stdout",
     "output_type": "stream",
     "text": [
      "p-value: 0.025905697264358884\n",
      "t_stats: 2.2294554388090577\n",
      "Reject null hypothesis: Receiving more funds independant on location.\n"
     ]
    }
   ],
   "source": [
    "# Testing\n",
    "t_stats , p_value = stats.ttest_ind(Mumbai_group,Other_group)\n",
    "print(\"p-value:\",p_value)\n",
    "print(\"t_stats:\",t_stats)\n",
    "if (p_value<0.05):\n",
    "    print('Reject null hypothesis: Receiving more funds independant on location.')\n",
    "else:\n",
    "    print('We do not have enough evidence to reject the null hypothesis.')"
   ]
  },
  {
   "cell_type": "markdown",
   "metadata": {},
   "source": [
    "### Hypothesis observation\n",
    "\n",
    "There is sufficient evidence to reject the null hypothesis, indicating that the assertion \"Receiving more funds is independent of location for startups in India\" is not supported. Instead, the alternative hypothesis, suggesting that there is no significant relationship between the amount of funds received by startups in India and their location, is favored."
   ]
  }
 ],
 "metadata": {
  "kernelspec": {
   "display_name": "Python 3",
   "language": "python",
   "name": "python3"
  },
  "language_info": {
   "codemirror_mode": {
    "name": "ipython",
    "version": 3
   },
   "file_extension": ".py",
   "mimetype": "text/x-python",
   "name": "python",
   "nbconvert_exporter": "python",
   "pygments_lexer": "ipython3",
   "version": "3.10.11"
  }
 },
 "nbformat": 4,
 "nbformat_minor": 2
}
